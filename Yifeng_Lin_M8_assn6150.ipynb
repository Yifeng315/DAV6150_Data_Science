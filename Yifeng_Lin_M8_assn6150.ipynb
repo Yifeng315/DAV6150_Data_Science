{
 "cells": [
  {
   "cell_type": "markdown",
   "metadata": {},
   "source": [
    "# DAV 6150 Module 8 Assignment\n",
    "# Classification via KNN & SVM"
   ]
  },
  {
   "cell_type": "markdown",
   "metadata": {},
   "source": [
    "## Introduction:  \n",
    "Like many industries, the insurance industry is always interested in broadening its relationships with existing customers. To that end, insurance companies will often attempt to sell additional products to their existing customers. For example, if you have a homeowner’s policy with a particular insurance company, they will likely try to also sell you an auto insurance policy, or perhaps a water damage supplemental policy to your homeowner’s policy, etc. You’ve been tasked by a large insurance company with the development of a model \n",
    "that can predict whether or not a given existing customer is likely to purchase an additional insurance product from the company. The insurance company plans to use the output of such a model in an attempt to improve its customer retention and sales practices.\n",
    "\n",
    "The data set is comprised of more than 14,000 observations of 1 response/dependent variable (which indicates whether or not the new insurance product was purchased) and 14 explanatory/independent variables. The insurance company gathered data about customers to whom they offered the new product. You are given information about whether they did or did not sign up for the new product, together with some \n",
    "customer information and information about their buying behavior of two other products."
   ]
  },
  {
   "cell_type": "code",
   "execution_count": 2,
   "metadata": {},
   "outputs": [],
   "source": [
    "# load pandas, numpy, matplotlib and seaborn\n",
    "import pandas as pd\n",
    "import numpy as np\n",
    "import matplotlib.pyplot as plt\n",
    "import seaborn as sns"
   ]
  },
  {
   "cell_type": "code",
   "execution_count": 3,
   "metadata": {},
   "outputs": [
    {
     "data": {
      "text/html": [
       "<div>\n",
       "<style scoped>\n",
       "    .dataframe tbody tr th:only-of-type {\n",
       "        vertical-align: middle;\n",
       "    }\n",
       "\n",
       "    .dataframe tbody tr th {\n",
       "        vertical-align: top;\n",
       "    }\n",
       "\n",
       "    .dataframe thead th {\n",
       "        text-align: right;\n",
       "    }\n",
       "</style>\n",
       "<table border=\"1\" class=\"dataframe\">\n",
       "  <thead>\n",
       "    <tr style=\"text-align: right;\">\n",
       "      <th></th>\n",
       "      <th>TARGET</th>\n",
       "      <th>loyalty</th>\n",
       "      <th>ID</th>\n",
       "      <th>age</th>\n",
       "      <th>city</th>\n",
       "      <th>LOR</th>\n",
       "      <th>prod_A</th>\n",
       "      <th>type_A</th>\n",
       "      <th>type_B</th>\n",
       "      <th>prod_B</th>\n",
       "      <th>turnover_A</th>\n",
       "      <th>turnover_B</th>\n",
       "      <th>contract</th>\n",
       "      <th>age_P</th>\n",
       "      <th>lor_M</th>\n",
       "    </tr>\n",
       "  </thead>\n",
       "  <tbody>\n",
       "    <tr>\n",
       "      <th>0</th>\n",
       "      <td>Y</td>\n",
       "      <td>99</td>\n",
       "      <td>77</td>\n",
       "      <td>66</td>\n",
       "      <td>2</td>\n",
       "      <td>0</td>\n",
       "      <td>0</td>\n",
       "      <td>0</td>\n",
       "      <td>0</td>\n",
       "      <td>0</td>\n",
       "      <td>333.561114</td>\n",
       "      <td>264.721010</td>\n",
       "      <td>2</td>\n",
       "      <td>66</td>\n",
       "      <td>3</td>\n",
       "    </tr>\n",
       "    <tr>\n",
       "      <th>1</th>\n",
       "      <td>Y</td>\n",
       "      <td>1</td>\n",
       "      <td>159</td>\n",
       "      <td>45</td>\n",
       "      <td>2</td>\n",
       "      <td>3</td>\n",
       "      <td>1</td>\n",
       "      <td>3</td>\n",
       "      <td>3</td>\n",
       "      <td>1</td>\n",
       "      <td>394.735699</td>\n",
       "      <td>284.904978</td>\n",
       "      <td>2</td>\n",
       "      <td>45</td>\n",
       "      <td>39</td>\n",
       "    </tr>\n",
       "    <tr>\n",
       "      <th>2</th>\n",
       "      <td>Y</td>\n",
       "      <td>1</td>\n",
       "      <td>220</td>\n",
       "      <td>42</td>\n",
       "      <td>2</td>\n",
       "      <td>2</td>\n",
       "      <td>1</td>\n",
       "      <td>3</td>\n",
       "      <td>6</td>\n",
       "      <td>1</td>\n",
       "      <td>342.180990</td>\n",
       "      <td>1175.589721</td>\n",
       "      <td>2</td>\n",
       "      <td>42</td>\n",
       "      <td>27</td>\n",
       "    </tr>\n",
       "    <tr>\n",
       "      <th>3</th>\n",
       "      <td>Y</td>\n",
       "      <td>99</td>\n",
       "      <td>303</td>\n",
       "      <td>31</td>\n",
       "      <td>2</td>\n",
       "      <td>0</td>\n",
       "      <td>0</td>\n",
       "      <td>0</td>\n",
       "      <td>0</td>\n",
       "      <td>0</td>\n",
       "      <td>453.757916</td>\n",
       "      <td>242.341754</td>\n",
       "      <td>2</td>\n",
       "      <td>31</td>\n",
       "      <td>3</td>\n",
       "    </tr>\n",
       "    <tr>\n",
       "      <th>4</th>\n",
       "      <td>Y</td>\n",
       "      <td>99</td>\n",
       "      <td>306</td>\n",
       "      <td>62</td>\n",
       "      <td>2</td>\n",
       "      <td>0</td>\n",
       "      <td>0</td>\n",
       "      <td>0</td>\n",
       "      <td>0</td>\n",
       "      <td>0</td>\n",
       "      <td>384.577469</td>\n",
       "      <td>287.008370</td>\n",
       "      <td>2</td>\n",
       "      <td>62</td>\n",
       "      <td>3</td>\n",
       "    </tr>\n",
       "  </tbody>\n",
       "</table>\n",
       "</div>"
      ],
      "text/plain": [
       "  TARGET  loyalty   ID  age  city  LOR  prod_A  type_A  type_B  prod_B  \\\n",
       "0      Y       99   77   66     2    0       0       0       0       0   \n",
       "1      Y        1  159   45     2    3       1       3       3       1   \n",
       "2      Y        1  220   42     2    2       1       3       6       1   \n",
       "3      Y       99  303   31     2    0       0       0       0       0   \n",
       "4      Y       99  306   62     2    0       0       0       0       0   \n",
       "\n",
       "   turnover_A   turnover_B  contract  age_P  lor_M  \n",
       "0  333.561114   264.721010         2     66      3  \n",
       "1  394.735699   284.904978         2     45     39  \n",
       "2  342.180990  1175.589721         2     42     27  \n",
       "3  453.757916   242.341754         2     31      3  \n",
       "4  384.577469   287.008370         2     62      3  "
      ]
     },
     "execution_count": 3,
     "metadata": {},
     "output_type": "execute_result"
    }
   ],
   "source": [
    "data = pd.read_csv('https://raw.githubusercontent.com/675874815/DAV-5401/master/M7_Data.csv')\n",
    "data.head()"
   ]
  },
  {
   "cell_type": "markdown",
   "metadata": {},
   "source": [
    "## Data Summary\n",
    "1. ID: Unique customer identifier\n",
    "2. TARGET: Indicator of buying the new product (0 = no, 1= yes)\n",
    "3. Loyalty: Loyalty level, from low to high (0 to 3), 99 = unclassified\n",
    "4. Age: Age in years\n",
    "5. City: Unique code per city\n",
    "6. Age_p: Age of partner in years\n",
    "7. LOR Length: of relationship in years\n",
    "8. LOR_m Length: of relationship in months\n",
    "9. Prod_A Bought: Product A (0=no, 1=yes)\n",
    "10. Type_A: Type of product A\n",
    "11. Turnover_A: Amount of money spent on Product A\n",
    "12. Prod_B: Bought Product B (0=no, 1=yes)\n",
    "13. Type_B: Type of product B\n",
    "14. Turnover_B: Amount of money spent on Product B\n",
    "15. Contract: Type of contract"
   ]
  },
  {
   "cell_type": "markdown",
   "metadata": {},
   "source": [
    "## Exploratory Data Analysis"
   ]
  },
  {
   "cell_type": "markdown",
   "metadata": {},
   "source": [
    "According to our domain knowledge, 'age', 'age_p', 'lor_leng', 'lor_m length', 'turnover_A', 'turnover_B' belong to numerical variables, others belong to categorical variables, so we will use histograms, box plots for numerical variables, and use bar plots for others. Since 'ID' has no analytical value and the values of 'contract' are all the same, we will not discuss them here."
   ]
  },
  {
   "cell_type": "markdown",
   "metadata": {},
   "source": [
    "Numerical Variables:\n",
    "1. Age \n",
    "\n",
    "2. Age_p\n",
    "\n",
    "3. LOR_Leng\n",
    "\n",
    "4. LOR_m_Length\n",
    "\n",
    "5. Turnover_A\n",
    "\n",
    "6. Turnover_B\n",
    "\n",
    "Categorical Variables:\n",
    "\n",
    "1. TARGET\n",
    "\n",
    "2. Loyalty\n",
    "\n",
    "3. City\n",
    "\n",
    "4. Prod_A Bought\n",
    "\n",
    "5. Type_A\n",
    "\n",
    "6. Prod_B\n",
    "\n",
    "7. Type_B"
   ]
  },
  {
   "cell_type": "code",
   "execution_count": 4,
   "metadata": {},
   "outputs": [
    {
     "name": "stdout",
     "output_type": "stream",
     "text": [
      "<class 'pandas.core.frame.DataFrame'>\n",
      "RangeIndex: 14016 entries, 0 to 14015\n",
      "Data columns (total 15 columns):\n",
      " #   Column      Non-Null Count  Dtype  \n",
      "---  ------      --------------  -----  \n",
      " 0   TARGET      14016 non-null  object \n",
      " 1   loyalty     14016 non-null  int64  \n",
      " 2   ID          14016 non-null  int64  \n",
      " 3   age         14016 non-null  int64  \n",
      " 4   city        14016 non-null  int64  \n",
      " 5   LOR         14016 non-null  int64  \n",
      " 6   prod_A      14016 non-null  int64  \n",
      " 7   type_A      14016 non-null  int64  \n",
      " 8   type_B      14016 non-null  int64  \n",
      " 9   prod_B      14016 non-null  int64  \n",
      " 10  turnover_A  14016 non-null  float64\n",
      " 11  turnover_B  14016 non-null  float64\n",
      " 12  contract    14016 non-null  int64  \n",
      " 13  age_P       14016 non-null  int64  \n",
      " 14  lor_M       14016 non-null  int64  \n",
      "dtypes: float64(2), int64(12), object(1)\n",
      "memory usage: 1.6+ MB\n"
     ]
    }
   ],
   "source": [
    "# Data information\n",
    "data.info()"
   ]
  },
  {
   "cell_type": "code",
   "execution_count": 5,
   "metadata": {},
   "outputs": [
    {
     "data": {
      "text/html": [
       "<div>\n",
       "<style scoped>\n",
       "    .dataframe tbody tr th:only-of-type {\n",
       "        vertical-align: middle;\n",
       "    }\n",
       "\n",
       "    .dataframe tbody tr th {\n",
       "        vertical-align: top;\n",
       "    }\n",
       "\n",
       "    .dataframe thead th {\n",
       "        text-align: right;\n",
       "    }\n",
       "</style>\n",
       "<table border=\"1\" class=\"dataframe\">\n",
       "  <thead>\n",
       "    <tr style=\"text-align: right;\">\n",
       "      <th></th>\n",
       "      <th>loyalty</th>\n",
       "      <th>ID</th>\n",
       "      <th>age</th>\n",
       "      <th>city</th>\n",
       "      <th>LOR</th>\n",
       "      <th>prod_A</th>\n",
       "      <th>type_A</th>\n",
       "      <th>type_B</th>\n",
       "      <th>prod_B</th>\n",
       "      <th>turnover_A</th>\n",
       "      <th>turnover_B</th>\n",
       "      <th>contract</th>\n",
       "      <th>age_P</th>\n",
       "      <th>lor_M</th>\n",
       "    </tr>\n",
       "  </thead>\n",
       "  <tbody>\n",
       "    <tr>\n",
       "      <th>count</th>\n",
       "      <td>14016.000000</td>\n",
       "      <td>14016.000000</td>\n",
       "      <td>14016.000000</td>\n",
       "      <td>14016.000000</td>\n",
       "      <td>14016.000000</td>\n",
       "      <td>14016.000000</td>\n",
       "      <td>14016.000000</td>\n",
       "      <td>14016.000000</td>\n",
       "      <td>14016.000000</td>\n",
       "      <td>14016.000000</td>\n",
       "      <td>14016.000000</td>\n",
       "      <td>14016.0</td>\n",
       "      <td>14016.000000</td>\n",
       "      <td>14016.000000</td>\n",
       "    </tr>\n",
       "    <tr>\n",
       "      <th>mean</th>\n",
       "      <td>50.381778</td>\n",
       "      <td>37672.440068</td>\n",
       "      <td>35.882920</td>\n",
       "      <td>-710.950128</td>\n",
       "      <td>0.926299</td>\n",
       "      <td>0.533818</td>\n",
       "      <td>1.607877</td>\n",
       "      <td>1.918878</td>\n",
       "      <td>0.599458</td>\n",
       "      <td>379.161320</td>\n",
       "      <td>328.628207</td>\n",
       "      <td>2.0</td>\n",
       "      <td>35.882920</td>\n",
       "      <td>14.115582</td>\n",
       "    </tr>\n",
       "    <tr>\n",
       "      <th>std</th>\n",
       "      <td>48.471790</td>\n",
       "      <td>44855.639209</td>\n",
       "      <td>12.974634</td>\n",
       "      <td>26702.329184</td>\n",
       "      <td>0.965212</td>\n",
       "      <td>0.498873</td>\n",
       "      <td>1.508991</td>\n",
       "      <td>1.686038</td>\n",
       "      <td>0.490026</td>\n",
       "      <td>92.612207</td>\n",
       "      <td>475.616525</td>\n",
       "      <td>0.0</td>\n",
       "      <td>12.974634</td>\n",
       "      <td>11.582550</td>\n",
       "    </tr>\n",
       "    <tr>\n",
       "      <th>min</th>\n",
       "      <td>0.000000</td>\n",
       "      <td>1.000000</td>\n",
       "      <td>5.000000</td>\n",
       "      <td>-999999.000000</td>\n",
       "      <td>0.000000</td>\n",
       "      <td>0.000000</td>\n",
       "      <td>0.000000</td>\n",
       "      <td>0.000000</td>\n",
       "      <td>0.000000</td>\n",
       "      <td>300.095909</td>\n",
       "      <td>191.962852</td>\n",
       "      <td>2.0</td>\n",
       "      <td>5.000000</td>\n",
       "      <td>3.000000</td>\n",
       "    </tr>\n",
       "    <tr>\n",
       "      <th>25%</th>\n",
       "      <td>2.000000</td>\n",
       "      <td>6741.500000</td>\n",
       "      <td>25.000000</td>\n",
       "      <td>2.000000</td>\n",
       "      <td>0.000000</td>\n",
       "      <td>0.000000</td>\n",
       "      <td>0.000000</td>\n",
       "      <td>0.000000</td>\n",
       "      <td>0.000000</td>\n",
       "      <td>334.919412</td>\n",
       "      <td>219.406925</td>\n",
       "      <td>2.0</td>\n",
       "      <td>25.000000</td>\n",
       "      <td>3.000000</td>\n",
       "    </tr>\n",
       "    <tr>\n",
       "      <th>50%</th>\n",
       "      <td>3.000000</td>\n",
       "      <td>13514.500000</td>\n",
       "      <td>33.000000</td>\n",
       "      <td>2.000000</td>\n",
       "      <td>1.000000</td>\n",
       "      <td>1.000000</td>\n",
       "      <td>3.000000</td>\n",
       "      <td>3.000000</td>\n",
       "      <td>1.000000</td>\n",
       "      <td>367.891493</td>\n",
       "      <td>237.656757</td>\n",
       "      <td>2.0</td>\n",
       "      <td>33.000000</td>\n",
       "      <td>15.000000</td>\n",
       "    </tr>\n",
       "    <tr>\n",
       "      <th>75%</th>\n",
       "      <td>99.000000</td>\n",
       "      <td>62738.000000</td>\n",
       "      <td>43.000000</td>\n",
       "      <td>2.000000</td>\n",
       "      <td>1.000000</td>\n",
       "      <td>1.000000</td>\n",
       "      <td>3.000000</td>\n",
       "      <td>3.000000</td>\n",
       "      <td>1.000000</td>\n",
       "      <td>399.744923</td>\n",
       "      <td>264.131538</td>\n",
       "      <td>2.0</td>\n",
       "      <td>43.000000</td>\n",
       "      <td>15.000000</td>\n",
       "    </tr>\n",
       "    <tr>\n",
       "      <th>max</th>\n",
       "      <td>99.000000</td>\n",
       "      <td>151811.000000</td>\n",
       "      <td>102.000000</td>\n",
       "      <td>235.000000</td>\n",
       "      <td>6.000000</td>\n",
       "      <td>1.000000</td>\n",
       "      <td>6.000000</td>\n",
       "      <td>9.000000</td>\n",
       "      <td>1.000000</td>\n",
       "      <td>5568.784139</td>\n",
       "      <td>12249.084770</td>\n",
       "      <td>2.0</td>\n",
       "      <td>102.000000</td>\n",
       "      <td>75.000000</td>\n",
       "    </tr>\n",
       "  </tbody>\n",
       "</table>\n",
       "</div>"
      ],
      "text/plain": [
       "            loyalty             ID           age           city           LOR  \\\n",
       "count  14016.000000   14016.000000  14016.000000   14016.000000  14016.000000   \n",
       "mean      50.381778   37672.440068     35.882920    -710.950128      0.926299   \n",
       "std       48.471790   44855.639209     12.974634   26702.329184      0.965212   \n",
       "min        0.000000       1.000000      5.000000 -999999.000000      0.000000   \n",
       "25%        2.000000    6741.500000     25.000000       2.000000      0.000000   \n",
       "50%        3.000000   13514.500000     33.000000       2.000000      1.000000   \n",
       "75%       99.000000   62738.000000     43.000000       2.000000      1.000000   \n",
       "max       99.000000  151811.000000    102.000000     235.000000      6.000000   \n",
       "\n",
       "             prod_A        type_A        type_B        prod_B    turnover_A  \\\n",
       "count  14016.000000  14016.000000  14016.000000  14016.000000  14016.000000   \n",
       "mean       0.533818      1.607877      1.918878      0.599458    379.161320   \n",
       "std        0.498873      1.508991      1.686038      0.490026     92.612207   \n",
       "min        0.000000      0.000000      0.000000      0.000000    300.095909   \n",
       "25%        0.000000      0.000000      0.000000      0.000000    334.919412   \n",
       "50%        1.000000      3.000000      3.000000      1.000000    367.891493   \n",
       "75%        1.000000      3.000000      3.000000      1.000000    399.744923   \n",
       "max        1.000000      6.000000      9.000000      1.000000   5568.784139   \n",
       "\n",
       "         turnover_B  contract         age_P         lor_M  \n",
       "count  14016.000000   14016.0  14016.000000  14016.000000  \n",
       "mean     328.628207       2.0     35.882920     14.115582  \n",
       "std      475.616525       0.0     12.974634     11.582550  \n",
       "min      191.962852       2.0      5.000000      3.000000  \n",
       "25%      219.406925       2.0     25.000000      3.000000  \n",
       "50%      237.656757       2.0     33.000000     15.000000  \n",
       "75%      264.131538       2.0     43.000000     15.000000  \n",
       "max    12249.084770       2.0    102.000000     75.000000  "
      ]
     },
     "execution_count": 5,
     "metadata": {},
     "output_type": "execute_result"
    }
   ],
   "source": [
    "data.describe()"
   ]
  },
  {
   "cell_type": "code",
   "execution_count": 6,
   "metadata": {},
   "outputs": [],
   "source": [
    "data_num = data[['age','age_P','LOR','lor_M','turnover_A','turnover_B']]"
   ]
  },
  {
   "cell_type": "code",
   "execution_count": 7,
   "metadata": {},
   "outputs": [],
   "source": [
    "data_cat= data[['loyalty','city','prod_A','type_A','prod_B','type_B','TARGET']]"
   ]
  },
  {
   "cell_type": "code",
   "execution_count": 8,
   "metadata": {},
   "outputs": [],
   "source": [
    "# turn the names of columns into list\n",
    "column_num=data_num.columns.to_list()\n",
    "column_cat=data_cat.columns.to_list()"
   ]
  },
  {
   "cell_type": "code",
   "execution_count": 9,
   "metadata": {},
   "outputs": [
    {
     "name": "stderr",
     "output_type": "stream",
     "text": [
      "C:\\Users\\asus\\anaconda3\\lib\\site-packages\\seaborn\\_decorators.py:36: FutureWarning: Pass the following variable as a keyword arg: x. From version 0.12, the only valid positional argument will be `data`, and passing other arguments without an explicit keyword will result in an error or misinterpretation.\n",
      "  warnings.warn(\n",
      "C:\\Users\\asus\\anaconda3\\lib\\site-packages\\seaborn\\_decorators.py:36: FutureWarning: Pass the following variable as a keyword arg: x. From version 0.12, the only valid positional argument will be `data`, and passing other arguments without an explicit keyword will result in an error or misinterpretation.\n",
      "  warnings.warn(\n",
      "C:\\Users\\asus\\anaconda3\\lib\\site-packages\\seaborn\\_decorators.py:36: FutureWarning: Pass the following variable as a keyword arg: x. From version 0.12, the only valid positional argument will be `data`, and passing other arguments without an explicit keyword will result in an error or misinterpretation.\n",
      "  warnings.warn(\n",
      "C:\\Users\\asus\\anaconda3\\lib\\site-packages\\seaborn\\_decorators.py:36: FutureWarning: Pass the following variable as a keyword arg: x. From version 0.12, the only valid positional argument will be `data`, and passing other arguments without an explicit keyword will result in an error or misinterpretation.\n",
      "  warnings.warn(\n",
      "C:\\Users\\asus\\anaconda3\\lib\\site-packages\\seaborn\\_decorators.py:36: FutureWarning: Pass the following variable as a keyword arg: x. From version 0.12, the only valid positional argument will be `data`, and passing other arguments without an explicit keyword will result in an error or misinterpretation.\n",
      "  warnings.warn(\n",
      "C:\\Users\\asus\\anaconda3\\lib\\site-packages\\seaborn\\_decorators.py:36: FutureWarning: Pass the following variable as a keyword arg: x. From version 0.12, the only valid positional argument will be `data`, and passing other arguments without an explicit keyword will result in an error or misinterpretation.\n",
      "  warnings.warn(\n"
     ]
    },
    {
     "data": {
      "image/png": "[encoded data removed]",
      "text/plain": [
       "<Figure size 1080x1440 with 12 Axes>"
      ]
     },
     "metadata": {
      "needs_background": "light"
     },
     "output_type": "display_data"
    }
   ],
   "source": [
    "#show the histogram and boxplot of each attribute in the numerical dataset\n",
    "fig=plt.figure(figsize=(15,20))\n",
    "for i in range(6):\n",
    "    n=2*i\n",
    "    plt.subplot(12,4,n+1)\n",
    "    plt.hist(data_num[column_num[i]])\n",
    "    plt.subplot(12,4,n+2)\n",
    "    sns.boxplot(data_num[column_num[i]])\n",
    "    \n",
    "plt.tight_layout()"
   ]
  },
  {
   "cell_type": "markdown",
   "metadata": {},
   "source": [
    "From the above plots, we can see that 'age and 'age_P' skew right, 'age', 'age_P', 'turnover_A' and 'turnover_B' have many outliers, 'LOR' and 'LOR_M' is discontinuous in some ranges."
   ]
  },
  {
   "cell_type": "code",
   "execution_count": 10,
   "metadata": {},
   "outputs": [
    {
     "data": {
      "image/png": "[encoded data removed]",
      "text/plain": [
       "<Figure size 1080x1080 with 7 Axes>"
      ]
     },
     "metadata": {
      "needs_background": "light"
     },
     "output_type": "display_data"
    }
   ],
   "source": [
    "# show barplot of each attribute in the categorical dataset\n",
    "fig=plt.figure(figsize=(15,15))\n",
    "for i in range(7):\n",
    "    plt.subplot(3,4,i+1)\n",
    "    data_cat[column_cat[i]].value_counts().plot.bar(title = \"Freq Dist\")\n",
    "    plt.xlabel(column_cat[i])\n",
    "plt.tight_layout()"
   ]
  },
  {
   "cell_type": "code",
   "execution_count": 11,
   "metadata": {},
   "outputs": [
    {
     "data": {
      "text/plain": [
       "2      13720\n",
       "1         28\n",
       "0         26\n",
       "8         21\n",
       "9         20\n",
       "       ...  \n",
       "127        1\n",
       "131        1\n",
       "115        1\n",
       "107        1\n",
       "187        1\n",
       "Name: city, Length: 65, dtype: int64"
      ]
     },
     "execution_count": 11,
     "metadata": {},
     "output_type": "execute_result"
    }
   ],
   "source": [
    "data['city'].value_counts()"
   ]
  },
  {
   "cell_type": "markdown",
   "metadata": {},
   "source": [
    "In the chart of 'loyalty', the '99' appears mostly followed by '3', '1', and '2', '0' appears the lowest number of times.\n",
    "\n",
    "In the 'prod_A', there are nearly 7500 people who have bought product A and there are about 6500 people who have not.\n",
    "\n",
    "In the 'type_A', there are nearly 7470 people have bought the type '3', and only 30 people bought the type '6'.\n",
    "\n",
    "In the 'prod_B', there are nearly 8400 people who have bought product B and there are about 5600 people who have not.\n",
    "\n",
    "In the 'type_B', type 3 appears the most number, and type 9 appears the least number.\n",
    "\n",
    "In the 'TARGET', we find that there are nearly 6000 people have bought the new product and other 8000 have not.\n",
    "\n",
    "In the 'city', most cities gathered at the '2'."
   ]
  },
  {
   "cell_type": "code",
   "execution_count": 12,
   "metadata": {},
   "outputs": [
    {
     "data": {
      "text/plain": [
       "TARGET        0\n",
       "loyalty       0\n",
       "ID            0\n",
       "age           0\n",
       "city          0\n",
       "LOR           0\n",
       "prod_A        0\n",
       "type_A        0\n",
       "type_B        0\n",
       "prod_B        0\n",
       "turnover_A    0\n",
       "turnover_B    0\n",
       "contract      0\n",
       "age_P         0\n",
       "lor_M         0\n",
       "dtype: int64"
      ]
     },
     "execution_count": 12,
     "metadata": {},
     "output_type": "execute_result"
    }
   ],
   "source": [
    "# find null values\n",
    "data.isnull().sum()"
   ]
  },
  {
   "cell_type": "markdown",
   "metadata": {},
   "source": [
    "We can see there is no null value in the data set."
   ]
  },
  {
   "cell_type": "code",
   "execution_count": 13,
   "metadata": {},
   "outputs": [
    {
     "data": {
      "text/plain": [
       "0        False\n",
       "1        False\n",
       "2        False\n",
       "3        False\n",
       "4        False\n",
       "         ...  \n",
       "14011     True\n",
       "14012     True\n",
       "14013     True\n",
       "14014     True\n",
       "14015     True\n",
       "Length: 14016, dtype: bool"
      ]
     },
     "execution_count": 13,
     "metadata": {},
     "output_type": "execute_result"
    }
   ],
   "source": [
    "# check for duplicate use cases\n",
    "data.duplicated()"
   ]
  },
  {
   "cell_type": "markdown",
   "metadata": {},
   "source": [
    "We can see there are many duplicates in the data set."
   ]
  },
  {
   "cell_type": "code",
   "execution_count": 14,
   "metadata": {},
   "outputs": [
    {
     "data": {
      "text/html": [
       "<div>\n",
       "<style scoped>\n",
       "    .dataframe tbody tr th:only-of-type {\n",
       "        vertical-align: middle;\n",
       "    }\n",
       "\n",
       "    .dataframe tbody tr th {\n",
       "        vertical-align: top;\n",
       "    }\n",
       "\n",
       "    .dataframe thead th {\n",
       "        text-align: right;\n",
       "    }\n",
       "</style>\n",
       "<table border=\"1\" class=\"dataframe\">\n",
       "  <thead>\n",
       "    <tr style=\"text-align: right;\">\n",
       "      <th></th>\n",
       "      <th>age</th>\n",
       "      <th>age_P</th>\n",
       "      <th>LOR</th>\n",
       "      <th>lor_M</th>\n",
       "      <th>turnover_A</th>\n",
       "      <th>turnover_B</th>\n",
       "    </tr>\n",
       "  </thead>\n",
       "  <tbody>\n",
       "    <tr>\n",
       "      <th>age</th>\n",
       "      <td>1.000000</td>\n",
       "      <td>1.000000</td>\n",
       "      <td>0.089640</td>\n",
       "      <td>0.089640</td>\n",
       "      <td>0.135887</td>\n",
       "      <td>0.251625</td>\n",
       "    </tr>\n",
       "    <tr>\n",
       "      <th>age_P</th>\n",
       "      <td>1.000000</td>\n",
       "      <td>1.000000</td>\n",
       "      <td>0.089640</td>\n",
       "      <td>0.089640</td>\n",
       "      <td>0.135887</td>\n",
       "      <td>0.251625</td>\n",
       "    </tr>\n",
       "    <tr>\n",
       "      <th>LOR</th>\n",
       "      <td>0.089640</td>\n",
       "      <td>0.089640</td>\n",
       "      <td>1.000000</td>\n",
       "      <td>1.000000</td>\n",
       "      <td>0.009987</td>\n",
       "      <td>0.158571</td>\n",
       "    </tr>\n",
       "    <tr>\n",
       "      <th>lor_M</th>\n",
       "      <td>0.089640</td>\n",
       "      <td>0.089640</td>\n",
       "      <td>1.000000</td>\n",
       "      <td>1.000000</td>\n",
       "      <td>0.009987</td>\n",
       "      <td>0.158571</td>\n",
       "    </tr>\n",
       "    <tr>\n",
       "      <th>turnover_A</th>\n",
       "      <td>0.135887</td>\n",
       "      <td>0.135887</td>\n",
       "      <td>0.009987</td>\n",
       "      <td>0.009987</td>\n",
       "      <td>1.000000</td>\n",
       "      <td>0.128613</td>\n",
       "    </tr>\n",
       "    <tr>\n",
       "      <th>turnover_B</th>\n",
       "      <td>0.251625</td>\n",
       "      <td>0.251625</td>\n",
       "      <td>0.158571</td>\n",
       "      <td>0.158571</td>\n",
       "      <td>0.128613</td>\n",
       "      <td>1.000000</td>\n",
       "    </tr>\n",
       "  </tbody>\n",
       "</table>\n",
       "</div>"
      ],
      "text/plain": [
       "                 age     age_P       LOR     lor_M  turnover_A  turnover_B\n",
       "age         1.000000  1.000000  0.089640  0.089640    0.135887    0.251625\n",
       "age_P       1.000000  1.000000  0.089640  0.089640    0.135887    0.251625\n",
       "LOR         0.089640  0.089640  1.000000  1.000000    0.009987    0.158571\n",
       "lor_M       0.089640  0.089640  1.000000  1.000000    0.009987    0.158571\n",
       "turnover_A  0.135887  0.135887  0.009987  0.009987    1.000000    0.128613\n",
       "turnover_B  0.251625  0.251625  0.158571  0.158571    0.128613    1.000000"
      ]
     },
     "execution_count": 14,
     "metadata": {},
     "output_type": "execute_result"
    }
   ],
   "source": [
    "# View the correlation coefficient between numerical variables\n",
    "data_num.corr()"
   ]
  },
  {
   "cell_type": "markdown",
   "metadata": {},
   "source": [
    "From the above, we discover that Age is nearly 100% correlated with Age_p, LOR is highly correlated with LOR_m."
   ]
  },
  {
   "cell_type": "code",
   "execution_count": 15,
   "metadata": {},
   "outputs": [
    {
     "data": {
      "text/plain": [
       "<seaborn.axisgrid.FacetGrid at 0x176dc7e5ac0>"
      ]
     },
     "execution_count": 15,
     "metadata": {},
     "output_type": "execute_result"
    },
    {
     "data": {
      "image/png": "[encoded data removed]",
      "text/plain": [
       "<Figure size 360x360 with 1 Axes>"
      ]
     },
     "metadata": {
      "needs_background": "light"
     },
     "output_type": "display_data"
    }
   ],
   "source": [
    "sns.catplot(x=\"TARGET\", y=\"age\", data=data)"
   ]
  },
  {
   "cell_type": "markdown",
   "metadata": {},
   "source": [
    "From this plot, we can see that people who are under 20 are more likely not to buy this new product."
   ]
  },
  {
   "cell_type": "code",
   "execution_count": 16,
   "metadata": {},
   "outputs": [
    {
     "data": {
      "text/plain": [
       "<seaborn.axisgrid.FacetGrid at 0x176dc783ee0>"
      ]
     },
     "execution_count": 16,
     "metadata": {},
     "output_type": "execute_result"
    },
    {
     "data": {
      "image/png": "[encoded data removed]",
      "text/plain": [
       "<Figure size 360x360 with 1 Axes>"
      ]
     },
     "metadata": {
      "needs_background": "light"
     },
     "output_type": "display_data"
    }
   ],
   "source": [
    "sns.catplot(x=\"TARGET\", y=\"age_P\", data=data)"
   ]
  },
  {
   "cell_type": "markdown",
   "metadata": {},
   "source": [
    "From this plot, we can see that people who are under 20 are more likely not to buy this new product."
   ]
  },
  {
   "cell_type": "code",
   "execution_count": 17,
   "metadata": {},
   "outputs": [
    {
     "data": {
      "text/plain": [
       "<seaborn.axisgrid.FacetGrid at 0x176dbe65550>"
      ]
     },
     "execution_count": 17,
     "metadata": {},
     "output_type": "execute_result"
    },
    {
     "data": {
      "image/png": "[encoded data removed]",
      "text/plain": [
       "<Figure size 360x360 with 1 Axes>"
      ]
     },
     "metadata": {
      "needs_background": "light"
     },
     "output_type": "display_data"
    }
   ],
   "source": [
    "sns.catplot(x=\"TARGET\", y=\"LOR\", data=data)"
   ]
  },
  {
   "cell_type": "markdown",
   "metadata": {},
   "source": [
    "From this plot, we can see that people who have over 6 years length of relationship are more likely not to buy this new product."
   ]
  },
  {
   "cell_type": "code",
   "execution_count": 18,
   "metadata": {},
   "outputs": [
    {
     "data": {
      "text/plain": [
       "<seaborn.axisgrid.FacetGrid at 0x176dbb15700>"
      ]
     },
     "execution_count": 18,
     "metadata": {},
     "output_type": "execute_result"
    },
    {
     "data": {
      "image/png": "[encoded data removed]",
      "text/plain": [
       "<Figure size 360x360 with 1 Axes>"
      ]
     },
     "metadata": {
      "needs_background": "light"
     },
     "output_type": "display_data"
    }
   ],
   "source": [
    "sns.catplot(x=\"TARGET\", y=\"lor_M\", data=data)"
   ]
  },
  {
   "cell_type": "markdown",
   "metadata": {},
   "source": [
    "From this plot, we can see that people who have over 70 months length of relationship are more likely not to buy this new product."
   ]
  },
  {
   "cell_type": "code",
   "execution_count": 19,
   "metadata": {},
   "outputs": [
    {
     "data": {
      "text/plain": [
       "<seaborn.axisgrid.FacetGrid at 0x176dc12d760>"
      ]
     },
     "execution_count": 19,
     "metadata": {},
     "output_type": "execute_result"
    },
    {
     "data": {
      "image/png": "[encoded data removed]",
      "text/plain": [
       "<Figure size 360x360 with 1 Axes>"
      ]
     },
     "metadata": {
      "needs_background": "light"
     },
     "output_type": "display_data"
    }
   ],
   "source": [
    "sns.catplot(x=\"TARGET\", y=\"turnover_A\", data=data)"
   ]
  },
  {
   "cell_type": "markdown",
   "metadata": {},
   "source": [
    "From this plot, we can see that people who spend over 2000 on product A are more likely not to buy this new product."
   ]
  },
  {
   "cell_type": "code",
   "execution_count": 20,
   "metadata": {},
   "outputs": [
    {
     "data": {
      "text/plain": [
       "<seaborn.axisgrid.FacetGrid at 0x176dbe35ca0>"
      ]
     },
     "execution_count": 20,
     "metadata": {},
     "output_type": "execute_result"
    },
    {
     "data": {
      "image/png": "[encoded data removed]",
      "text/plain": [
       "<Figure size 360x360 with 1 Axes>"
      ]
     },
     "metadata": {
      "needs_background": "light"
     },
     "output_type": "display_data"
    }
   ],
   "source": [
    "sns.catplot(x=\"TARGET\", y=\"turnover_B\", data=data)"
   ]
  },
  {
   "cell_type": "markdown",
   "metadata": {},
   "source": [
    "From this plot, we can see that people who spend over 6000 on product B are more likely not to buy this new product."
   ]
  },
  {
   "cell_type": "code",
   "execution_count": 21,
   "metadata": {},
   "outputs": [
    {
     "data": {
      "text/plain": [
       "<AxesSubplot:xlabel='loyalty', ylabel='count'>"
      ]
     },
     "execution_count": 21,
     "metadata": {},
     "output_type": "execute_result"
    },
    {
     "data": {
      "image/png": "[encoded data removed]",
      "text/plain": [
       "<Figure size 432x288 with 1 Axes>"
      ]
     },
     "metadata": {
      "needs_background": "light"
     },
     "output_type": "display_data"
    }
   ],
   "source": [
    "sns.countplot(x=\"loyalty\", hue=\"TARGET\", data=data)"
   ]
  },
  {
   "cell_type": "markdown",
   "metadata": {},
   "source": [
    "From this plot, we can see that people who have loyalties 0-3 are more likely not to buy this new product, people who have unclassified loyalties are more likely to buy this new product."
   ]
  },
  {
   "cell_type": "code",
   "execution_count": 22,
   "metadata": {},
   "outputs": [
    {
     "data": {
      "text/plain": [
       "<AxesSubplot:xlabel='city', ylabel='count'>"
      ]
     },
     "execution_count": 22,
     "metadata": {},
     "output_type": "execute_result"
    },
    {
     "data": {
      "image/png": "[encoded data removed]",
      "text/plain": [
       "<Figure size 432x288 with 1 Axes>"
      ]
     },
     "metadata": {
      "needs_background": "light"
     },
     "output_type": "display_data"
    }
   ],
   "source": [
    "sns.countplot(x=\"city\", hue=\"TARGET\", data=data)"
   ]
  },
  {
   "cell_type": "markdown",
   "metadata": {},
   "source": [
    "From this plot, we can see that people in city 2 are more likely not to buy this new product."
   ]
  },
  {
   "cell_type": "code",
   "execution_count": 23,
   "metadata": {},
   "outputs": [
    {
     "data": {
      "text/plain": [
       "<AxesSubplot:xlabel='prod_A', ylabel='count'>"
      ]
     },
     "execution_count": 23,
     "metadata": {},
     "output_type": "execute_result"
    },
    {
     "data": {
      "image/png": "[encoded data removed]",
      "text/plain": [
       "<Figure size 432x288 with 1 Axes>"
      ]
     },
     "metadata": {
      "needs_background": "light"
     },
     "output_type": "display_data"
    }
   ],
   "source": [
    "sns.countplot(x=\"prod_A\", hue=\"TARGET\", data=data)"
   ]
  },
  {
   "cell_type": "markdown",
   "metadata": {},
   "source": [
    "From this plot, we can see that people who bought product A are more likely not to buy this new product, people who didn't buy product A are more likely to buy this new product."
   ]
  },
  {
   "cell_type": "code",
   "execution_count": 24,
   "metadata": {},
   "outputs": [
    {
     "data": {
      "text/plain": [
       "<AxesSubplot:xlabel='type_A', ylabel='count'>"
      ]
     },
     "execution_count": 24,
     "metadata": {},
     "output_type": "execute_result"
    },
    {
     "data": {
      "image/png": "[encoded data removed]",
      "text/plain": [
       "<Figure size 432x288 with 1 Axes>"
      ]
     },
     "metadata": {
      "needs_background": "light"
     },
     "output_type": "display_data"
    }
   ],
   "source": [
    "sns.countplot(x=\"type_A\", hue=\"TARGET\", data=data)"
   ]
  },
  {
   "cell_type": "markdown",
   "metadata": {},
   "source": [
    "From this plot, we can see that people who have type A0 are more likely to buy this new product, and people who have type A3 are more likely not to buy this new product."
   ]
  },
  {
   "cell_type": "code",
   "execution_count": 25,
   "metadata": {},
   "outputs": [
    {
     "data": {
      "text/plain": [
       "<AxesSubplot:xlabel='prod_B', ylabel='count'>"
      ]
     },
     "execution_count": 25,
     "metadata": {},
     "output_type": "execute_result"
    },
    {
     "data": {
      "image/png": "[encoded data removed]",
      "text/plain": [
       "<Figure size 432x288 with 1 Axes>"
      ]
     },
     "metadata": {
      "needs_background": "light"
     },
     "output_type": "display_data"
    }
   ],
   "source": [
    "sns.countplot(x=\"prod_B\", hue=\"TARGET\", data=data)"
   ]
  },
  {
   "cell_type": "markdown",
   "metadata": {},
   "source": [
    "From this plot, we can see that people who bought product B are more likely not to buy this new product, people who didn't buy product B are more likely to buy this new product."
   ]
  },
  {
   "cell_type": "code",
   "execution_count": 26,
   "metadata": {},
   "outputs": [
    {
     "data": {
      "text/plain": [
       "<AxesSubplot:xlabel='type_B', ylabel='count'>"
      ]
     },
     "execution_count": 26,
     "metadata": {},
     "output_type": "execute_result"
    },
    {
     "data": {
      "image/png": "[encoded data removed]",
      "text/plain": [
       "<Figure size 432x288 with 1 Axes>"
      ]
     },
     "metadata": {
      "needs_background": "light"
     },
     "output_type": "display_data"
    }
   ],
   "source": [
    "sns.countplot(x=\"type_B\", hue=\"TARGET\", data=data)"
   ]
  },
  {
   "cell_type": "markdown",
   "metadata": {},
   "source": [
    "From this plot, we can see that people who have type B0 are more likely to buy this new product, people who have type B3 and B6 are more likely not to buy this new product."
   ]
  },
  {
   "cell_type": "markdown",
   "metadata": {},
   "source": [
    "## Data Preparation"
   ]
  },
  {
   "cell_type": "code",
   "execution_count": 27,
   "metadata": {},
   "outputs": [
    {
     "data": {
      "text/plain": [
       "(14016, 15)"
      ]
     },
     "execution_count": 27,
     "metadata": {},
     "output_type": "execute_result"
    }
   ],
   "source": [
    "data.shape"
   ]
  },
  {
   "cell_type": "code",
   "execution_count": 28,
   "metadata": {},
   "outputs": [
    {
     "data": {
      "text/html": [
       "<div>\n",
       "<style scoped>\n",
       "    .dataframe tbody tr th:only-of-type {\n",
       "        vertical-align: middle;\n",
       "    }\n",
       "\n",
       "    .dataframe tbody tr th {\n",
       "        vertical-align: top;\n",
       "    }\n",
       "\n",
       "    .dataframe thead th {\n",
       "        text-align: right;\n",
       "    }\n",
       "</style>\n",
       "<table border=\"1\" class=\"dataframe\">\n",
       "  <thead>\n",
       "    <tr style=\"text-align: right;\">\n",
       "      <th></th>\n",
       "      <th>TARGET</th>\n",
       "      <th>loyalty</th>\n",
       "      <th>ID</th>\n",
       "      <th>age</th>\n",
       "      <th>city</th>\n",
       "      <th>LOR</th>\n",
       "      <th>prod_A</th>\n",
       "      <th>type_A</th>\n",
       "      <th>type_B</th>\n",
       "      <th>prod_B</th>\n",
       "      <th>turnover_A</th>\n",
       "      <th>turnover_B</th>\n",
       "      <th>contract</th>\n",
       "      <th>age_P</th>\n",
       "      <th>lor_M</th>\n",
       "    </tr>\n",
       "  </thead>\n",
       "  <tbody>\n",
       "    <tr>\n",
       "      <th>0</th>\n",
       "      <td>Y</td>\n",
       "      <td>99</td>\n",
       "      <td>77</td>\n",
       "      <td>66</td>\n",
       "      <td>2</td>\n",
       "      <td>0</td>\n",
       "      <td>0</td>\n",
       "      <td>0</td>\n",
       "      <td>0</td>\n",
       "      <td>0</td>\n",
       "      <td>333.561114</td>\n",
       "      <td>264.721010</td>\n",
       "      <td>2</td>\n",
       "      <td>66</td>\n",
       "      <td>3</td>\n",
       "    </tr>\n",
       "    <tr>\n",
       "      <th>1</th>\n",
       "      <td>Y</td>\n",
       "      <td>1</td>\n",
       "      <td>159</td>\n",
       "      <td>45</td>\n",
       "      <td>2</td>\n",
       "      <td>3</td>\n",
       "      <td>1</td>\n",
       "      <td>3</td>\n",
       "      <td>3</td>\n",
       "      <td>1</td>\n",
       "      <td>394.735699</td>\n",
       "      <td>284.904978</td>\n",
       "      <td>2</td>\n",
       "      <td>45</td>\n",
       "      <td>39</td>\n",
       "    </tr>\n",
       "    <tr>\n",
       "      <th>2</th>\n",
       "      <td>Y</td>\n",
       "      <td>1</td>\n",
       "      <td>220</td>\n",
       "      <td>42</td>\n",
       "      <td>2</td>\n",
       "      <td>2</td>\n",
       "      <td>1</td>\n",
       "      <td>3</td>\n",
       "      <td>6</td>\n",
       "      <td>1</td>\n",
       "      <td>342.180990</td>\n",
       "      <td>1175.589721</td>\n",
       "      <td>2</td>\n",
       "      <td>42</td>\n",
       "      <td>27</td>\n",
       "    </tr>\n",
       "    <tr>\n",
       "      <th>3</th>\n",
       "      <td>Y</td>\n",
       "      <td>99</td>\n",
       "      <td>303</td>\n",
       "      <td>31</td>\n",
       "      <td>2</td>\n",
       "      <td>0</td>\n",
       "      <td>0</td>\n",
       "      <td>0</td>\n",
       "      <td>0</td>\n",
       "      <td>0</td>\n",
       "      <td>453.757916</td>\n",
       "      <td>242.341754</td>\n",
       "      <td>2</td>\n",
       "      <td>31</td>\n",
       "      <td>3</td>\n",
       "    </tr>\n",
       "    <tr>\n",
       "      <th>4</th>\n",
       "      <td>Y</td>\n",
       "      <td>99</td>\n",
       "      <td>306</td>\n",
       "      <td>62</td>\n",
       "      <td>2</td>\n",
       "      <td>0</td>\n",
       "      <td>0</td>\n",
       "      <td>0</td>\n",
       "      <td>0</td>\n",
       "      <td>0</td>\n",
       "      <td>384.577469</td>\n",
       "      <td>287.008370</td>\n",
       "      <td>2</td>\n",
       "      <td>62</td>\n",
       "      <td>3</td>\n",
       "    </tr>\n",
       "    <tr>\n",
       "      <th>...</th>\n",
       "      <td>...</td>\n",
       "      <td>...</td>\n",
       "      <td>...</td>\n",
       "      <td>...</td>\n",
       "      <td>...</td>\n",
       "      <td>...</td>\n",
       "      <td>...</td>\n",
       "      <td>...</td>\n",
       "      <td>...</td>\n",
       "      <td>...</td>\n",
       "      <td>...</td>\n",
       "      <td>...</td>\n",
       "      <td>...</td>\n",
       "      <td>...</td>\n",
       "      <td>...</td>\n",
       "    </tr>\n",
       "    <tr>\n",
       "      <th>11003</th>\n",
       "      <td>N</td>\n",
       "      <td>1</td>\n",
       "      <td>16793</td>\n",
       "      <td>33</td>\n",
       "      <td>2</td>\n",
       "      <td>2</td>\n",
       "      <td>1</td>\n",
       "      <td>3</td>\n",
       "      <td>3</td>\n",
       "      <td>1</td>\n",
       "      <td>302.380331</td>\n",
       "      <td>229.457986</td>\n",
       "      <td>2</td>\n",
       "      <td>33</td>\n",
       "      <td>27</td>\n",
       "    </tr>\n",
       "    <tr>\n",
       "      <th>11004</th>\n",
       "      <td>N</td>\n",
       "      <td>99</td>\n",
       "      <td>16794</td>\n",
       "      <td>23</td>\n",
       "      <td>2</td>\n",
       "      <td>0</td>\n",
       "      <td>0</td>\n",
       "      <td>0</td>\n",
       "      <td>0</td>\n",
       "      <td>0</td>\n",
       "      <td>316.268616</td>\n",
       "      <td>228.518505</td>\n",
       "      <td>2</td>\n",
       "      <td>23</td>\n",
       "      <td>3</td>\n",
       "    </tr>\n",
       "    <tr>\n",
       "      <th>11005</th>\n",
       "      <td>N</td>\n",
       "      <td>1</td>\n",
       "      <td>16798</td>\n",
       "      <td>23</td>\n",
       "      <td>2</td>\n",
       "      <td>2</td>\n",
       "      <td>1</td>\n",
       "      <td>3</td>\n",
       "      <td>3</td>\n",
       "      <td>1</td>\n",
       "      <td>385.871241</td>\n",
       "      <td>236.665515</td>\n",
       "      <td>2</td>\n",
       "      <td>23</td>\n",
       "      <td>27</td>\n",
       "    </tr>\n",
       "    <tr>\n",
       "      <th>11006</th>\n",
       "      <td>N</td>\n",
       "      <td>99</td>\n",
       "      <td>16800</td>\n",
       "      <td>32</td>\n",
       "      <td>2</td>\n",
       "      <td>1</td>\n",
       "      <td>1</td>\n",
       "      <td>3</td>\n",
       "      <td>3</td>\n",
       "      <td>1</td>\n",
       "      <td>317.578868</td>\n",
       "      <td>226.899614</td>\n",
       "      <td>2</td>\n",
       "      <td>32</td>\n",
       "      <td>15</td>\n",
       "    </tr>\n",
       "    <tr>\n",
       "      <th>11007</th>\n",
       "      <td>N</td>\n",
       "      <td>2</td>\n",
       "      <td>16801</td>\n",
       "      <td>23</td>\n",
       "      <td>2</td>\n",
       "      <td>3</td>\n",
       "      <td>1</td>\n",
       "      <td>3</td>\n",
       "      <td>3</td>\n",
       "      <td>1</td>\n",
       "      <td>349.035844</td>\n",
       "      <td>205.621402</td>\n",
       "      <td>2</td>\n",
       "      <td>23</td>\n",
       "      <td>39</td>\n",
       "    </tr>\n",
       "  </tbody>\n",
       "</table>\n",
       "<p>11008 rows × 15 columns</p>\n",
       "</div>"
      ],
      "text/plain": [
       "      TARGET  loyalty     ID  age  city  LOR  prod_A  type_A  type_B  prod_B  \\\n",
       "0          Y       99     77   66     2    0       0       0       0       0   \n",
       "1          Y        1    159   45     2    3       1       3       3       1   \n",
       "2          Y        1    220   42     2    2       1       3       6       1   \n",
       "3          Y       99    303   31     2    0       0       0       0       0   \n",
       "4          Y       99    306   62     2    0       0       0       0       0   \n",
       "...      ...      ...    ...  ...   ...  ...     ...     ...     ...     ...   \n",
       "11003      N        1  16793   33     2    2       1       3       3       1   \n",
       "11004      N       99  16794   23     2    0       0       0       0       0   \n",
       "11005      N        1  16798   23     2    2       1       3       3       1   \n",
       "11006      N       99  16800   32     2    1       1       3       3       1   \n",
       "11007      N        2  16801   23     2    3       1       3       3       1   \n",
       "\n",
       "       turnover_A   turnover_B  contract  age_P  lor_M  \n",
       "0      333.561114   264.721010         2     66      3  \n",
       "1      394.735699   284.904978         2     45     39  \n",
       "2      342.180990  1175.589721         2     42     27  \n",
       "3      453.757916   242.341754         2     31      3  \n",
       "4      384.577469   287.008370         2     62      3  \n",
       "...           ...          ...       ...    ...    ...  \n",
       "11003  302.380331   229.457986         2     33     27  \n",
       "11004  316.268616   228.518505         2     23      3  \n",
       "11005  385.871241   236.665515         2     23     27  \n",
       "11006  317.578868   226.899614         2     32     15  \n",
       "11007  349.035844   205.621402         2     23     39  \n",
       "\n",
       "[11008 rows x 15 columns]"
      ]
     },
     "execution_count": 28,
     "metadata": {},
     "output_type": "execute_result"
    }
   ],
   "source": [
    "# drop all duplicative use cases\n",
    "data1 = data.drop_duplicates()\n",
    "data1"
   ]
  },
  {
   "cell_type": "markdown",
   "metadata": {},
   "source": [
    "In the 'city' column, 'city 2' far exceeds other values, so we divide the 'city' column into two columns that are city2 and not city2."
   ]
  },
  {
   "cell_type": "code",
   "execution_count": 29,
   "metadata": {},
   "outputs": [
    {
     "name": "stderr",
     "output_type": "stream",
     "text": [
      "C:\\Users\\asus\\anaconda3\\lib\\site-packages\\pandas\\core\\indexing.py:670: SettingWithCopyWarning: \n",
      "A value is trying to be set on a copy of a slice from a DataFrame\n",
      "\n",
      "See the caveats in the documentation: https://pandas.pydata.org/pandas-docs/stable/user_guide/indexing.html#returning-a-view-versus-a-copy\n",
      "  iloc._setitem_with_indexer(indexer, value)\n",
      "<ipython-input-29-815c172fcda9>:1: SettingWithCopyWarning: \n",
      "A value is trying to be set on a copy of a slice from a DataFrame\n",
      "\n",
      "See the caveats in the documentation: https://pandas.pydata.org/pandas-docs/stable/user_guide/indexing.html#returning-a-view-versus-a-copy\n",
      "  data1['city'].loc[data['city'] != 2] = 0\n",
      "C:\\Users\\asus\\anaconda3\\lib\\site-packages\\pandas\\core\\indexing.py:670: SettingWithCopyWarning: \n",
      "A value is trying to be set on a copy of a slice from a DataFrame\n",
      "\n",
      "See the caveats in the documentation: https://pandas.pydata.org/pandas-docs/stable/user_guide/indexing.html#returning-a-view-versus-a-copy\n",
      "  iloc._setitem_with_indexer(indexer, value)\n",
      "<ipython-input-29-815c172fcda9>:2: SettingWithCopyWarning: \n",
      "A value is trying to be set on a copy of a slice from a DataFrame\n",
      "\n",
      "See the caveats in the documentation: https://pandas.pydata.org/pandas-docs/stable/user_guide/indexing.html#returning-a-view-versus-a-copy\n",
      "  data1['city'].loc[data['city'] == 2] = 1\n"
     ]
    }
   ],
   "source": [
    "data1['city'].loc[data['city'] != 2] = 0\n",
    "data1['city'].loc[data['city'] == 2] = 1"
   ]
  },
  {
   "cell_type": "code",
   "execution_count": 30,
   "metadata": {},
   "outputs": [
    {
     "name": "stderr",
     "output_type": "stream",
     "text": [
      "C:\\Users\\asus\\anaconda3\\lib\\site-packages\\pandas\\core\\series.py:4563: SettingWithCopyWarning: \n",
      "A value is trying to be set on a copy of a slice from a DataFrame\n",
      "\n",
      "See the caveats in the documentation: https://pandas.pydata.org/pandas-docs/stable/user_guide/indexing.html#returning-a-view-versus-a-copy\n",
      "  return super().replace(\n"
     ]
    },
    {
     "data": {
      "text/html": [
       "<div>\n",
       "<style scoped>\n",
       "    .dataframe tbody tr th:only-of-type {\n",
       "        vertical-align: middle;\n",
       "    }\n",
       "\n",
       "    .dataframe tbody tr th {\n",
       "        vertical-align: top;\n",
       "    }\n",
       "\n",
       "    .dataframe thead th {\n",
       "        text-align: right;\n",
       "    }\n",
       "</style>\n",
       "<table border=\"1\" class=\"dataframe\">\n",
       "  <thead>\n",
       "    <tr style=\"text-align: right;\">\n",
       "      <th></th>\n",
       "      <th>TARGET</th>\n",
       "      <th>loyalty</th>\n",
       "      <th>ID</th>\n",
       "      <th>age</th>\n",
       "      <th>city</th>\n",
       "      <th>LOR</th>\n",
       "      <th>prod_A</th>\n",
       "      <th>type_A</th>\n",
       "      <th>type_B</th>\n",
       "      <th>prod_B</th>\n",
       "      <th>turnover_A</th>\n",
       "      <th>turnover_B</th>\n",
       "      <th>contract</th>\n",
       "      <th>age_P</th>\n",
       "      <th>lor_M</th>\n",
       "    </tr>\n",
       "  </thead>\n",
       "  <tbody>\n",
       "    <tr>\n",
       "      <th>0</th>\n",
       "      <td>Y</td>\n",
       "      <td>4</td>\n",
       "      <td>77</td>\n",
       "      <td>66</td>\n",
       "      <td>1</td>\n",
       "      <td>0</td>\n",
       "      <td>0</td>\n",
       "      <td>0</td>\n",
       "      <td>0</td>\n",
       "      <td>0</td>\n",
       "      <td>333.561114</td>\n",
       "      <td>264.721010</td>\n",
       "      <td>2</td>\n",
       "      <td>66</td>\n",
       "      <td>3</td>\n",
       "    </tr>\n",
       "    <tr>\n",
       "      <th>1</th>\n",
       "      <td>Y</td>\n",
       "      <td>1</td>\n",
       "      <td>159</td>\n",
       "      <td>45</td>\n",
       "      <td>1</td>\n",
       "      <td>3</td>\n",
       "      <td>1</td>\n",
       "      <td>3</td>\n",
       "      <td>3</td>\n",
       "      <td>1</td>\n",
       "      <td>394.735699</td>\n",
       "      <td>284.904978</td>\n",
       "      <td>2</td>\n",
       "      <td>45</td>\n",
       "      <td>39</td>\n",
       "    </tr>\n",
       "    <tr>\n",
       "      <th>2</th>\n",
       "      <td>Y</td>\n",
       "      <td>1</td>\n",
       "      <td>220</td>\n",
       "      <td>42</td>\n",
       "      <td>1</td>\n",
       "      <td>2</td>\n",
       "      <td>1</td>\n",
       "      <td>3</td>\n",
       "      <td>6</td>\n",
       "      <td>1</td>\n",
       "      <td>342.180990</td>\n",
       "      <td>1175.589721</td>\n",
       "      <td>2</td>\n",
       "      <td>42</td>\n",
       "      <td>27</td>\n",
       "    </tr>\n",
       "    <tr>\n",
       "      <th>3</th>\n",
       "      <td>Y</td>\n",
       "      <td>4</td>\n",
       "      <td>303</td>\n",
       "      <td>31</td>\n",
       "      <td>1</td>\n",
       "      <td>0</td>\n",
       "      <td>0</td>\n",
       "      <td>0</td>\n",
       "      <td>0</td>\n",
       "      <td>0</td>\n",
       "      <td>453.757916</td>\n",
       "      <td>242.341754</td>\n",
       "      <td>2</td>\n",
       "      <td>31</td>\n",
       "      <td>3</td>\n",
       "    </tr>\n",
       "    <tr>\n",
       "      <th>4</th>\n",
       "      <td>Y</td>\n",
       "      <td>4</td>\n",
       "      <td>306</td>\n",
       "      <td>62</td>\n",
       "      <td>1</td>\n",
       "      <td>0</td>\n",
       "      <td>0</td>\n",
       "      <td>0</td>\n",
       "      <td>0</td>\n",
       "      <td>0</td>\n",
       "      <td>384.577469</td>\n",
       "      <td>287.008370</td>\n",
       "      <td>2</td>\n",
       "      <td>62</td>\n",
       "      <td>3</td>\n",
       "    </tr>\n",
       "    <tr>\n",
       "      <th>...</th>\n",
       "      <td>...</td>\n",
       "      <td>...</td>\n",
       "      <td>...</td>\n",
       "      <td>...</td>\n",
       "      <td>...</td>\n",
       "      <td>...</td>\n",
       "      <td>...</td>\n",
       "      <td>...</td>\n",
       "      <td>...</td>\n",
       "      <td>...</td>\n",
       "      <td>...</td>\n",
       "      <td>...</td>\n",
       "      <td>...</td>\n",
       "      <td>...</td>\n",
       "      <td>...</td>\n",
       "    </tr>\n",
       "    <tr>\n",
       "      <th>11003</th>\n",
       "      <td>N</td>\n",
       "      <td>1</td>\n",
       "      <td>16793</td>\n",
       "      <td>33</td>\n",
       "      <td>1</td>\n",
       "      <td>2</td>\n",
       "      <td>1</td>\n",
       "      <td>3</td>\n",
       "      <td>3</td>\n",
       "      <td>1</td>\n",
       "      <td>302.380331</td>\n",
       "      <td>229.457986</td>\n",
       "      <td>2</td>\n",
       "      <td>33</td>\n",
       "      <td>27</td>\n",
       "    </tr>\n",
       "    <tr>\n",
       "      <th>11004</th>\n",
       "      <td>N</td>\n",
       "      <td>4</td>\n",
       "      <td>16794</td>\n",
       "      <td>23</td>\n",
       "      <td>1</td>\n",
       "      <td>0</td>\n",
       "      <td>0</td>\n",
       "      <td>0</td>\n",
       "      <td>0</td>\n",
       "      <td>0</td>\n",
       "      <td>316.268616</td>\n",
       "      <td>228.518505</td>\n",
       "      <td>2</td>\n",
       "      <td>23</td>\n",
       "      <td>3</td>\n",
       "    </tr>\n",
       "    <tr>\n",
       "      <th>11005</th>\n",
       "      <td>N</td>\n",
       "      <td>1</td>\n",
       "      <td>16798</td>\n",
       "      <td>23</td>\n",
       "      <td>1</td>\n",
       "      <td>2</td>\n",
       "      <td>1</td>\n",
       "      <td>3</td>\n",
       "      <td>3</td>\n",
       "      <td>1</td>\n",
       "      <td>385.871241</td>\n",
       "      <td>236.665515</td>\n",
       "      <td>2</td>\n",
       "      <td>23</td>\n",
       "      <td>27</td>\n",
       "    </tr>\n",
       "    <tr>\n",
       "      <th>11006</th>\n",
       "      <td>N</td>\n",
       "      <td>4</td>\n",
       "      <td>16800</td>\n",
       "      <td>32</td>\n",
       "      <td>1</td>\n",
       "      <td>1</td>\n",
       "      <td>1</td>\n",
       "      <td>3</td>\n",
       "      <td>3</td>\n",
       "      <td>1</td>\n",
       "      <td>317.578868</td>\n",
       "      <td>226.899614</td>\n",
       "      <td>2</td>\n",
       "      <td>32</td>\n",
       "      <td>15</td>\n",
       "    </tr>\n",
       "    <tr>\n",
       "      <th>11007</th>\n",
       "      <td>N</td>\n",
       "      <td>2</td>\n",
       "      <td>16801</td>\n",
       "      <td>23</td>\n",
       "      <td>1</td>\n",
       "      <td>3</td>\n",
       "      <td>1</td>\n",
       "      <td>3</td>\n",
       "      <td>3</td>\n",
       "      <td>1</td>\n",
       "      <td>349.035844</td>\n",
       "      <td>205.621402</td>\n",
       "      <td>2</td>\n",
       "      <td>23</td>\n",
       "      <td>39</td>\n",
       "    </tr>\n",
       "  </tbody>\n",
       "</table>\n",
       "<p>11008 rows × 15 columns</p>\n",
       "</div>"
      ],
      "text/plain": [
       "      TARGET  loyalty     ID  age  city  LOR  prod_A  type_A  type_B  prod_B  \\\n",
       "0          Y        4     77   66     1    0       0       0       0       0   \n",
       "1          Y        1    159   45     1    3       1       3       3       1   \n",
       "2          Y        1    220   42     1    2       1       3       6       1   \n",
       "3          Y        4    303   31     1    0       0       0       0       0   \n",
       "4          Y        4    306   62     1    0       0       0       0       0   \n",
       "...      ...      ...    ...  ...   ...  ...     ...     ...     ...     ...   \n",
       "11003      N        1  16793   33     1    2       1       3       3       1   \n",
       "11004      N        4  16794   23     1    0       0       0       0       0   \n",
       "11005      N        1  16798   23     1    2       1       3       3       1   \n",
       "11006      N        4  16800   32     1    1       1       3       3       1   \n",
       "11007      N        2  16801   23     1    3       1       3       3       1   \n",
       "\n",
       "       turnover_A   turnover_B  contract  age_P  lor_M  \n",
       "0      333.561114   264.721010         2     66      3  \n",
       "1      394.735699   284.904978         2     45     39  \n",
       "2      342.180990  1175.589721         2     42     27  \n",
       "3      453.757916   242.341754         2     31      3  \n",
       "4      384.577469   287.008370         2     62      3  \n",
       "...           ...          ...       ...    ...    ...  \n",
       "11003  302.380331   229.457986         2     33     27  \n",
       "11004  316.268616   228.518505         2     23      3  \n",
       "11005  385.871241   236.665515         2     23     27  \n",
       "11006  317.578868   226.899614         2     32     15  \n",
       "11007  349.035844   205.621402         2     23     39  \n",
       "\n",
       "[11008 rows x 15 columns]"
      ]
     },
     "execution_count": 30,
     "metadata": {},
     "output_type": "execute_result"
    }
   ],
   "source": [
    "# replace 99 with 4 in 'loyalty' column\n",
    "data1.loyalty.replace(99,4,inplace = True)\n",
    "data1"
   ]
  },
  {
   "cell_type": "code",
   "execution_count": 31,
   "metadata": {
    "scrolled": true
   },
   "outputs": [
    {
     "data": {
      "text/html": [
       "<div>\n",
       "<style scoped>\n",
       "    .dataframe tbody tr th:only-of-type {\n",
       "        vertical-align: middle;\n",
       "    }\n",
       "\n",
       "    .dataframe tbody tr th {\n",
       "        vertical-align: top;\n",
       "    }\n",
       "\n",
       "    .dataframe thead th {\n",
       "        text-align: right;\n",
       "    }\n",
       "</style>\n",
       "<table border=\"1\" class=\"dataframe\">\n",
       "  <thead>\n",
       "    <tr style=\"text-align: right;\">\n",
       "      <th></th>\n",
       "      <th>loyalty</th>\n",
       "      <th>ID</th>\n",
       "      <th>age</th>\n",
       "      <th>city</th>\n",
       "      <th>LOR</th>\n",
       "      <th>prod_A</th>\n",
       "      <th>type_A</th>\n",
       "      <th>type_B</th>\n",
       "      <th>prod_B</th>\n",
       "      <th>turnover_A</th>\n",
       "      <th>turnover_B</th>\n",
       "      <th>contract</th>\n",
       "      <th>age_P</th>\n",
       "      <th>lor_M</th>\n",
       "    </tr>\n",
       "  </thead>\n",
       "  <tbody>\n",
       "    <tr>\n",
       "      <th>count</th>\n",
       "      <td>11008.000000</td>\n",
       "      <td>11008.000000</td>\n",
       "      <td>11008.000000</td>\n",
       "      <td>11008.000000</td>\n",
       "      <td>11008.000000</td>\n",
       "      <td>11008.000000</td>\n",
       "      <td>11008.000000</td>\n",
       "      <td>11008.000000</td>\n",
       "      <td>11008.000000</td>\n",
       "      <td>11008.000000</td>\n",
       "      <td>11008.000000</td>\n",
       "      <td>11008.0</td>\n",
       "      <td>11008.000000</td>\n",
       "      <td>11008.000000</td>\n",
       "    </tr>\n",
       "    <tr>\n",
       "      <th>mean</th>\n",
       "      <td>2.968932</td>\n",
       "      <td>27023.459938</td>\n",
       "      <td>34.845203</td>\n",
       "      <td>0.978289</td>\n",
       "      <td>0.982649</td>\n",
       "      <td>0.584393</td>\n",
       "      <td>1.759448</td>\n",
       "      <td>2.097929</td>\n",
       "      <td>0.652253</td>\n",
       "      <td>372.332403</td>\n",
       "      <td>344.120565</td>\n",
       "      <td>2.0</td>\n",
       "      <td>34.845203</td>\n",
       "      <td>14.791788</td>\n",
       "    </tr>\n",
       "    <tr>\n",
       "      <th>std</th>\n",
       "      <td>1.159622</td>\n",
       "      <td>38576.841141</td>\n",
       "      <td>13.032781</td>\n",
       "      <td>0.145746</td>\n",
       "      <td>0.939415</td>\n",
       "      <td>0.492849</td>\n",
       "      <td>1.490133</td>\n",
       "      <td>1.671441</td>\n",
       "      <td>0.476277</td>\n",
       "      <td>96.685932</td>\n",
       "      <td>524.372413</td>\n",
       "      <td>0.0</td>\n",
       "      <td>13.032781</td>\n",
       "      <td>11.272981</td>\n",
       "    </tr>\n",
       "    <tr>\n",
       "      <th>min</th>\n",
       "      <td>0.000000</td>\n",
       "      <td>1.000000</td>\n",
       "      <td>5.000000</td>\n",
       "      <td>0.000000</td>\n",
       "      <td>0.000000</td>\n",
       "      <td>0.000000</td>\n",
       "      <td>0.000000</td>\n",
       "      <td>0.000000</td>\n",
       "      <td>0.000000</td>\n",
       "      <td>300.095909</td>\n",
       "      <td>191.962852</td>\n",
       "      <td>2.0</td>\n",
       "      <td>5.000000</td>\n",
       "      <td>3.000000</td>\n",
       "    </tr>\n",
       "    <tr>\n",
       "      <th>25%</th>\n",
       "      <td>2.000000</td>\n",
       "      <td>5480.000000</td>\n",
       "      <td>24.000000</td>\n",
       "      <td>1.000000</td>\n",
       "      <td>0.000000</td>\n",
       "      <td>0.000000</td>\n",
       "      <td>0.000000</td>\n",
       "      <td>0.000000</td>\n",
       "      <td>0.000000</td>\n",
       "      <td>332.229899</td>\n",
       "      <td>218.302029</td>\n",
       "      <td>2.0</td>\n",
       "      <td>24.000000</td>\n",
       "      <td>3.000000</td>\n",
       "    </tr>\n",
       "    <tr>\n",
       "      <th>50%</th>\n",
       "      <td>3.000000</td>\n",
       "      <td>11025.500000</td>\n",
       "      <td>31.000000</td>\n",
       "      <td>1.000000</td>\n",
       "      <td>1.000000</td>\n",
       "      <td>1.000000</td>\n",
       "      <td>3.000000</td>\n",
       "      <td>3.000000</td>\n",
       "      <td>1.000000</td>\n",
       "      <td>361.930298</td>\n",
       "      <td>235.025216</td>\n",
       "      <td>2.0</td>\n",
       "      <td>31.000000</td>\n",
       "      <td>15.000000</td>\n",
       "    </tr>\n",
       "    <tr>\n",
       "      <th>75%</th>\n",
       "      <td>4.000000</td>\n",
       "      <td>16632.250000</td>\n",
       "      <td>42.000000</td>\n",
       "      <td>1.000000</td>\n",
       "      <td>1.000000</td>\n",
       "      <td>1.000000</td>\n",
       "      <td>3.000000</td>\n",
       "      <td>3.000000</td>\n",
       "      <td>1.000000</td>\n",
       "      <td>391.567662</td>\n",
       "      <td>253.759401</td>\n",
       "      <td>2.0</td>\n",
       "      <td>42.000000</td>\n",
       "      <td>15.000000</td>\n",
       "    </tr>\n",
       "    <tr>\n",
       "      <th>max</th>\n",
       "      <td>4.000000</td>\n",
       "      <td>151811.000000</td>\n",
       "      <td>102.000000</td>\n",
       "      <td>1.000000</td>\n",
       "      <td>6.000000</td>\n",
       "      <td>1.000000</td>\n",
       "      <td>6.000000</td>\n",
       "      <td>9.000000</td>\n",
       "      <td>1.000000</td>\n",
       "      <td>5568.784139</td>\n",
       "      <td>12249.084770</td>\n",
       "      <td>2.0</td>\n",
       "      <td>102.000000</td>\n",
       "      <td>75.000000</td>\n",
       "    </tr>\n",
       "  </tbody>\n",
       "</table>\n",
       "</div>"
      ],
      "text/plain": [
       "            loyalty             ID           age          city           LOR  \\\n",
       "count  11008.000000   11008.000000  11008.000000  11008.000000  11008.000000   \n",
       "mean       2.968932   27023.459938     34.845203      0.978289      0.982649   \n",
       "std        1.159622   38576.841141     13.032781      0.145746      0.939415   \n",
       "min        0.000000       1.000000      5.000000      0.000000      0.000000   \n",
       "25%        2.000000    5480.000000     24.000000      1.000000      0.000000   \n",
       "50%        3.000000   11025.500000     31.000000      1.000000      1.000000   \n",
       "75%        4.000000   16632.250000     42.000000      1.000000      1.000000   \n",
       "max        4.000000  151811.000000    102.000000      1.000000      6.000000   \n",
       "\n",
       "             prod_A        type_A        type_B        prod_B    turnover_A  \\\n",
       "count  11008.000000  11008.000000  11008.000000  11008.000000  11008.000000   \n",
       "mean       0.584393      1.759448      2.097929      0.652253    372.332403   \n",
       "std        0.492849      1.490133      1.671441      0.476277     96.685932   \n",
       "min        0.000000      0.000000      0.000000      0.000000    300.095909   \n",
       "25%        0.000000      0.000000      0.000000      0.000000    332.229899   \n",
       "50%        1.000000      3.000000      3.000000      1.000000    361.930298   \n",
       "75%        1.000000      3.000000      3.000000      1.000000    391.567662   \n",
       "max        1.000000      6.000000      9.000000      1.000000   5568.784139   \n",
       "\n",
       "         turnover_B  contract         age_P         lor_M  \n",
       "count  11008.000000   11008.0  11008.000000  11008.000000  \n",
       "mean     344.120565       2.0     34.845203     14.791788  \n",
       "std      524.372413       0.0     13.032781     11.272981  \n",
       "min      191.962852       2.0      5.000000      3.000000  \n",
       "25%      218.302029       2.0     24.000000      3.000000  \n",
       "50%      235.025216       2.0     31.000000     15.000000  \n",
       "75%      253.759401       2.0     42.000000     15.000000  \n",
       "max    12249.084770       2.0    102.000000     75.000000  "
      ]
     },
     "execution_count": 31,
     "metadata": {},
     "output_type": "execute_result"
    }
   ],
   "source": [
    "data1.describe()"
   ]
  },
  {
   "cell_type": "markdown",
   "metadata": {},
   "source": [
    "From the above chart and corr() for numerical variables, we can see that the variances of 'city' and 'contract' are really low, the correlation coefficient between 'age' and 'age_P' is 1, the correlation coefficient between 'LOR' and 'lor_M' is 1, too, and 'ID' has no values for our further models, so we drop \"ID\", \"city\", \"contract\", \"age_P\", \"lor_M\" columns below."
   ]
  },
  {
   "cell_type": "code",
   "execution_count": 32,
   "metadata": {},
   "outputs": [
    {
     "name": "stderr",
     "output_type": "stream",
     "text": [
      "C:\\Users\\asus\\anaconda3\\lib\\site-packages\\pandas\\core\\frame.py:4163: SettingWithCopyWarning: \n",
      "A value is trying to be set on a copy of a slice from a DataFrame\n",
      "\n",
      "See the caveats in the documentation: https://pandas.pydata.org/pandas-docs/stable/user_guide/indexing.html#returning-a-view-versus-a-copy\n",
      "  return super().drop(\n"
     ]
    }
   ],
   "source": [
    "data1.drop([\"ID\",\"city\",\"contract\",\"age_P\",\"lor_M\"],axis=1,inplace=True)"
   ]
  },
  {
   "cell_type": "code",
   "execution_count": 33,
   "metadata": {},
   "outputs": [
    {
     "data": {
      "text/html": [
       "<div>\n",
       "<style scoped>\n",
       "    .dataframe tbody tr th:only-of-type {\n",
       "        vertical-align: middle;\n",
       "    }\n",
       "\n",
       "    .dataframe tbody tr th {\n",
       "        vertical-align: top;\n",
       "    }\n",
       "\n",
       "    .dataframe thead th {\n",
       "        text-align: right;\n",
       "    }\n",
       "</style>\n",
       "<table border=\"1\" class=\"dataframe\">\n",
       "  <thead>\n",
       "    <tr style=\"text-align: right;\">\n",
       "      <th></th>\n",
       "      <th>TARGET</th>\n",
       "      <th>loyalty</th>\n",
       "      <th>age</th>\n",
       "      <th>LOR</th>\n",
       "      <th>prod_A</th>\n",
       "      <th>type_A</th>\n",
       "      <th>type_B</th>\n",
       "      <th>prod_B</th>\n",
       "      <th>turnover_A</th>\n",
       "      <th>turnover_B</th>\n",
       "    </tr>\n",
       "  </thead>\n",
       "  <tbody>\n",
       "    <tr>\n",
       "      <th>0</th>\n",
       "      <td>Y</td>\n",
       "      <td>4</td>\n",
       "      <td>66</td>\n",
       "      <td>0</td>\n",
       "      <td>0</td>\n",
       "      <td>0</td>\n",
       "      <td>0</td>\n",
       "      <td>0</td>\n",
       "      <td>333.561114</td>\n",
       "      <td>264.721010</td>\n",
       "    </tr>\n",
       "    <tr>\n",
       "      <th>1</th>\n",
       "      <td>Y</td>\n",
       "      <td>1</td>\n",
       "      <td>45</td>\n",
       "      <td>3</td>\n",
       "      <td>1</td>\n",
       "      <td>3</td>\n",
       "      <td>3</td>\n",
       "      <td>1</td>\n",
       "      <td>394.735699</td>\n",
       "      <td>284.904978</td>\n",
       "    </tr>\n",
       "    <tr>\n",
       "      <th>2</th>\n",
       "      <td>Y</td>\n",
       "      <td>1</td>\n",
       "      <td>42</td>\n",
       "      <td>2</td>\n",
       "      <td>1</td>\n",
       "      <td>3</td>\n",
       "      <td>6</td>\n",
       "      <td>1</td>\n",
       "      <td>342.180990</td>\n",
       "      <td>1175.589721</td>\n",
       "    </tr>\n",
       "    <tr>\n",
       "      <th>3</th>\n",
       "      <td>Y</td>\n",
       "      <td>4</td>\n",
       "      <td>31</td>\n",
       "      <td>0</td>\n",
       "      <td>0</td>\n",
       "      <td>0</td>\n",
       "      <td>0</td>\n",
       "      <td>0</td>\n",
       "      <td>453.757916</td>\n",
       "      <td>242.341754</td>\n",
       "    </tr>\n",
       "    <tr>\n",
       "      <th>4</th>\n",
       "      <td>Y</td>\n",
       "      <td>4</td>\n",
       "      <td>62</td>\n",
       "      <td>0</td>\n",
       "      <td>0</td>\n",
       "      <td>0</td>\n",
       "      <td>0</td>\n",
       "      <td>0</td>\n",
       "      <td>384.577469</td>\n",
       "      <td>287.008370</td>\n",
       "    </tr>\n",
       "    <tr>\n",
       "      <th>...</th>\n",
       "      <td>...</td>\n",
       "      <td>...</td>\n",
       "      <td>...</td>\n",
       "      <td>...</td>\n",
       "      <td>...</td>\n",
       "      <td>...</td>\n",
       "      <td>...</td>\n",
       "      <td>...</td>\n",
       "      <td>...</td>\n",
       "      <td>...</td>\n",
       "    </tr>\n",
       "    <tr>\n",
       "      <th>11003</th>\n",
       "      <td>N</td>\n",
       "      <td>1</td>\n",
       "      <td>33</td>\n",
       "      <td>2</td>\n",
       "      <td>1</td>\n",
       "      <td>3</td>\n",
       "      <td>3</td>\n",
       "      <td>1</td>\n",
       "      <td>302.380331</td>\n",
       "      <td>229.457986</td>\n",
       "    </tr>\n",
       "    <tr>\n",
       "      <th>11004</th>\n",
       "      <td>N</td>\n",
       "      <td>4</td>\n",
       "      <td>23</td>\n",
       "      <td>0</td>\n",
       "      <td>0</td>\n",
       "      <td>0</td>\n",
       "      <td>0</td>\n",
       "      <td>0</td>\n",
       "      <td>316.268616</td>\n",
       "      <td>228.518505</td>\n",
       "    </tr>\n",
       "    <tr>\n",
       "      <th>11005</th>\n",
       "      <td>N</td>\n",
       "      <td>1</td>\n",
       "      <td>23</td>\n",
       "      <td>2</td>\n",
       "      <td>1</td>\n",
       "      <td>3</td>\n",
       "      <td>3</td>\n",
       "      <td>1</td>\n",
       "      <td>385.871241</td>\n",
       "      <td>236.665515</td>\n",
       "    </tr>\n",
       "    <tr>\n",
       "      <th>11006</th>\n",
       "      <td>N</td>\n",
       "      <td>4</td>\n",
       "      <td>32</td>\n",
       "      <td>1</td>\n",
       "      <td>1</td>\n",
       "      <td>3</td>\n",
       "      <td>3</td>\n",
       "      <td>1</td>\n",
       "      <td>317.578868</td>\n",
       "      <td>226.899614</td>\n",
       "    </tr>\n",
       "    <tr>\n",
       "      <th>11007</th>\n",
       "      <td>N</td>\n",
       "      <td>2</td>\n",
       "      <td>23</td>\n",
       "      <td>3</td>\n",
       "      <td>1</td>\n",
       "      <td>3</td>\n",
       "      <td>3</td>\n",
       "      <td>1</td>\n",
       "      <td>349.035844</td>\n",
       "      <td>205.621402</td>\n",
       "    </tr>\n",
       "  </tbody>\n",
       "</table>\n",
       "<p>11008 rows × 10 columns</p>\n",
       "</div>"
      ],
      "text/plain": [
       "      TARGET  loyalty  age  LOR  prod_A  type_A  type_B  prod_B  turnover_A  \\\n",
       "0          Y        4   66    0       0       0       0       0  333.561114   \n",
       "1          Y        1   45    3       1       3       3       1  394.735699   \n",
       "2          Y        1   42    2       1       3       6       1  342.180990   \n",
       "3          Y        4   31    0       0       0       0       0  453.757916   \n",
       "4          Y        4   62    0       0       0       0       0  384.577469   \n",
       "...      ...      ...  ...  ...     ...     ...     ...     ...         ...   \n",
       "11003      N        1   33    2       1       3       3       1  302.380331   \n",
       "11004      N        4   23    0       0       0       0       0  316.268616   \n",
       "11005      N        1   23    2       1       3       3       1  385.871241   \n",
       "11006      N        4   32    1       1       3       3       1  317.578868   \n",
       "11007      N        2   23    3       1       3       3       1  349.035844   \n",
       "\n",
       "        turnover_B  \n",
       "0       264.721010  \n",
       "1       284.904978  \n",
       "2      1175.589721  \n",
       "3       242.341754  \n",
       "4       287.008370  \n",
       "...            ...  \n",
       "11003   229.457986  \n",
       "11004   228.518505  \n",
       "11005   236.665515  \n",
       "11006   226.899614  \n",
       "11007   205.621402  \n",
       "\n",
       "[11008 rows x 10 columns]"
      ]
     },
     "execution_count": 33,
     "metadata": {},
     "output_type": "execute_result"
    }
   ],
   "source": [
    "data1"
   ]
  },
  {
   "cell_type": "code",
   "execution_count": 34,
   "metadata": {},
   "outputs": [],
   "source": [
    "from sklearn.preprocessing import StandardScaler"
   ]
  },
  {
   "cell_type": "code",
   "execution_count": 35,
   "metadata": {},
   "outputs": [
    {
     "data": {
      "text/plain": [
       "array([[ 2.39060344, -1.04606962, -0.4010206 , -0.15142513],\n",
       "       [ 0.7792088 ,  2.14755182,  0.23172258, -0.11293172],\n",
       "       [ 0.54900956,  1.08301134, -0.31186319,  1.58571829],\n",
       "       ...,\n",
       "       [-0.90891893,  1.08301134,  0.1400354 , -0.20493056],\n",
       "       [-0.21832122,  0.01847086, -0.56632874, -0.22355538],\n",
       "       [-0.90891893,  2.14755182, -0.24096181, -0.26413566]])"
      ]
     },
     "execution_count": 35,
     "metadata": {},
     "output_type": "execute_result"
    }
   ],
   "source": [
    "# Standardized numeric variables\n",
    "scaler = StandardScaler()\n",
    "a = scaler.fit_transform(data1.iloc[:,[2,3,8,9]])\n",
    "a"
   ]
  },
  {
   "cell_type": "code",
   "execution_count": 36,
   "metadata": {},
   "outputs": [
    {
     "data": {
      "text/html": [
       "<div>\n",
       "<style scoped>\n",
       "    .dataframe tbody tr th:only-of-type {\n",
       "        vertical-align: middle;\n",
       "    }\n",
       "\n",
       "    .dataframe tbody tr th {\n",
       "        vertical-align: top;\n",
       "    }\n",
       "\n",
       "    .dataframe thead th {\n",
       "        text-align: right;\n",
       "    }\n",
       "</style>\n",
       "<table border=\"1\" class=\"dataframe\">\n",
       "  <thead>\n",
       "    <tr style=\"text-align: right;\">\n",
       "      <th></th>\n",
       "      <th>TARGET</th>\n",
       "      <th>loyalty</th>\n",
       "      <th>age</th>\n",
       "      <th>LOR</th>\n",
       "      <th>prod_A</th>\n",
       "      <th>type_A</th>\n",
       "      <th>type_B</th>\n",
       "      <th>prod_B</th>\n",
       "      <th>turnover_A</th>\n",
       "      <th>turnover_B</th>\n",
       "      <th>0</th>\n",
       "      <th>1</th>\n",
       "      <th>2</th>\n",
       "      <th>3</th>\n",
       "    </tr>\n",
       "  </thead>\n",
       "  <tbody>\n",
       "    <tr>\n",
       "      <th>0</th>\n",
       "      <td>Y</td>\n",
       "      <td>4</td>\n",
       "      <td>66</td>\n",
       "      <td>0</td>\n",
       "      <td>0</td>\n",
       "      <td>0</td>\n",
       "      <td>0</td>\n",
       "      <td>0</td>\n",
       "      <td>333.561114</td>\n",
       "      <td>264.721010</td>\n",
       "      <td>2.390603</td>\n",
       "      <td>-1.046070</td>\n",
       "      <td>-0.401021</td>\n",
       "      <td>-0.151425</td>\n",
       "    </tr>\n",
       "    <tr>\n",
       "      <th>1</th>\n",
       "      <td>Y</td>\n",
       "      <td>1</td>\n",
       "      <td>45</td>\n",
       "      <td>3</td>\n",
       "      <td>1</td>\n",
       "      <td>3</td>\n",
       "      <td>3</td>\n",
       "      <td>1</td>\n",
       "      <td>394.735699</td>\n",
       "      <td>284.904978</td>\n",
       "      <td>0.779209</td>\n",
       "      <td>2.147552</td>\n",
       "      <td>0.231723</td>\n",
       "      <td>-0.112932</td>\n",
       "    </tr>\n",
       "    <tr>\n",
       "      <th>2</th>\n",
       "      <td>Y</td>\n",
       "      <td>1</td>\n",
       "      <td>42</td>\n",
       "      <td>2</td>\n",
       "      <td>1</td>\n",
       "      <td>3</td>\n",
       "      <td>6</td>\n",
       "      <td>1</td>\n",
       "      <td>342.180990</td>\n",
       "      <td>1175.589721</td>\n",
       "      <td>0.549010</td>\n",
       "      <td>1.083011</td>\n",
       "      <td>-0.311863</td>\n",
       "      <td>1.585718</td>\n",
       "    </tr>\n",
       "    <tr>\n",
       "      <th>3</th>\n",
       "      <td>Y</td>\n",
       "      <td>4</td>\n",
       "      <td>31</td>\n",
       "      <td>0</td>\n",
       "      <td>0</td>\n",
       "      <td>0</td>\n",
       "      <td>0</td>\n",
       "      <td>0</td>\n",
       "      <td>453.757916</td>\n",
       "      <td>242.341754</td>\n",
       "      <td>-0.295054</td>\n",
       "      <td>-1.046070</td>\n",
       "      <td>0.842203</td>\n",
       "      <td>-0.194105</td>\n",
       "    </tr>\n",
       "    <tr>\n",
       "      <th>4</th>\n",
       "      <td>Y</td>\n",
       "      <td>4</td>\n",
       "      <td>62</td>\n",
       "      <td>0</td>\n",
       "      <td>0</td>\n",
       "      <td>0</td>\n",
       "      <td>0</td>\n",
       "      <td>0</td>\n",
       "      <td>384.577469</td>\n",
       "      <td>287.008370</td>\n",
       "      <td>2.083671</td>\n",
       "      <td>-1.046070</td>\n",
       "      <td>0.126654</td>\n",
       "      <td>-0.108920</td>\n",
       "    </tr>\n",
       "    <tr>\n",
       "      <th>...</th>\n",
       "      <td>...</td>\n",
       "      <td>...</td>\n",
       "      <td>...</td>\n",
       "      <td>...</td>\n",
       "      <td>...</td>\n",
       "      <td>...</td>\n",
       "      <td>...</td>\n",
       "      <td>...</td>\n",
       "      <td>...</td>\n",
       "      <td>...</td>\n",
       "      <td>...</td>\n",
       "      <td>...</td>\n",
       "      <td>...</td>\n",
       "      <td>...</td>\n",
       "    </tr>\n",
       "    <tr>\n",
       "      <th>11003</th>\n",
       "      <td>N</td>\n",
       "      <td>1</td>\n",
       "      <td>33</td>\n",
       "      <td>2</td>\n",
       "      <td>1</td>\n",
       "      <td>3</td>\n",
       "      <td>3</td>\n",
       "      <td>1</td>\n",
       "      <td>302.380331</td>\n",
       "      <td>229.457986</td>\n",
       "      <td>-0.141588</td>\n",
       "      <td>1.083011</td>\n",
       "      <td>-0.723531</td>\n",
       "      <td>-0.218676</td>\n",
       "    </tr>\n",
       "    <tr>\n",
       "      <th>11004</th>\n",
       "      <td>N</td>\n",
       "      <td>4</td>\n",
       "      <td>23</td>\n",
       "      <td>0</td>\n",
       "      <td>0</td>\n",
       "      <td>0</td>\n",
       "      <td>0</td>\n",
       "      <td>0</td>\n",
       "      <td>316.268616</td>\n",
       "      <td>228.518505</td>\n",
       "      <td>-0.908919</td>\n",
       "      <td>-1.046070</td>\n",
       "      <td>-0.579881</td>\n",
       "      <td>-0.220468</td>\n",
       "    </tr>\n",
       "    <tr>\n",
       "      <th>11005</th>\n",
       "      <td>N</td>\n",
       "      <td>1</td>\n",
       "      <td>23</td>\n",
       "      <td>2</td>\n",
       "      <td>1</td>\n",
       "      <td>3</td>\n",
       "      <td>3</td>\n",
       "      <td>1</td>\n",
       "      <td>385.871241</td>\n",
       "      <td>236.665515</td>\n",
       "      <td>-0.908919</td>\n",
       "      <td>1.083011</td>\n",
       "      <td>0.140035</td>\n",
       "      <td>-0.204931</td>\n",
       "    </tr>\n",
       "    <tr>\n",
       "      <th>11006</th>\n",
       "      <td>N</td>\n",
       "      <td>4</td>\n",
       "      <td>32</td>\n",
       "      <td>1</td>\n",
       "      <td>1</td>\n",
       "      <td>3</td>\n",
       "      <td>3</td>\n",
       "      <td>1</td>\n",
       "      <td>317.578868</td>\n",
       "      <td>226.899614</td>\n",
       "      <td>-0.218321</td>\n",
       "      <td>0.018471</td>\n",
       "      <td>-0.566329</td>\n",
       "      <td>-0.223555</td>\n",
       "    </tr>\n",
       "    <tr>\n",
       "      <th>11007</th>\n",
       "      <td>N</td>\n",
       "      <td>2</td>\n",
       "      <td>23</td>\n",
       "      <td>3</td>\n",
       "      <td>1</td>\n",
       "      <td>3</td>\n",
       "      <td>3</td>\n",
       "      <td>1</td>\n",
       "      <td>349.035844</td>\n",
       "      <td>205.621402</td>\n",
       "      <td>-0.908919</td>\n",
       "      <td>2.147552</td>\n",
       "      <td>-0.240962</td>\n",
       "      <td>-0.264136</td>\n",
       "    </tr>\n",
       "  </tbody>\n",
       "</table>\n",
       "<p>11008 rows × 14 columns</p>\n",
       "</div>"
      ],
      "text/plain": [
       "      TARGET  loyalty  age  LOR  prod_A  type_A  type_B  prod_B  turnover_A  \\\n",
       "0          Y        4   66    0       0       0       0       0  333.561114   \n",
       "1          Y        1   45    3       1       3       3       1  394.735699   \n",
       "2          Y        1   42    2       1       3       6       1  342.180990   \n",
       "3          Y        4   31    0       0       0       0       0  453.757916   \n",
       "4          Y        4   62    0       0       0       0       0  384.577469   \n",
       "...      ...      ...  ...  ...     ...     ...     ...     ...         ...   \n",
       "11003      N        1   33    2       1       3       3       1  302.380331   \n",
       "11004      N        4   23    0       0       0       0       0  316.268616   \n",
       "11005      N        1   23    2       1       3       3       1  385.871241   \n",
       "11006      N        4   32    1       1       3       3       1  317.578868   \n",
       "11007      N        2   23    3       1       3       3       1  349.035844   \n",
       "\n",
       "        turnover_B         0         1         2         3  \n",
       "0       264.721010  2.390603 -1.046070 -0.401021 -0.151425  \n",
       "1       284.904978  0.779209  2.147552  0.231723 -0.112932  \n",
       "2      1175.589721  0.549010  1.083011 -0.311863  1.585718  \n",
       "3       242.341754 -0.295054 -1.046070  0.842203 -0.194105  \n",
       "4       287.008370  2.083671 -1.046070  0.126654 -0.108920  \n",
       "...            ...       ...       ...       ...       ...  \n",
       "11003   229.457986 -0.141588  1.083011 -0.723531 -0.218676  \n",
       "11004   228.518505 -0.908919 -1.046070 -0.579881 -0.220468  \n",
       "11005   236.665515 -0.908919  1.083011  0.140035 -0.204931  \n",
       "11006   226.899614 -0.218321  0.018471 -0.566329 -0.223555  \n",
       "11007   205.621402 -0.908919  2.147552 -0.240962 -0.264136  \n",
       "\n",
       "[11008 rows x 14 columns]"
      ]
     },
     "execution_count": 36,
     "metadata": {},
     "output_type": "execute_result"
    }
   ],
   "source": [
    "b= pd.concat([data1,pd.DataFrame(a)], axis=1)\n",
    "b"
   ]
  },
  {
   "cell_type": "code",
   "execution_count": 37,
   "metadata": {},
   "outputs": [],
   "source": [
    "# drop the duplicated columns\n",
    "b.drop(['age','LOR','turnover_A','turnover_B'],axis=1,inplace=True)"
   ]
  },
  {
   "cell_type": "code",
   "execution_count": 38,
   "metadata": {},
   "outputs": [
    {
     "data": {
      "text/html": [
       "<div>\n",
       "<style scoped>\n",
       "    .dataframe tbody tr th:only-of-type {\n",
       "        vertical-align: middle;\n",
       "    }\n",
       "\n",
       "    .dataframe tbody tr th {\n",
       "        vertical-align: top;\n",
       "    }\n",
       "\n",
       "    .dataframe thead th {\n",
       "        text-align: right;\n",
       "    }\n",
       "</style>\n",
       "<table border=\"1\" class=\"dataframe\">\n",
       "  <thead>\n",
       "    <tr style=\"text-align: right;\">\n",
       "      <th></th>\n",
       "      <th>TARGET</th>\n",
       "      <th>loyalty</th>\n",
       "      <th>prod_A</th>\n",
       "      <th>type_A</th>\n",
       "      <th>type_B</th>\n",
       "      <th>prod_B</th>\n",
       "      <th>0</th>\n",
       "      <th>1</th>\n",
       "      <th>2</th>\n",
       "      <th>3</th>\n",
       "    </tr>\n",
       "  </thead>\n",
       "  <tbody>\n",
       "    <tr>\n",
       "      <th>0</th>\n",
       "      <td>Y</td>\n",
       "      <td>4</td>\n",
       "      <td>0</td>\n",
       "      <td>0</td>\n",
       "      <td>0</td>\n",
       "      <td>0</td>\n",
       "      <td>2.390603</td>\n",
       "      <td>-1.046070</td>\n",
       "      <td>-0.401021</td>\n",
       "      <td>-0.151425</td>\n",
       "    </tr>\n",
       "    <tr>\n",
       "      <th>1</th>\n",
       "      <td>Y</td>\n",
       "      <td>1</td>\n",
       "      <td>1</td>\n",
       "      <td>3</td>\n",
       "      <td>3</td>\n",
       "      <td>1</td>\n",
       "      <td>0.779209</td>\n",
       "      <td>2.147552</td>\n",
       "      <td>0.231723</td>\n",
       "      <td>-0.112932</td>\n",
       "    </tr>\n",
       "    <tr>\n",
       "      <th>2</th>\n",
       "      <td>Y</td>\n",
       "      <td>1</td>\n",
       "      <td>1</td>\n",
       "      <td>3</td>\n",
       "      <td>6</td>\n",
       "      <td>1</td>\n",
       "      <td>0.549010</td>\n",
       "      <td>1.083011</td>\n",
       "      <td>-0.311863</td>\n",
       "      <td>1.585718</td>\n",
       "    </tr>\n",
       "    <tr>\n",
       "      <th>3</th>\n",
       "      <td>Y</td>\n",
       "      <td>4</td>\n",
       "      <td>0</td>\n",
       "      <td>0</td>\n",
       "      <td>0</td>\n",
       "      <td>0</td>\n",
       "      <td>-0.295054</td>\n",
       "      <td>-1.046070</td>\n",
       "      <td>0.842203</td>\n",
       "      <td>-0.194105</td>\n",
       "    </tr>\n",
       "    <tr>\n",
       "      <th>4</th>\n",
       "      <td>Y</td>\n",
       "      <td>4</td>\n",
       "      <td>0</td>\n",
       "      <td>0</td>\n",
       "      <td>0</td>\n",
       "      <td>0</td>\n",
       "      <td>2.083671</td>\n",
       "      <td>-1.046070</td>\n",
       "      <td>0.126654</td>\n",
       "      <td>-0.108920</td>\n",
       "    </tr>\n",
       "    <tr>\n",
       "      <th>...</th>\n",
       "      <td>...</td>\n",
       "      <td>...</td>\n",
       "      <td>...</td>\n",
       "      <td>...</td>\n",
       "      <td>...</td>\n",
       "      <td>...</td>\n",
       "      <td>...</td>\n",
       "      <td>...</td>\n",
       "      <td>...</td>\n",
       "      <td>...</td>\n",
       "    </tr>\n",
       "    <tr>\n",
       "      <th>11003</th>\n",
       "      <td>N</td>\n",
       "      <td>1</td>\n",
       "      <td>1</td>\n",
       "      <td>3</td>\n",
       "      <td>3</td>\n",
       "      <td>1</td>\n",
       "      <td>-0.141588</td>\n",
       "      <td>1.083011</td>\n",
       "      <td>-0.723531</td>\n",
       "      <td>-0.218676</td>\n",
       "    </tr>\n",
       "    <tr>\n",
       "      <th>11004</th>\n",
       "      <td>N</td>\n",
       "      <td>4</td>\n",
       "      <td>0</td>\n",
       "      <td>0</td>\n",
       "      <td>0</td>\n",
       "      <td>0</td>\n",
       "      <td>-0.908919</td>\n",
       "      <td>-1.046070</td>\n",
       "      <td>-0.579881</td>\n",
       "      <td>-0.220468</td>\n",
       "    </tr>\n",
       "    <tr>\n",
       "      <th>11005</th>\n",
       "      <td>N</td>\n",
       "      <td>1</td>\n",
       "      <td>1</td>\n",
       "      <td>3</td>\n",
       "      <td>3</td>\n",
       "      <td>1</td>\n",
       "      <td>-0.908919</td>\n",
       "      <td>1.083011</td>\n",
       "      <td>0.140035</td>\n",
       "      <td>-0.204931</td>\n",
       "    </tr>\n",
       "    <tr>\n",
       "      <th>11006</th>\n",
       "      <td>N</td>\n",
       "      <td>4</td>\n",
       "      <td>1</td>\n",
       "      <td>3</td>\n",
       "      <td>3</td>\n",
       "      <td>1</td>\n",
       "      <td>-0.218321</td>\n",
       "      <td>0.018471</td>\n",
       "      <td>-0.566329</td>\n",
       "      <td>-0.223555</td>\n",
       "    </tr>\n",
       "    <tr>\n",
       "      <th>11007</th>\n",
       "      <td>N</td>\n",
       "      <td>2</td>\n",
       "      <td>1</td>\n",
       "      <td>3</td>\n",
       "      <td>3</td>\n",
       "      <td>1</td>\n",
       "      <td>-0.908919</td>\n",
       "      <td>2.147552</td>\n",
       "      <td>-0.240962</td>\n",
       "      <td>-0.264136</td>\n",
       "    </tr>\n",
       "  </tbody>\n",
       "</table>\n",
       "<p>11008 rows × 10 columns</p>\n",
       "</div>"
      ],
      "text/plain": [
       "      TARGET  loyalty  prod_A  type_A  type_B  prod_B         0         1  \\\n",
       "0          Y        4       0       0       0       0  2.390603 -1.046070   \n",
       "1          Y        1       1       3       3       1  0.779209  2.147552   \n",
       "2          Y        1       1       3       6       1  0.549010  1.083011   \n",
       "3          Y        4       0       0       0       0 -0.295054 -1.046070   \n",
       "4          Y        4       0       0       0       0  2.083671 -1.046070   \n",
       "...      ...      ...     ...     ...     ...     ...       ...       ...   \n",
       "11003      N        1       1       3       3       1 -0.141588  1.083011   \n",
       "11004      N        4       0       0       0       0 -0.908919 -1.046070   \n",
       "11005      N        1       1       3       3       1 -0.908919  1.083011   \n",
       "11006      N        4       1       3       3       1 -0.218321  0.018471   \n",
       "11007      N        2       1       3       3       1 -0.908919  2.147552   \n",
       "\n",
       "              2         3  \n",
       "0     -0.401021 -0.151425  \n",
       "1      0.231723 -0.112932  \n",
       "2     -0.311863  1.585718  \n",
       "3      0.842203 -0.194105  \n",
       "4      0.126654 -0.108920  \n",
       "...         ...       ...  \n",
       "11003 -0.723531 -0.218676  \n",
       "11004 -0.579881 -0.220468  \n",
       "11005  0.140035 -0.204931  \n",
       "11006 -0.566329 -0.223555  \n",
       "11007 -0.240962 -0.264136  \n",
       "\n",
       "[11008 rows x 10 columns]"
      ]
     },
     "execution_count": 38,
     "metadata": {},
     "output_type": "execute_result"
    }
   ],
   "source": [
    "b"
   ]
  },
  {
   "cell_type": "code",
   "execution_count": 39,
   "metadata": {},
   "outputs": [
    {
     "data": {
      "text/html": [
       "<div>\n",
       "<style scoped>\n",
       "    .dataframe tbody tr th:only-of-type {\n",
       "        vertical-align: middle;\n",
       "    }\n",
       "\n",
       "    .dataframe tbody tr th {\n",
       "        vertical-align: top;\n",
       "    }\n",
       "\n",
       "    .dataframe thead th {\n",
       "        text-align: right;\n",
       "    }\n",
       "</style>\n",
       "<table border=\"1\" class=\"dataframe\">\n",
       "  <thead>\n",
       "    <tr style=\"text-align: right;\">\n",
       "      <th></th>\n",
       "      <th>TARGET</th>\n",
       "      <th>loyalty</th>\n",
       "      <th>prod_A</th>\n",
       "      <th>type_A</th>\n",
       "      <th>type_B</th>\n",
       "      <th>prod_B</th>\n",
       "      <th>age</th>\n",
       "      <th>LOR</th>\n",
       "      <th>turnover_A</th>\n",
       "      <th>turnover_B</th>\n",
       "    </tr>\n",
       "  </thead>\n",
       "  <tbody>\n",
       "    <tr>\n",
       "      <th>0</th>\n",
       "      <td>Y</td>\n",
       "      <td>4</td>\n",
       "      <td>0</td>\n",
       "      <td>0</td>\n",
       "      <td>0</td>\n",
       "      <td>0</td>\n",
       "      <td>2.390603</td>\n",
       "      <td>-1.046070</td>\n",
       "      <td>-0.401021</td>\n",
       "      <td>-0.151425</td>\n",
       "    </tr>\n",
       "    <tr>\n",
       "      <th>1</th>\n",
       "      <td>Y</td>\n",
       "      <td>1</td>\n",
       "      <td>1</td>\n",
       "      <td>3</td>\n",
       "      <td>3</td>\n",
       "      <td>1</td>\n",
       "      <td>0.779209</td>\n",
       "      <td>2.147552</td>\n",
       "      <td>0.231723</td>\n",
       "      <td>-0.112932</td>\n",
       "    </tr>\n",
       "    <tr>\n",
       "      <th>2</th>\n",
       "      <td>Y</td>\n",
       "      <td>1</td>\n",
       "      <td>1</td>\n",
       "      <td>3</td>\n",
       "      <td>6</td>\n",
       "      <td>1</td>\n",
       "      <td>0.549010</td>\n",
       "      <td>1.083011</td>\n",
       "      <td>-0.311863</td>\n",
       "      <td>1.585718</td>\n",
       "    </tr>\n",
       "    <tr>\n",
       "      <th>3</th>\n",
       "      <td>Y</td>\n",
       "      <td>4</td>\n",
       "      <td>0</td>\n",
       "      <td>0</td>\n",
       "      <td>0</td>\n",
       "      <td>0</td>\n",
       "      <td>-0.295054</td>\n",
       "      <td>-1.046070</td>\n",
       "      <td>0.842203</td>\n",
       "      <td>-0.194105</td>\n",
       "    </tr>\n",
       "    <tr>\n",
       "      <th>4</th>\n",
       "      <td>Y</td>\n",
       "      <td>4</td>\n",
       "      <td>0</td>\n",
       "      <td>0</td>\n",
       "      <td>0</td>\n",
       "      <td>0</td>\n",
       "      <td>2.083671</td>\n",
       "      <td>-1.046070</td>\n",
       "      <td>0.126654</td>\n",
       "      <td>-0.108920</td>\n",
       "    </tr>\n",
       "    <tr>\n",
       "      <th>...</th>\n",
       "      <td>...</td>\n",
       "      <td>...</td>\n",
       "      <td>...</td>\n",
       "      <td>...</td>\n",
       "      <td>...</td>\n",
       "      <td>...</td>\n",
       "      <td>...</td>\n",
       "      <td>...</td>\n",
       "      <td>...</td>\n",
       "      <td>...</td>\n",
       "    </tr>\n",
       "    <tr>\n",
       "      <th>11003</th>\n",
       "      <td>N</td>\n",
       "      <td>1</td>\n",
       "      <td>1</td>\n",
       "      <td>3</td>\n",
       "      <td>3</td>\n",
       "      <td>1</td>\n",
       "      <td>-0.141588</td>\n",
       "      <td>1.083011</td>\n",
       "      <td>-0.723531</td>\n",
       "      <td>-0.218676</td>\n",
       "    </tr>\n",
       "    <tr>\n",
       "      <th>11004</th>\n",
       "      <td>N</td>\n",
       "      <td>4</td>\n",
       "      <td>0</td>\n",
       "      <td>0</td>\n",
       "      <td>0</td>\n",
       "      <td>0</td>\n",
       "      <td>-0.908919</td>\n",
       "      <td>-1.046070</td>\n",
       "      <td>-0.579881</td>\n",
       "      <td>-0.220468</td>\n",
       "    </tr>\n",
       "    <tr>\n",
       "      <th>11005</th>\n",
       "      <td>N</td>\n",
       "      <td>1</td>\n",
       "      <td>1</td>\n",
       "      <td>3</td>\n",
       "      <td>3</td>\n",
       "      <td>1</td>\n",
       "      <td>-0.908919</td>\n",
       "      <td>1.083011</td>\n",
       "      <td>0.140035</td>\n",
       "      <td>-0.204931</td>\n",
       "    </tr>\n",
       "    <tr>\n",
       "      <th>11006</th>\n",
       "      <td>N</td>\n",
       "      <td>4</td>\n",
       "      <td>1</td>\n",
       "      <td>3</td>\n",
       "      <td>3</td>\n",
       "      <td>1</td>\n",
       "      <td>-0.218321</td>\n",
       "      <td>0.018471</td>\n",
       "      <td>-0.566329</td>\n",
       "      <td>-0.223555</td>\n",
       "    </tr>\n",
       "    <tr>\n",
       "      <th>11007</th>\n",
       "      <td>N</td>\n",
       "      <td>2</td>\n",
       "      <td>1</td>\n",
       "      <td>3</td>\n",
       "      <td>3</td>\n",
       "      <td>1</td>\n",
       "      <td>-0.908919</td>\n",
       "      <td>2.147552</td>\n",
       "      <td>-0.240962</td>\n",
       "      <td>-0.264136</td>\n",
       "    </tr>\n",
       "  </tbody>\n",
       "</table>\n",
       "<p>11008 rows × 10 columns</p>\n",
       "</div>"
      ],
      "text/plain": [
       "      TARGET  loyalty  prod_A  type_A  type_B  prod_B       age       LOR  \\\n",
       "0          Y        4       0       0       0       0  2.390603 -1.046070   \n",
       "1          Y        1       1       3       3       1  0.779209  2.147552   \n",
       "2          Y        1       1       3       6       1  0.549010  1.083011   \n",
       "3          Y        4       0       0       0       0 -0.295054 -1.046070   \n",
       "4          Y        4       0       0       0       0  2.083671 -1.046070   \n",
       "...      ...      ...     ...     ...     ...     ...       ...       ...   \n",
       "11003      N        1       1       3       3       1 -0.141588  1.083011   \n",
       "11004      N        4       0       0       0       0 -0.908919 -1.046070   \n",
       "11005      N        1       1       3       3       1 -0.908919  1.083011   \n",
       "11006      N        4       1       3       3       1 -0.218321  0.018471   \n",
       "11007      N        2       1       3       3       1 -0.908919  2.147552   \n",
       "\n",
       "       turnover_A  turnover_B  \n",
       "0       -0.401021   -0.151425  \n",
       "1        0.231723   -0.112932  \n",
       "2       -0.311863    1.585718  \n",
       "3        0.842203   -0.194105  \n",
       "4        0.126654   -0.108920  \n",
       "...           ...         ...  \n",
       "11003   -0.723531   -0.218676  \n",
       "11004   -0.579881   -0.220468  \n",
       "11005    0.140035   -0.204931  \n",
       "11006   -0.566329   -0.223555  \n",
       "11007   -0.240962   -0.264136  \n",
       "\n",
       "[11008 rows x 10 columns]"
      ]
     },
     "execution_count": 39,
     "metadata": {},
     "output_type": "execute_result"
    }
   ],
   "source": [
    "b.columns = ['TARGET','loyalty','prod_A','type_A','type_B','prod_B','age','LOR','turnover_A','turnover_B']\n",
    "b"
   ]
  },
  {
   "cell_type": "code",
   "execution_count": 40,
   "metadata": {},
   "outputs": [],
   "source": [
    "# encode the values in 'TARGET' column\n",
    "from sklearn.preprocessing import LabelEncoder\n",
    "b.iloc[:,0] = LabelEncoder().fit_transform(b.iloc[:,0])"
   ]
  },
  {
   "cell_type": "code",
   "execution_count": 41,
   "metadata": {},
   "outputs": [
    {
     "data": {
      "text/html": [
       "<div>\n",
       "<style scoped>\n",
       "    .dataframe tbody tr th:only-of-type {\n",
       "        vertical-align: middle;\n",
       "    }\n",
       "\n",
       "    .dataframe tbody tr th {\n",
       "        vertical-align: top;\n",
       "    }\n",
       "\n",
       "    .dataframe thead th {\n",
       "        text-align: right;\n",
       "    }\n",
       "</style>\n",
       "<table border=\"1\" class=\"dataframe\">\n",
       "  <thead>\n",
       "    <tr style=\"text-align: right;\">\n",
       "      <th></th>\n",
       "      <th>TARGET</th>\n",
       "      <th>loyalty</th>\n",
       "      <th>prod_A</th>\n",
       "      <th>type_A</th>\n",
       "      <th>type_B</th>\n",
       "      <th>prod_B</th>\n",
       "      <th>age</th>\n",
       "      <th>LOR</th>\n",
       "      <th>turnover_A</th>\n",
       "      <th>turnover_B</th>\n",
       "    </tr>\n",
       "  </thead>\n",
       "  <tbody>\n",
       "    <tr>\n",
       "      <th>0</th>\n",
       "      <td>1</td>\n",
       "      <td>4</td>\n",
       "      <td>0</td>\n",
       "      <td>0</td>\n",
       "      <td>0</td>\n",
       "      <td>0</td>\n",
       "      <td>2.390603</td>\n",
       "      <td>-1.046070</td>\n",
       "      <td>-0.401021</td>\n",
       "      <td>-0.151425</td>\n",
       "    </tr>\n",
       "    <tr>\n",
       "      <th>1</th>\n",
       "      <td>1</td>\n",
       "      <td>1</td>\n",
       "      <td>1</td>\n",
       "      <td>3</td>\n",
       "      <td>3</td>\n",
       "      <td>1</td>\n",
       "      <td>0.779209</td>\n",
       "      <td>2.147552</td>\n",
       "      <td>0.231723</td>\n",
       "      <td>-0.112932</td>\n",
       "    </tr>\n",
       "    <tr>\n",
       "      <th>2</th>\n",
       "      <td>1</td>\n",
       "      <td>1</td>\n",
       "      <td>1</td>\n",
       "      <td>3</td>\n",
       "      <td>6</td>\n",
       "      <td>1</td>\n",
       "      <td>0.549010</td>\n",
       "      <td>1.083011</td>\n",
       "      <td>-0.311863</td>\n",
       "      <td>1.585718</td>\n",
       "    </tr>\n",
       "    <tr>\n",
       "      <th>3</th>\n",
       "      <td>1</td>\n",
       "      <td>4</td>\n",
       "      <td>0</td>\n",
       "      <td>0</td>\n",
       "      <td>0</td>\n",
       "      <td>0</td>\n",
       "      <td>-0.295054</td>\n",
       "      <td>-1.046070</td>\n",
       "      <td>0.842203</td>\n",
       "      <td>-0.194105</td>\n",
       "    </tr>\n",
       "    <tr>\n",
       "      <th>4</th>\n",
       "      <td>1</td>\n",
       "      <td>4</td>\n",
       "      <td>0</td>\n",
       "      <td>0</td>\n",
       "      <td>0</td>\n",
       "      <td>0</td>\n",
       "      <td>2.083671</td>\n",
       "      <td>-1.046070</td>\n",
       "      <td>0.126654</td>\n",
       "      <td>-0.108920</td>\n",
       "    </tr>\n",
       "    <tr>\n",
       "      <th>...</th>\n",
       "      <td>...</td>\n",
       "      <td>...</td>\n",
       "      <td>...</td>\n",
       "      <td>...</td>\n",
       "      <td>...</td>\n",
       "      <td>...</td>\n",
       "      <td>...</td>\n",
       "      <td>...</td>\n",
       "      <td>...</td>\n",
       "      <td>...</td>\n",
       "    </tr>\n",
       "    <tr>\n",
       "      <th>11003</th>\n",
       "      <td>0</td>\n",
       "      <td>1</td>\n",
       "      <td>1</td>\n",
       "      <td>3</td>\n",
       "      <td>3</td>\n",
       "      <td>1</td>\n",
       "      <td>-0.141588</td>\n",
       "      <td>1.083011</td>\n",
       "      <td>-0.723531</td>\n",
       "      <td>-0.218676</td>\n",
       "    </tr>\n",
       "    <tr>\n",
       "      <th>11004</th>\n",
       "      <td>0</td>\n",
       "      <td>4</td>\n",
       "      <td>0</td>\n",
       "      <td>0</td>\n",
       "      <td>0</td>\n",
       "      <td>0</td>\n",
       "      <td>-0.908919</td>\n",
       "      <td>-1.046070</td>\n",
       "      <td>-0.579881</td>\n",
       "      <td>-0.220468</td>\n",
       "    </tr>\n",
       "    <tr>\n",
       "      <th>11005</th>\n",
       "      <td>0</td>\n",
       "      <td>1</td>\n",
       "      <td>1</td>\n",
       "      <td>3</td>\n",
       "      <td>3</td>\n",
       "      <td>1</td>\n",
       "      <td>-0.908919</td>\n",
       "      <td>1.083011</td>\n",
       "      <td>0.140035</td>\n",
       "      <td>-0.204931</td>\n",
       "    </tr>\n",
       "    <tr>\n",
       "      <th>11006</th>\n",
       "      <td>0</td>\n",
       "      <td>4</td>\n",
       "      <td>1</td>\n",
       "      <td>3</td>\n",
       "      <td>3</td>\n",
       "      <td>1</td>\n",
       "      <td>-0.218321</td>\n",
       "      <td>0.018471</td>\n",
       "      <td>-0.566329</td>\n",
       "      <td>-0.223555</td>\n",
       "    </tr>\n",
       "    <tr>\n",
       "      <th>11007</th>\n",
       "      <td>0</td>\n",
       "      <td>2</td>\n",
       "      <td>1</td>\n",
       "      <td>3</td>\n",
       "      <td>3</td>\n",
       "      <td>1</td>\n",
       "      <td>-0.908919</td>\n",
       "      <td>2.147552</td>\n",
       "      <td>-0.240962</td>\n",
       "      <td>-0.264136</td>\n",
       "    </tr>\n",
       "  </tbody>\n",
       "</table>\n",
       "<p>11008 rows × 10 columns</p>\n",
       "</div>"
      ],
      "text/plain": [
       "       TARGET  loyalty  prod_A  type_A  type_B  prod_B       age       LOR  \\\n",
       "0           1        4       0       0       0       0  2.390603 -1.046070   \n",
       "1           1        1       1       3       3       1  0.779209  2.147552   \n",
       "2           1        1       1       3       6       1  0.549010  1.083011   \n",
       "3           1        4       0       0       0       0 -0.295054 -1.046070   \n",
       "4           1        4       0       0       0       0  2.083671 -1.046070   \n",
       "...       ...      ...     ...     ...     ...     ...       ...       ...   \n",
       "11003       0        1       1       3       3       1 -0.141588  1.083011   \n",
       "11004       0        4       0       0       0       0 -0.908919 -1.046070   \n",
       "11005       0        1       1       3       3       1 -0.908919  1.083011   \n",
       "11006       0        4       1       3       3       1 -0.218321  0.018471   \n",
       "11007       0        2       1       3       3       1 -0.908919  2.147552   \n",
       "\n",
       "       turnover_A  turnover_B  \n",
       "0       -0.401021   -0.151425  \n",
       "1        0.231723   -0.112932  \n",
       "2       -0.311863    1.585718  \n",
       "3        0.842203   -0.194105  \n",
       "4        0.126654   -0.108920  \n",
       "...           ...         ...  \n",
       "11003   -0.723531   -0.218676  \n",
       "11004   -0.579881   -0.220468  \n",
       "11005    0.140035   -0.204931  \n",
       "11006   -0.566329   -0.223555  \n",
       "11007   -0.240962   -0.264136  \n",
       "\n",
       "[11008 rows x 10 columns]"
      ]
     },
     "execution_count": 41,
     "metadata": {},
     "output_type": "execute_result"
    }
   ],
   "source": [
    "b"
   ]
  },
  {
   "cell_type": "code",
   "execution_count": 42,
   "metadata": {},
   "outputs": [],
   "source": [
    "from sklearn.preprocessing import OneHotEncoder"
   ]
  },
  {
   "cell_type": "code",
   "execution_count": 43,
   "metadata": {},
   "outputs": [
    {
     "data": {
      "text/plain": [
       "array([[1., 0., 0., ..., 0., 0., 0.],\n",
       "       [0., 1., 0., ..., 1., 0., 0.],\n",
       "       [0., 1., 0., ..., 0., 1., 0.],\n",
       "       ...,\n",
       "       [0., 1., 0., ..., 1., 0., 0.],\n",
       "       [0., 1., 0., ..., 1., 0., 0.],\n",
       "       [0., 1., 0., ..., 1., 0., 0.]])"
      ]
     },
     "execution_count": 43,
     "metadata": {},
     "output_type": "execute_result"
    }
   ],
   "source": [
    "# convert 'type_A','type_B' to DUMMY VARIABLES\n",
    "enc = OneHotEncoder(categories='auto').fit(b.iloc[:,[3,4]])\n",
    "result = enc.transform(b.iloc[:,[3,4]]).toarray()\n",
    "result"
   ]
  },
  {
   "cell_type": "code",
   "execution_count": 44,
   "metadata": {},
   "outputs": [
    {
     "data": {
      "text/plain": [
       "array(['x0_0', 'x0_3', 'x0_6', 'x1_0', 'x1_3', 'x1_6', 'x1_9'],\n",
       "      dtype=object)"
      ]
     },
     "execution_count": 44,
     "metadata": {},
     "output_type": "execute_result"
    }
   ],
   "source": [
    "enc.get_feature_names()"
   ]
  },
  {
   "cell_type": "code",
   "execution_count": 45,
   "metadata": {},
   "outputs": [
    {
     "data": {
      "text/html": [
       "<div>\n",
       "<style scoped>\n",
       "    .dataframe tbody tr th:only-of-type {\n",
       "        vertical-align: middle;\n",
       "    }\n",
       "\n",
       "    .dataframe tbody tr th {\n",
       "        vertical-align: top;\n",
       "    }\n",
       "\n",
       "    .dataframe thead th {\n",
       "        text-align: right;\n",
       "    }\n",
       "</style>\n",
       "<table border=\"1\" class=\"dataframe\">\n",
       "  <thead>\n",
       "    <tr style=\"text-align: right;\">\n",
       "      <th></th>\n",
       "      <th>TARGET</th>\n",
       "      <th>loyalty</th>\n",
       "      <th>prod_A</th>\n",
       "      <th>type_A</th>\n",
       "      <th>type_B</th>\n",
       "      <th>prod_B</th>\n",
       "      <th>age</th>\n",
       "      <th>LOR</th>\n",
       "      <th>turnover_A</th>\n",
       "      <th>turnover_B</th>\n",
       "      <th>0</th>\n",
       "      <th>1</th>\n",
       "      <th>2</th>\n",
       "      <th>3</th>\n",
       "      <th>4</th>\n",
       "      <th>5</th>\n",
       "      <th>6</th>\n",
       "    </tr>\n",
       "  </thead>\n",
       "  <tbody>\n",
       "    <tr>\n",
       "      <th>0</th>\n",
       "      <td>1</td>\n",
       "      <td>4</td>\n",
       "      <td>0</td>\n",
       "      <td>0</td>\n",
       "      <td>0</td>\n",
       "      <td>0</td>\n",
       "      <td>2.390603</td>\n",
       "      <td>-1.046070</td>\n",
       "      <td>-0.401021</td>\n",
       "      <td>-0.151425</td>\n",
       "      <td>1.0</td>\n",
       "      <td>0.0</td>\n",
       "      <td>0.0</td>\n",
       "      <td>1.0</td>\n",
       "      <td>0.0</td>\n",
       "      <td>0.0</td>\n",
       "      <td>0.0</td>\n",
       "    </tr>\n",
       "    <tr>\n",
       "      <th>1</th>\n",
       "      <td>1</td>\n",
       "      <td>1</td>\n",
       "      <td>1</td>\n",
       "      <td>3</td>\n",
       "      <td>3</td>\n",
       "      <td>1</td>\n",
       "      <td>0.779209</td>\n",
       "      <td>2.147552</td>\n",
       "      <td>0.231723</td>\n",
       "      <td>-0.112932</td>\n",
       "      <td>0.0</td>\n",
       "      <td>1.0</td>\n",
       "      <td>0.0</td>\n",
       "      <td>0.0</td>\n",
       "      <td>1.0</td>\n",
       "      <td>0.0</td>\n",
       "      <td>0.0</td>\n",
       "    </tr>\n",
       "    <tr>\n",
       "      <th>2</th>\n",
       "      <td>1</td>\n",
       "      <td>1</td>\n",
       "      <td>1</td>\n",
       "      <td>3</td>\n",
       "      <td>6</td>\n",
       "      <td>1</td>\n",
       "      <td>0.549010</td>\n",
       "      <td>1.083011</td>\n",
       "      <td>-0.311863</td>\n",
       "      <td>1.585718</td>\n",
       "      <td>0.0</td>\n",
       "      <td>1.0</td>\n",
       "      <td>0.0</td>\n",
       "      <td>0.0</td>\n",
       "      <td>0.0</td>\n",
       "      <td>1.0</td>\n",
       "      <td>0.0</td>\n",
       "    </tr>\n",
       "    <tr>\n",
       "      <th>3</th>\n",
       "      <td>1</td>\n",
       "      <td>4</td>\n",
       "      <td>0</td>\n",
       "      <td>0</td>\n",
       "      <td>0</td>\n",
       "      <td>0</td>\n",
       "      <td>-0.295054</td>\n",
       "      <td>-1.046070</td>\n",
       "      <td>0.842203</td>\n",
       "      <td>-0.194105</td>\n",
       "      <td>1.0</td>\n",
       "      <td>0.0</td>\n",
       "      <td>0.0</td>\n",
       "      <td>1.0</td>\n",
       "      <td>0.0</td>\n",
       "      <td>0.0</td>\n",
       "      <td>0.0</td>\n",
       "    </tr>\n",
       "    <tr>\n",
       "      <th>4</th>\n",
       "      <td>1</td>\n",
       "      <td>4</td>\n",
       "      <td>0</td>\n",
       "      <td>0</td>\n",
       "      <td>0</td>\n",
       "      <td>0</td>\n",
       "      <td>2.083671</td>\n",
       "      <td>-1.046070</td>\n",
       "      <td>0.126654</td>\n",
       "      <td>-0.108920</td>\n",
       "      <td>1.0</td>\n",
       "      <td>0.0</td>\n",
       "      <td>0.0</td>\n",
       "      <td>1.0</td>\n",
       "      <td>0.0</td>\n",
       "      <td>0.0</td>\n",
       "      <td>0.0</td>\n",
       "    </tr>\n",
       "    <tr>\n",
       "      <th>...</th>\n",
       "      <td>...</td>\n",
       "      <td>...</td>\n",
       "      <td>...</td>\n",
       "      <td>...</td>\n",
       "      <td>...</td>\n",
       "      <td>...</td>\n",
       "      <td>...</td>\n",
       "      <td>...</td>\n",
       "      <td>...</td>\n",
       "      <td>...</td>\n",
       "      <td>...</td>\n",
       "      <td>...</td>\n",
       "      <td>...</td>\n",
       "      <td>...</td>\n",
       "      <td>...</td>\n",
       "      <td>...</td>\n",
       "      <td>...</td>\n",
       "    </tr>\n",
       "    <tr>\n",
       "      <th>11003</th>\n",
       "      <td>0</td>\n",
       "      <td>1</td>\n",
       "      <td>1</td>\n",
       "      <td>3</td>\n",
       "      <td>3</td>\n",
       "      <td>1</td>\n",
       "      <td>-0.141588</td>\n",
       "      <td>1.083011</td>\n",
       "      <td>-0.723531</td>\n",
       "      <td>-0.218676</td>\n",
       "      <td>0.0</td>\n",
       "      <td>1.0</td>\n",
       "      <td>0.0</td>\n",
       "      <td>0.0</td>\n",
       "      <td>1.0</td>\n",
       "      <td>0.0</td>\n",
       "      <td>0.0</td>\n",
       "    </tr>\n",
       "    <tr>\n",
       "      <th>11004</th>\n",
       "      <td>0</td>\n",
       "      <td>4</td>\n",
       "      <td>0</td>\n",
       "      <td>0</td>\n",
       "      <td>0</td>\n",
       "      <td>0</td>\n",
       "      <td>-0.908919</td>\n",
       "      <td>-1.046070</td>\n",
       "      <td>-0.579881</td>\n",
       "      <td>-0.220468</td>\n",
       "      <td>1.0</td>\n",
       "      <td>0.0</td>\n",
       "      <td>0.0</td>\n",
       "      <td>1.0</td>\n",
       "      <td>0.0</td>\n",
       "      <td>0.0</td>\n",
       "      <td>0.0</td>\n",
       "    </tr>\n",
       "    <tr>\n",
       "      <th>11005</th>\n",
       "      <td>0</td>\n",
       "      <td>1</td>\n",
       "      <td>1</td>\n",
       "      <td>3</td>\n",
       "      <td>3</td>\n",
       "      <td>1</td>\n",
       "      <td>-0.908919</td>\n",
       "      <td>1.083011</td>\n",
       "      <td>0.140035</td>\n",
       "      <td>-0.204931</td>\n",
       "      <td>0.0</td>\n",
       "      <td>1.0</td>\n",
       "      <td>0.0</td>\n",
       "      <td>0.0</td>\n",
       "      <td>1.0</td>\n",
       "      <td>0.0</td>\n",
       "      <td>0.0</td>\n",
       "    </tr>\n",
       "    <tr>\n",
       "      <th>11006</th>\n",
       "      <td>0</td>\n",
       "      <td>4</td>\n",
       "      <td>1</td>\n",
       "      <td>3</td>\n",
       "      <td>3</td>\n",
       "      <td>1</td>\n",
       "      <td>-0.218321</td>\n",
       "      <td>0.018471</td>\n",
       "      <td>-0.566329</td>\n",
       "      <td>-0.223555</td>\n",
       "      <td>0.0</td>\n",
       "      <td>1.0</td>\n",
       "      <td>0.0</td>\n",
       "      <td>0.0</td>\n",
       "      <td>1.0</td>\n",
       "      <td>0.0</td>\n",
       "      <td>0.0</td>\n",
       "    </tr>\n",
       "    <tr>\n",
       "      <th>11007</th>\n",
       "      <td>0</td>\n",
       "      <td>2</td>\n",
       "      <td>1</td>\n",
       "      <td>3</td>\n",
       "      <td>3</td>\n",
       "      <td>1</td>\n",
       "      <td>-0.908919</td>\n",
       "      <td>2.147552</td>\n",
       "      <td>-0.240962</td>\n",
       "      <td>-0.264136</td>\n",
       "      <td>0.0</td>\n",
       "      <td>1.0</td>\n",
       "      <td>0.0</td>\n",
       "      <td>0.0</td>\n",
       "      <td>1.0</td>\n",
       "      <td>0.0</td>\n",
       "      <td>0.0</td>\n",
       "    </tr>\n",
       "  </tbody>\n",
       "</table>\n",
       "<p>11008 rows × 17 columns</p>\n",
       "</div>"
      ],
      "text/plain": [
       "       TARGET  loyalty  prod_A  type_A  type_B  prod_B       age       LOR  \\\n",
       "0           1        4       0       0       0       0  2.390603 -1.046070   \n",
       "1           1        1       1       3       3       1  0.779209  2.147552   \n",
       "2           1        1       1       3       6       1  0.549010  1.083011   \n",
       "3           1        4       0       0       0       0 -0.295054 -1.046070   \n",
       "4           1        4       0       0       0       0  2.083671 -1.046070   \n",
       "...       ...      ...     ...     ...     ...     ...       ...       ...   \n",
       "11003       0        1       1       3       3       1 -0.141588  1.083011   \n",
       "11004       0        4       0       0       0       0 -0.908919 -1.046070   \n",
       "11005       0        1       1       3       3       1 -0.908919  1.083011   \n",
       "11006       0        4       1       3       3       1 -0.218321  0.018471   \n",
       "11007       0        2       1       3       3       1 -0.908919  2.147552   \n",
       "\n",
       "       turnover_A  turnover_B    0    1    2    3    4    5    6  \n",
       "0       -0.401021   -0.151425  1.0  0.0  0.0  1.0  0.0  0.0  0.0  \n",
       "1        0.231723   -0.112932  0.0  1.0  0.0  0.0  1.0  0.0  0.0  \n",
       "2       -0.311863    1.585718  0.0  1.0  0.0  0.0  0.0  1.0  0.0  \n",
       "3        0.842203   -0.194105  1.0  0.0  0.0  1.0  0.0  0.0  0.0  \n",
       "4        0.126654   -0.108920  1.0  0.0  0.0  1.0  0.0  0.0  0.0  \n",
       "...           ...         ...  ...  ...  ...  ...  ...  ...  ...  \n",
       "11003   -0.723531   -0.218676  0.0  1.0  0.0  0.0  1.0  0.0  0.0  \n",
       "11004   -0.579881   -0.220468  1.0  0.0  0.0  1.0  0.0  0.0  0.0  \n",
       "11005    0.140035   -0.204931  0.0  1.0  0.0  0.0  1.0  0.0  0.0  \n",
       "11006   -0.566329   -0.223555  0.0  1.0  0.0  0.0  1.0  0.0  0.0  \n",
       "11007   -0.240962   -0.264136  0.0  1.0  0.0  0.0  1.0  0.0  0.0  \n",
       "\n",
       "[11008 rows x 17 columns]"
      ]
     },
     "execution_count": 45,
     "metadata": {},
     "output_type": "execute_result"
    }
   ],
   "source": [
    "c = pd.concat([b,pd.DataFrame(result)],axis=1)\n",
    "c"
   ]
  },
  {
   "cell_type": "code",
   "execution_count": 46,
   "metadata": {},
   "outputs": [],
   "source": [
    "# drop the duplicated columns\n",
    "c.drop(['type_A','type_B'],axis=1,inplace=True)"
   ]
  },
  {
   "cell_type": "code",
   "execution_count": 47,
   "metadata": {},
   "outputs": [
    {
     "data": {
      "text/html": [
       "<div>\n",
       "<style scoped>\n",
       "    .dataframe tbody tr th:only-of-type {\n",
       "        vertical-align: middle;\n",
       "    }\n",
       "\n",
       "    .dataframe tbody tr th {\n",
       "        vertical-align: top;\n",
       "    }\n",
       "\n",
       "    .dataframe thead th {\n",
       "        text-align: right;\n",
       "    }\n",
       "</style>\n",
       "<table border=\"1\" class=\"dataframe\">\n",
       "  <thead>\n",
       "    <tr style=\"text-align: right;\">\n",
       "      <th></th>\n",
       "      <th>TARGET</th>\n",
       "      <th>loyalty</th>\n",
       "      <th>prod_A</th>\n",
       "      <th>prod_B</th>\n",
       "      <th>age</th>\n",
       "      <th>LOR</th>\n",
       "      <th>turnover_A</th>\n",
       "      <th>turnover_B</th>\n",
       "      <th>0</th>\n",
       "      <th>1</th>\n",
       "      <th>2</th>\n",
       "      <th>3</th>\n",
       "      <th>4</th>\n",
       "      <th>5</th>\n",
       "      <th>6</th>\n",
       "    </tr>\n",
       "  </thead>\n",
       "  <tbody>\n",
       "    <tr>\n",
       "      <th>0</th>\n",
       "      <td>1</td>\n",
       "      <td>4</td>\n",
       "      <td>0</td>\n",
       "      <td>0</td>\n",
       "      <td>2.390603</td>\n",
       "      <td>-1.046070</td>\n",
       "      <td>-0.401021</td>\n",
       "      <td>-0.151425</td>\n",
       "      <td>1.0</td>\n",
       "      <td>0.0</td>\n",
       "      <td>0.0</td>\n",
       "      <td>1.0</td>\n",
       "      <td>0.0</td>\n",
       "      <td>0.0</td>\n",
       "      <td>0.0</td>\n",
       "    </tr>\n",
       "    <tr>\n",
       "      <th>1</th>\n",
       "      <td>1</td>\n",
       "      <td>1</td>\n",
       "      <td>1</td>\n",
       "      <td>1</td>\n",
       "      <td>0.779209</td>\n",
       "      <td>2.147552</td>\n",
       "      <td>0.231723</td>\n",
       "      <td>-0.112932</td>\n",
       "      <td>0.0</td>\n",
       "      <td>1.0</td>\n",
       "      <td>0.0</td>\n",
       "      <td>0.0</td>\n",
       "      <td>1.0</td>\n",
       "      <td>0.0</td>\n",
       "      <td>0.0</td>\n",
       "    </tr>\n",
       "    <tr>\n",
       "      <th>2</th>\n",
       "      <td>1</td>\n",
       "      <td>1</td>\n",
       "      <td>1</td>\n",
       "      <td>1</td>\n",
       "      <td>0.549010</td>\n",
       "      <td>1.083011</td>\n",
       "      <td>-0.311863</td>\n",
       "      <td>1.585718</td>\n",
       "      <td>0.0</td>\n",
       "      <td>1.0</td>\n",
       "      <td>0.0</td>\n",
       "      <td>0.0</td>\n",
       "      <td>0.0</td>\n",
       "      <td>1.0</td>\n",
       "      <td>0.0</td>\n",
       "    </tr>\n",
       "    <tr>\n",
       "      <th>3</th>\n",
       "      <td>1</td>\n",
       "      <td>4</td>\n",
       "      <td>0</td>\n",
       "      <td>0</td>\n",
       "      <td>-0.295054</td>\n",
       "      <td>-1.046070</td>\n",
       "      <td>0.842203</td>\n",
       "      <td>-0.194105</td>\n",
       "      <td>1.0</td>\n",
       "      <td>0.0</td>\n",
       "      <td>0.0</td>\n",
       "      <td>1.0</td>\n",
       "      <td>0.0</td>\n",
       "      <td>0.0</td>\n",
       "      <td>0.0</td>\n",
       "    </tr>\n",
       "    <tr>\n",
       "      <th>4</th>\n",
       "      <td>1</td>\n",
       "      <td>4</td>\n",
       "      <td>0</td>\n",
       "      <td>0</td>\n",
       "      <td>2.083671</td>\n",
       "      <td>-1.046070</td>\n",
       "      <td>0.126654</td>\n",
       "      <td>-0.108920</td>\n",
       "      <td>1.0</td>\n",
       "      <td>0.0</td>\n",
       "      <td>0.0</td>\n",
       "      <td>1.0</td>\n",
       "      <td>0.0</td>\n",
       "      <td>0.0</td>\n",
       "      <td>0.0</td>\n",
       "    </tr>\n",
       "    <tr>\n",
       "      <th>...</th>\n",
       "      <td>...</td>\n",
       "      <td>...</td>\n",
       "      <td>...</td>\n",
       "      <td>...</td>\n",
       "      <td>...</td>\n",
       "      <td>...</td>\n",
       "      <td>...</td>\n",
       "      <td>...</td>\n",
       "      <td>...</td>\n",
       "      <td>...</td>\n",
       "      <td>...</td>\n",
       "      <td>...</td>\n",
       "      <td>...</td>\n",
       "      <td>...</td>\n",
       "      <td>...</td>\n",
       "    </tr>\n",
       "    <tr>\n",
       "      <th>11003</th>\n",
       "      <td>0</td>\n",
       "      <td>1</td>\n",
       "      <td>1</td>\n",
       "      <td>1</td>\n",
       "      <td>-0.141588</td>\n",
       "      <td>1.083011</td>\n",
       "      <td>-0.723531</td>\n",
       "      <td>-0.218676</td>\n",
       "      <td>0.0</td>\n",
       "      <td>1.0</td>\n",
       "      <td>0.0</td>\n",
       "      <td>0.0</td>\n",
       "      <td>1.0</td>\n",
       "      <td>0.0</td>\n",
       "      <td>0.0</td>\n",
       "    </tr>\n",
       "    <tr>\n",
       "      <th>11004</th>\n",
       "      <td>0</td>\n",
       "      <td>4</td>\n",
       "      <td>0</td>\n",
       "      <td>0</td>\n",
       "      <td>-0.908919</td>\n",
       "      <td>-1.046070</td>\n",
       "      <td>-0.579881</td>\n",
       "      <td>-0.220468</td>\n",
       "      <td>1.0</td>\n",
       "      <td>0.0</td>\n",
       "      <td>0.0</td>\n",
       "      <td>1.0</td>\n",
       "      <td>0.0</td>\n",
       "      <td>0.0</td>\n",
       "      <td>0.0</td>\n",
       "    </tr>\n",
       "    <tr>\n",
       "      <th>11005</th>\n",
       "      <td>0</td>\n",
       "      <td>1</td>\n",
       "      <td>1</td>\n",
       "      <td>1</td>\n",
       "      <td>-0.908919</td>\n",
       "      <td>1.083011</td>\n",
       "      <td>0.140035</td>\n",
       "      <td>-0.204931</td>\n",
       "      <td>0.0</td>\n",
       "      <td>1.0</td>\n",
       "      <td>0.0</td>\n",
       "      <td>0.0</td>\n",
       "      <td>1.0</td>\n",
       "      <td>0.0</td>\n",
       "      <td>0.0</td>\n",
       "    </tr>\n",
       "    <tr>\n",
       "      <th>11006</th>\n",
       "      <td>0</td>\n",
       "      <td>4</td>\n",
       "      <td>1</td>\n",
       "      <td>1</td>\n",
       "      <td>-0.218321</td>\n",
       "      <td>0.018471</td>\n",
       "      <td>-0.566329</td>\n",
       "      <td>-0.223555</td>\n",
       "      <td>0.0</td>\n",
       "      <td>1.0</td>\n",
       "      <td>0.0</td>\n",
       "      <td>0.0</td>\n",
       "      <td>1.0</td>\n",
       "      <td>0.0</td>\n",
       "      <td>0.0</td>\n",
       "    </tr>\n",
       "    <tr>\n",
       "      <th>11007</th>\n",
       "      <td>0</td>\n",
       "      <td>2</td>\n",
       "      <td>1</td>\n",
       "      <td>1</td>\n",
       "      <td>-0.908919</td>\n",
       "      <td>2.147552</td>\n",
       "      <td>-0.240962</td>\n",
       "      <td>-0.264136</td>\n",
       "      <td>0.0</td>\n",
       "      <td>1.0</td>\n",
       "      <td>0.0</td>\n",
       "      <td>0.0</td>\n",
       "      <td>1.0</td>\n",
       "      <td>0.0</td>\n",
       "      <td>0.0</td>\n",
       "    </tr>\n",
       "  </tbody>\n",
       "</table>\n",
       "<p>11008 rows × 15 columns</p>\n",
       "</div>"
      ],
      "text/plain": [
       "       TARGET  loyalty  prod_A  prod_B       age       LOR  turnover_A  \\\n",
       "0           1        4       0       0  2.390603 -1.046070   -0.401021   \n",
       "1           1        1       1       1  0.779209  2.147552    0.231723   \n",
       "2           1        1       1       1  0.549010  1.083011   -0.311863   \n",
       "3           1        4       0       0 -0.295054 -1.046070    0.842203   \n",
       "4           1        4       0       0  2.083671 -1.046070    0.126654   \n",
       "...       ...      ...     ...     ...       ...       ...         ...   \n",
       "11003       0        1       1       1 -0.141588  1.083011   -0.723531   \n",
       "11004       0        4       0       0 -0.908919 -1.046070   -0.579881   \n",
       "11005       0        1       1       1 -0.908919  1.083011    0.140035   \n",
       "11006       0        4       1       1 -0.218321  0.018471   -0.566329   \n",
       "11007       0        2       1       1 -0.908919  2.147552   -0.240962   \n",
       "\n",
       "       turnover_B    0    1    2    3    4    5    6  \n",
       "0       -0.151425  1.0  0.0  0.0  1.0  0.0  0.0  0.0  \n",
       "1       -0.112932  0.0  1.0  0.0  0.0  1.0  0.0  0.0  \n",
       "2        1.585718  0.0  1.0  0.0  0.0  0.0  1.0  0.0  \n",
       "3       -0.194105  1.0  0.0  0.0  1.0  0.0  0.0  0.0  \n",
       "4       -0.108920  1.0  0.0  0.0  1.0  0.0  0.0  0.0  \n",
       "...           ...  ...  ...  ...  ...  ...  ...  ...  \n",
       "11003   -0.218676  0.0  1.0  0.0  0.0  1.0  0.0  0.0  \n",
       "11004   -0.220468  1.0  0.0  0.0  1.0  0.0  0.0  0.0  \n",
       "11005   -0.204931  0.0  1.0  0.0  0.0  1.0  0.0  0.0  \n",
       "11006   -0.223555  0.0  1.0  0.0  0.0  1.0  0.0  0.0  \n",
       "11007   -0.264136  0.0  1.0  0.0  0.0  1.0  0.0  0.0  \n",
       "\n",
       "[11008 rows x 15 columns]"
      ]
     },
     "execution_count": 47,
     "metadata": {},
     "output_type": "execute_result"
    }
   ],
   "source": [
    "c"
   ]
  },
  {
   "cell_type": "code",
   "execution_count": 48,
   "metadata": {},
   "outputs": [
    {
     "data": {
      "text/html": [
       "<div>\n",
       "<style scoped>\n",
       "    .dataframe tbody tr th:only-of-type {\n",
       "        vertical-align: middle;\n",
       "    }\n",
       "\n",
       "    .dataframe tbody tr th {\n",
       "        vertical-align: top;\n",
       "    }\n",
       "\n",
       "    .dataframe thead th {\n",
       "        text-align: right;\n",
       "    }\n",
       "</style>\n",
       "<table border=\"1\" class=\"dataframe\">\n",
       "  <thead>\n",
       "    <tr style=\"text-align: right;\">\n",
       "      <th></th>\n",
       "      <th>TARGET</th>\n",
       "      <th>loyalty</th>\n",
       "      <th>prod_A</th>\n",
       "      <th>prod_B</th>\n",
       "      <th>age</th>\n",
       "      <th>LOR</th>\n",
       "      <th>turnover_A</th>\n",
       "      <th>turnover_B</th>\n",
       "      <th>A0</th>\n",
       "      <th>A3</th>\n",
       "      <th>A6</th>\n",
       "      <th>B0</th>\n",
       "      <th>B3</th>\n",
       "      <th>B6</th>\n",
       "      <th>B9</th>\n",
       "    </tr>\n",
       "  </thead>\n",
       "  <tbody>\n",
       "    <tr>\n",
       "      <th>0</th>\n",
       "      <td>1</td>\n",
       "      <td>4</td>\n",
       "      <td>0</td>\n",
       "      <td>0</td>\n",
       "      <td>2.390603</td>\n",
       "      <td>-1.046070</td>\n",
       "      <td>-0.401021</td>\n",
       "      <td>-0.151425</td>\n",
       "      <td>1.0</td>\n",
       "      <td>0.0</td>\n",
       "      <td>0.0</td>\n",
       "      <td>1.0</td>\n",
       "      <td>0.0</td>\n",
       "      <td>0.0</td>\n",
       "      <td>0.0</td>\n",
       "    </tr>\n",
       "    <tr>\n",
       "      <th>1</th>\n",
       "      <td>1</td>\n",
       "      <td>1</td>\n",
       "      <td>1</td>\n",
       "      <td>1</td>\n",
       "      <td>0.779209</td>\n",
       "      <td>2.147552</td>\n",
       "      <td>0.231723</td>\n",
       "      <td>-0.112932</td>\n",
       "      <td>0.0</td>\n",
       "      <td>1.0</td>\n",
       "      <td>0.0</td>\n",
       "      <td>0.0</td>\n",
       "      <td>1.0</td>\n",
       "      <td>0.0</td>\n",
       "      <td>0.0</td>\n",
       "    </tr>\n",
       "    <tr>\n",
       "      <th>2</th>\n",
       "      <td>1</td>\n",
       "      <td>1</td>\n",
       "      <td>1</td>\n",
       "      <td>1</td>\n",
       "      <td>0.549010</td>\n",
       "      <td>1.083011</td>\n",
       "      <td>-0.311863</td>\n",
       "      <td>1.585718</td>\n",
       "      <td>0.0</td>\n",
       "      <td>1.0</td>\n",
       "      <td>0.0</td>\n",
       "      <td>0.0</td>\n",
       "      <td>0.0</td>\n",
       "      <td>1.0</td>\n",
       "      <td>0.0</td>\n",
       "    </tr>\n",
       "    <tr>\n",
       "      <th>3</th>\n",
       "      <td>1</td>\n",
       "      <td>4</td>\n",
       "      <td>0</td>\n",
       "      <td>0</td>\n",
       "      <td>-0.295054</td>\n",
       "      <td>-1.046070</td>\n",
       "      <td>0.842203</td>\n",
       "      <td>-0.194105</td>\n",
       "      <td>1.0</td>\n",
       "      <td>0.0</td>\n",
       "      <td>0.0</td>\n",
       "      <td>1.0</td>\n",
       "      <td>0.0</td>\n",
       "      <td>0.0</td>\n",
       "      <td>0.0</td>\n",
       "    </tr>\n",
       "    <tr>\n",
       "      <th>4</th>\n",
       "      <td>1</td>\n",
       "      <td>4</td>\n",
       "      <td>0</td>\n",
       "      <td>0</td>\n",
       "      <td>2.083671</td>\n",
       "      <td>-1.046070</td>\n",
       "      <td>0.126654</td>\n",
       "      <td>-0.108920</td>\n",
       "      <td>1.0</td>\n",
       "      <td>0.0</td>\n",
       "      <td>0.0</td>\n",
       "      <td>1.0</td>\n",
       "      <td>0.0</td>\n",
       "      <td>0.0</td>\n",
       "      <td>0.0</td>\n",
       "    </tr>\n",
       "    <tr>\n",
       "      <th>...</th>\n",
       "      <td>...</td>\n",
       "      <td>...</td>\n",
       "      <td>...</td>\n",
       "      <td>...</td>\n",
       "      <td>...</td>\n",
       "      <td>...</td>\n",
       "      <td>...</td>\n",
       "      <td>...</td>\n",
       "      <td>...</td>\n",
       "      <td>...</td>\n",
       "      <td>...</td>\n",
       "      <td>...</td>\n",
       "      <td>...</td>\n",
       "      <td>...</td>\n",
       "      <td>...</td>\n",
       "    </tr>\n",
       "    <tr>\n",
       "      <th>11003</th>\n",
       "      <td>0</td>\n",
       "      <td>1</td>\n",
       "      <td>1</td>\n",
       "      <td>1</td>\n",
       "      <td>-0.141588</td>\n",
       "      <td>1.083011</td>\n",
       "      <td>-0.723531</td>\n",
       "      <td>-0.218676</td>\n",
       "      <td>0.0</td>\n",
       "      <td>1.0</td>\n",
       "      <td>0.0</td>\n",
       "      <td>0.0</td>\n",
       "      <td>1.0</td>\n",
       "      <td>0.0</td>\n",
       "      <td>0.0</td>\n",
       "    </tr>\n",
       "    <tr>\n",
       "      <th>11004</th>\n",
       "      <td>0</td>\n",
       "      <td>4</td>\n",
       "      <td>0</td>\n",
       "      <td>0</td>\n",
       "      <td>-0.908919</td>\n",
       "      <td>-1.046070</td>\n",
       "      <td>-0.579881</td>\n",
       "      <td>-0.220468</td>\n",
       "      <td>1.0</td>\n",
       "      <td>0.0</td>\n",
       "      <td>0.0</td>\n",
       "      <td>1.0</td>\n",
       "      <td>0.0</td>\n",
       "      <td>0.0</td>\n",
       "      <td>0.0</td>\n",
       "    </tr>\n",
       "    <tr>\n",
       "      <th>11005</th>\n",
       "      <td>0</td>\n",
       "      <td>1</td>\n",
       "      <td>1</td>\n",
       "      <td>1</td>\n",
       "      <td>-0.908919</td>\n",
       "      <td>1.083011</td>\n",
       "      <td>0.140035</td>\n",
       "      <td>-0.204931</td>\n",
       "      <td>0.0</td>\n",
       "      <td>1.0</td>\n",
       "      <td>0.0</td>\n",
       "      <td>0.0</td>\n",
       "      <td>1.0</td>\n",
       "      <td>0.0</td>\n",
       "      <td>0.0</td>\n",
       "    </tr>\n",
       "    <tr>\n",
       "      <th>11006</th>\n",
       "      <td>0</td>\n",
       "      <td>4</td>\n",
       "      <td>1</td>\n",
       "      <td>1</td>\n",
       "      <td>-0.218321</td>\n",
       "      <td>0.018471</td>\n",
       "      <td>-0.566329</td>\n",
       "      <td>-0.223555</td>\n",
       "      <td>0.0</td>\n",
       "      <td>1.0</td>\n",
       "      <td>0.0</td>\n",
       "      <td>0.0</td>\n",
       "      <td>1.0</td>\n",
       "      <td>0.0</td>\n",
       "      <td>0.0</td>\n",
       "    </tr>\n",
       "    <tr>\n",
       "      <th>11007</th>\n",
       "      <td>0</td>\n",
       "      <td>2</td>\n",
       "      <td>1</td>\n",
       "      <td>1</td>\n",
       "      <td>-0.908919</td>\n",
       "      <td>2.147552</td>\n",
       "      <td>-0.240962</td>\n",
       "      <td>-0.264136</td>\n",
       "      <td>0.0</td>\n",
       "      <td>1.0</td>\n",
       "      <td>0.0</td>\n",
       "      <td>0.0</td>\n",
       "      <td>1.0</td>\n",
       "      <td>0.0</td>\n",
       "      <td>0.0</td>\n",
       "    </tr>\n",
       "  </tbody>\n",
       "</table>\n",
       "<p>11008 rows × 15 columns</p>\n",
       "</div>"
      ],
      "text/plain": [
       "       TARGET  loyalty  prod_A  prod_B       age       LOR  turnover_A  \\\n",
       "0           1        4       0       0  2.390603 -1.046070   -0.401021   \n",
       "1           1        1       1       1  0.779209  2.147552    0.231723   \n",
       "2           1        1       1       1  0.549010  1.083011   -0.311863   \n",
       "3           1        4       0       0 -0.295054 -1.046070    0.842203   \n",
       "4           1        4       0       0  2.083671 -1.046070    0.126654   \n",
       "...       ...      ...     ...     ...       ...       ...         ...   \n",
       "11003       0        1       1       1 -0.141588  1.083011   -0.723531   \n",
       "11004       0        4       0       0 -0.908919 -1.046070   -0.579881   \n",
       "11005       0        1       1       1 -0.908919  1.083011    0.140035   \n",
       "11006       0        4       1       1 -0.218321  0.018471   -0.566329   \n",
       "11007       0        2       1       1 -0.908919  2.147552   -0.240962   \n",
       "\n",
       "       turnover_B   A0   A3   A6   B0   B3   B6   B9  \n",
       "0       -0.151425  1.0  0.0  0.0  1.0  0.0  0.0  0.0  \n",
       "1       -0.112932  0.0  1.0  0.0  0.0  1.0  0.0  0.0  \n",
       "2        1.585718  0.0  1.0  0.0  0.0  0.0  1.0  0.0  \n",
       "3       -0.194105  1.0  0.0  0.0  1.0  0.0  0.0  0.0  \n",
       "4       -0.108920  1.0  0.0  0.0  1.0  0.0  0.0  0.0  \n",
       "...           ...  ...  ...  ...  ...  ...  ...  ...  \n",
       "11003   -0.218676  0.0  1.0  0.0  0.0  1.0  0.0  0.0  \n",
       "11004   -0.220468  1.0  0.0  0.0  1.0  0.0  0.0  0.0  \n",
       "11005   -0.204931  0.0  1.0  0.0  0.0  1.0  0.0  0.0  \n",
       "11006   -0.223555  0.0  1.0  0.0  0.0  1.0  0.0  0.0  \n",
       "11007   -0.264136  0.0  1.0  0.0  0.0  1.0  0.0  0.0  \n",
       "\n",
       "[11008 rows x 15 columns]"
      ]
     },
     "execution_count": 48,
     "metadata": {},
     "output_type": "execute_result"
    }
   ],
   "source": [
    "c.columns = ['TARGET','loyalty','prod_A','prod_B','age','LOR','turnover_A','turnover_B',\"A0\",\"A3\",\"A6\",\"B0\",\"B3\",\"B6\",\"B9\"]\n",
    "c"
   ]
  },
  {
   "cell_type": "markdown",
   "metadata": {},
   "source": [
    "## Prepped Data Review"
   ]
  },
  {
   "cell_type": "code",
   "execution_count": 49,
   "metadata": {},
   "outputs": [
    {
     "data": {
      "text/html": [
       "<div>\n",
       "<style scoped>\n",
       "    .dataframe tbody tr th:only-of-type {\n",
       "        vertical-align: middle;\n",
       "    }\n",
       "\n",
       "    .dataframe tbody tr th {\n",
       "        vertical-align: top;\n",
       "    }\n",
       "\n",
       "    .dataframe thead th {\n",
       "        text-align: right;\n",
       "    }\n",
       "</style>\n",
       "<table border=\"1\" class=\"dataframe\">\n",
       "  <thead>\n",
       "    <tr style=\"text-align: right;\">\n",
       "      <th></th>\n",
       "      <th>TARGET</th>\n",
       "      <th>loyalty</th>\n",
       "      <th>prod_A</th>\n",
       "      <th>prod_B</th>\n",
       "      <th>age</th>\n",
       "      <th>LOR</th>\n",
       "      <th>turnover_A</th>\n",
       "      <th>turnover_B</th>\n",
       "      <th>A0</th>\n",
       "      <th>A3</th>\n",
       "      <th>A6</th>\n",
       "      <th>B0</th>\n",
       "      <th>B3</th>\n",
       "      <th>B6</th>\n",
       "      <th>B9</th>\n",
       "    </tr>\n",
       "  </thead>\n",
       "  <tbody>\n",
       "    <tr>\n",
       "      <th>count</th>\n",
       "      <td>11008.000000</td>\n",
       "      <td>11008.000000</td>\n",
       "      <td>11008.000000</td>\n",
       "      <td>11008.000000</td>\n",
       "      <td>1.100800e+04</td>\n",
       "      <td>1.100800e+04</td>\n",
       "      <td>1.100800e+04</td>\n",
       "      <td>1.100800e+04</td>\n",
       "      <td>11008.000000</td>\n",
       "      <td>11008.000000</td>\n",
       "      <td>11008.000000</td>\n",
       "      <td>11008.000000</td>\n",
       "      <td>11008.000000</td>\n",
       "      <td>11008.000000</td>\n",
       "      <td>11008.000000</td>\n",
       "    </tr>\n",
       "    <tr>\n",
       "      <th>mean</th>\n",
       "      <td>0.273256</td>\n",
       "      <td>2.968932</td>\n",
       "      <td>0.584393</td>\n",
       "      <td>0.652253</td>\n",
       "      <td>1.796538e-15</td>\n",
       "      <td>1.497833e-15</td>\n",
       "      <td>-1.594256e-16</td>\n",
       "      <td>-6.405366e-17</td>\n",
       "      <td>0.415607</td>\n",
       "      <td>0.582304</td>\n",
       "      <td>0.002089</td>\n",
       "      <td>0.347747</td>\n",
       "      <td>0.608194</td>\n",
       "      <td>0.041061</td>\n",
       "      <td>0.002998</td>\n",
       "    </tr>\n",
       "    <tr>\n",
       "      <th>std</th>\n",
       "      <td>0.445651</td>\n",
       "      <td>1.159622</td>\n",
       "      <td>0.492849</td>\n",
       "      <td>0.476277</td>\n",
       "      <td>1.000045e+00</td>\n",
       "      <td>1.000045e+00</td>\n",
       "      <td>1.000045e+00</td>\n",
       "      <td>1.000045e+00</td>\n",
       "      <td>0.492849</td>\n",
       "      <td>0.493202</td>\n",
       "      <td>0.045664</td>\n",
       "      <td>0.476277</td>\n",
       "      <td>0.488176</td>\n",
       "      <td>0.198440</td>\n",
       "      <td>0.054673</td>\n",
       "    </tr>\n",
       "    <tr>\n",
       "      <th>min</th>\n",
       "      <td>0.000000</td>\n",
       "      <td>0.000000</td>\n",
       "      <td>0.000000</td>\n",
       "      <td>0.000000</td>\n",
       "      <td>-2.290114e+00</td>\n",
       "      <td>-1.046070e+00</td>\n",
       "      <td>-7.471591e-01</td>\n",
       "      <td>-2.901843e-01</td>\n",
       "      <td>0.000000</td>\n",
       "      <td>0.000000</td>\n",
       "      <td>0.000000</td>\n",
       "      <td>0.000000</td>\n",
       "      <td>0.000000</td>\n",
       "      <td>0.000000</td>\n",
       "      <td>0.000000</td>\n",
       "    </tr>\n",
       "    <tr>\n",
       "      <th>25%</th>\n",
       "      <td>0.000000</td>\n",
       "      <td>2.000000</td>\n",
       "      <td>0.000000</td>\n",
       "      <td>0.000000</td>\n",
       "      <td>-8.321859e-01</td>\n",
       "      <td>-1.046070e+00</td>\n",
       "      <td>-4.147897e-01</td>\n",
       "      <td>-2.399521e-01</td>\n",
       "      <td>0.000000</td>\n",
       "      <td>0.000000</td>\n",
       "      <td>0.000000</td>\n",
       "      <td>0.000000</td>\n",
       "      <td>0.000000</td>\n",
       "      <td>0.000000</td>\n",
       "      <td>0.000000</td>\n",
       "    </tr>\n",
       "    <tr>\n",
       "      <th>50%</th>\n",
       "      <td>0.000000</td>\n",
       "      <td>3.000000</td>\n",
       "      <td>1.000000</td>\n",
       "      <td>1.000000</td>\n",
       "      <td>-2.950543e-01</td>\n",
       "      <td>1.847086e-02</td>\n",
       "      <td>-1.075914e-01</td>\n",
       "      <td>-2.080588e-01</td>\n",
       "      <td>0.000000</td>\n",
       "      <td>1.000000</td>\n",
       "      <td>0.000000</td>\n",
       "      <td>0.000000</td>\n",
       "      <td>1.000000</td>\n",
       "      <td>0.000000</td>\n",
       "      <td>0.000000</td>\n",
       "    </tr>\n",
       "    <tr>\n",
       "      <th>75%</th>\n",
       "      <td>1.000000</td>\n",
       "      <td>4.000000</td>\n",
       "      <td>1.000000</td>\n",
       "      <td>1.000000</td>\n",
       "      <td>5.490096e-01</td>\n",
       "      <td>1.847086e-02</td>\n",
       "      <td>1.989548e-01</td>\n",
       "      <td>-1.723303e-01</td>\n",
       "      <td>1.000000</td>\n",
       "      <td>1.000000</td>\n",
       "      <td>0.000000</td>\n",
       "      <td>1.000000</td>\n",
       "      <td>1.000000</td>\n",
       "      <td>0.000000</td>\n",
       "      <td>0.000000</td>\n",
       "    </tr>\n",
       "    <tr>\n",
       "      <th>max</th>\n",
       "      <td>1.000000</td>\n",
       "      <td>4.000000</td>\n",
       "      <td>1.000000</td>\n",
       "      <td>1.000000</td>\n",
       "      <td>5.152994e+00</td>\n",
       "      <td>5.341173e+00</td>\n",
       "      <td>5.374813e+01</td>\n",
       "      <td>2.270429e+01</td>\n",
       "      <td>1.000000</td>\n",
       "      <td>1.000000</td>\n",
       "      <td>1.000000</td>\n",
       "      <td>1.000000</td>\n",
       "      <td>1.000000</td>\n",
       "      <td>1.000000</td>\n",
       "      <td>1.000000</td>\n",
       "    </tr>\n",
       "  </tbody>\n",
       "</table>\n",
       "</div>"
      ],
      "text/plain": [
       "             TARGET       loyalty        prod_A        prod_B           age  \\\n",
       "count  11008.000000  11008.000000  11008.000000  11008.000000  1.100800e+04   \n",
       "mean       0.273256      2.968932      0.584393      0.652253  1.796538e-15   \n",
       "std        0.445651      1.159622      0.492849      0.476277  1.000045e+00   \n",
       "min        0.000000      0.000000      0.000000      0.000000 -2.290114e+00   \n",
       "25%        0.000000      2.000000      0.000000      0.000000 -8.321859e-01   \n",
       "50%        0.000000      3.000000      1.000000      1.000000 -2.950543e-01   \n",
       "75%        1.000000      4.000000      1.000000      1.000000  5.490096e-01   \n",
       "max        1.000000      4.000000      1.000000      1.000000  5.152994e+00   \n",
       "\n",
       "                LOR    turnover_A    turnover_B            A0            A3  \\\n",
       "count  1.100800e+04  1.100800e+04  1.100800e+04  11008.000000  11008.000000   \n",
       "mean   1.497833e-15 -1.594256e-16 -6.405366e-17      0.415607      0.582304   \n",
       "std    1.000045e+00  1.000045e+00  1.000045e+00      0.492849      0.493202   \n",
       "min   -1.046070e+00 -7.471591e-01 -2.901843e-01      0.000000      0.000000   \n",
       "25%   -1.046070e+00 -4.147897e-01 -2.399521e-01      0.000000      0.000000   \n",
       "50%    1.847086e-02 -1.075914e-01 -2.080588e-01      0.000000      1.000000   \n",
       "75%    1.847086e-02  1.989548e-01 -1.723303e-01      1.000000      1.000000   \n",
       "max    5.341173e+00  5.374813e+01  2.270429e+01      1.000000      1.000000   \n",
       "\n",
       "                 A6            B0            B3            B6            B9  \n",
       "count  11008.000000  11008.000000  11008.000000  11008.000000  11008.000000  \n",
       "mean       0.002089      0.347747      0.608194      0.041061      0.002998  \n",
       "std        0.045664      0.476277      0.488176      0.198440      0.054673  \n",
       "min        0.000000      0.000000      0.000000      0.000000      0.000000  \n",
       "25%        0.000000      0.000000      0.000000      0.000000      0.000000  \n",
       "50%        0.000000      0.000000      1.000000      0.000000      0.000000  \n",
       "75%        0.000000      1.000000      1.000000      0.000000      0.000000  \n",
       "max        1.000000      1.000000      1.000000      1.000000      1.000000  "
      ]
     },
     "execution_count": 49,
     "metadata": {},
     "output_type": "execute_result"
    }
   ],
   "source": [
    "c.describe()"
   ]
  },
  {
   "cell_type": "code",
   "execution_count": 50,
   "metadata": {},
   "outputs": [],
   "source": [
    "c_num = c[['age','LOR','turnover_A','turnover_B']]"
   ]
  },
  {
   "cell_type": "code",
   "execution_count": 51,
   "metadata": {},
   "outputs": [],
   "source": [
    "c_cat= c[['loyalty','prod_A','prod_B','A0','A3','A6','B0','B3','B6','B9','TARGET']]"
   ]
  },
  {
   "cell_type": "code",
   "execution_count": 52,
   "metadata": {},
   "outputs": [],
   "source": [
    "# turn the name of columns into list\n",
    "column_num=c_num.columns.to_list()\n",
    "column_cat=c_cat.columns.to_list()"
   ]
  },
  {
   "cell_type": "code",
   "execution_count": 53,
   "metadata": {},
   "outputs": [
    {
     "name": "stderr",
     "output_type": "stream",
     "text": [
      "C:\\Users\\asus\\anaconda3\\lib\\site-packages\\seaborn\\_decorators.py:36: FutureWarning: Pass the following variable as a keyword arg: x. From version 0.12, the only valid positional argument will be `data`, and passing other arguments without an explicit keyword will result in an error or misinterpretation.\n",
      "  warnings.warn(\n",
      "C:\\Users\\asus\\anaconda3\\lib\\site-packages\\seaborn\\_decorators.py:36: FutureWarning: Pass the following variable as a keyword arg: x. From version 0.12, the only valid positional argument will be `data`, and passing other arguments without an explicit keyword will result in an error or misinterpretation.\n",
      "  warnings.warn(\n",
      "C:\\Users\\asus\\anaconda3\\lib\\site-packages\\seaborn\\_decorators.py:36: FutureWarning: Pass the following variable as a keyword arg: x. From version 0.12, the only valid positional argument will be `data`, and passing other arguments without an explicit keyword will result in an error or misinterpretation.\n",
      "  warnings.warn(\n",
      "C:\\Users\\asus\\anaconda3\\lib\\site-packages\\seaborn\\_decorators.py:36: FutureWarning: Pass the following variable as a keyword arg: x. From version 0.12, the only valid positional argument will be `data`, and passing other arguments without an explicit keyword will result in an error or misinterpretation.\n",
      "  warnings.warn(\n"
     ]
    },
    {
     "data": {
      "image/png": "[encoded data removed]",
      "text/plain": [
       "<Figure size 1080x1440 with 8 Axes>"
      ]
     },
     "metadata": {
      "needs_background": "light"
     },
     "output_type": "display_data"
    }
   ],
   "source": [
    "#show the histogram and boxplot of each attribute in the numerical dataset\n",
    "fig=plt.figure(figsize=(15,20))\n",
    "for i in range(4):\n",
    "    n=2*i\n",
    "    plt.subplot(12,4,n+1)\n",
    "    plt.hist(c[column_num[i]])\n",
    "    plt.subplot(12,4,n+2)\n",
    "    sns.boxplot(c[column_num[i]])\n",
    "    \n",
    "plt.tight_layout()"
   ]
  },
  {
   "cell_type": "markdown",
   "metadata": {},
   "source": [
    "From above, we can see the distributions of them are more Gaussian through our data preparation."
   ]
  },
  {
   "cell_type": "code",
   "execution_count": 54,
   "metadata": {},
   "outputs": [
    {
     "data": {
      "image/png": "[encoded data removed]",
      "text/plain": [
       "<Figure size 1080x1080 with 11 Axes>"
      ]
     },
     "metadata": {
      "needs_background": "light"
     },
     "output_type": "display_data"
    }
   ],
   "source": [
    "# show barplot of each attribute in the categorical dataset\n",
    "fig=plt.figure(figsize=(15,15))\n",
    "for i in range(11):\n",
    "    plt.subplot(3,4,i+1)\n",
    "    c_cat[column_cat[i]].value_counts().plot.bar(title = \"Freq Dist\")\n",
    "    plt.xlabel(column_cat[i])\n",
    "plt.tight_layout()"
   ]
  },
  {
   "cell_type": "markdown",
   "metadata": {},
   "source": [
    "In the chart of 'loyalty', the '4' appears mostly followed by '3', '1', and '2', '0' appears the lowest number of times.\n",
    "\n",
    "In the 'prod_A', there are over 6000 people who have bought product A and there are under 4000 people who have not.\n",
    "\n",
    "In the 'prod_B', there are nearly 7000 people who have bought product B and there are about 4000 people who have not.\n",
    "\n",
    "In the 'type_B', type 3 appears the most number, and type 9 appears the least number.\n",
    "\n",
    "In the 'TARGET', we find that there are nearly 3000 people have bought the new product and other 8000 have not."
   ]
  },
  {
   "cell_type": "markdown",
   "metadata": {},
   "source": [
    "# KNN + SVM Modeling"
   ]
  },
  {
   "cell_type": "code",
   "execution_count": 68,
   "metadata": {},
   "outputs": [],
   "source": [
    "x = c[['loyalty','prod_A','prod_B','age','LOR','turnover_A','turnover_B',\"A0\",\"A3\",\"A6\",\"B0\",\"B3\",\"B6\",\"B9\"]]\n",
    "y = c.TARGET"
   ]
  },
  {
   "cell_type": "code",
   "execution_count": 69,
   "metadata": {},
   "outputs": [],
   "source": [
    "from sklearn.feature_selection import mutual_info_classif as MIC"
   ]
  },
  {
   "cell_type": "code",
   "execution_count": 70,
   "metadata": {},
   "outputs": [
    {
     "data": {
      "text/plain": [
       "array([0.02990161, 0.0479546 , 0.04210136, 0.06214314, 0.04295384,\n",
       "       0.15455712, 0.13841907, 0.03970046, 0.04245061, 0.        ,\n",
       "       0.04429851, 0.02943047, 0.00739307, 0.        ])"
      ]
     },
     "execution_count": 70,
     "metadata": {},
     "output_type": "execute_result"
    }
   ],
   "source": [
    "result = MIC(x,y)\n",
    "result"
   ]
  },
  {
   "cell_type": "markdown",
   "metadata": {},
   "source": [
    "Through the mutual information method, we find that all x is related to Y, so we will select a few from x as our explanatory variables.\n",
    "\n",
    "According to our domain knowledge, we set out the first data set including attributes that are relevant to product A and indicator of buying the new product(0 = no, 1= yes). \n",
    "The second data set includes attributes that are relevant with product B and indicator of buying the new product (0 = no, 1= yes).   "
   ]
  },
  {
   "cell_type": "code",
   "execution_count": 71,
   "metadata": {},
   "outputs": [],
   "source": [
    "from sklearn.model_selection import train_test_split"
   ]
  },
  {
   "cell_type": "code",
   "execution_count": 72,
   "metadata": {},
   "outputs": [],
   "source": [
    "x1=c[['prod_A','turnover_A',\"A0\",\"A3\",\"A6\"]]"
   ]
  },
  {
   "cell_type": "code",
   "execution_count": 73,
   "metadata": {},
   "outputs": [],
   "source": [
    "x2=c[['prod_B','turnover_B',\"B0\",\"B3\",\"B6\",'B9']]"
   ]
  },
  {
   "cell_type": "code",
   "execution_count": 74,
   "metadata": {},
   "outputs": [],
   "source": [
    "y=c['TARGET']"
   ]
  },
  {
   "cell_type": "code",
   "execution_count": 75,
   "metadata": {},
   "outputs": [],
   "source": [
    "# Now split the data into training and testing subsets. \n",
    "# We'll set aside 30% of the data for testing purposes; Remember to make sure you specify a value for the inital random_state\n",
    "# if you want to have the ability to reproduce the exact same training + testing subsets repeatedly\n",
    "X1_train, X1_test, y1_train, y1_test = train_test_split(x1, y, test_size=0.3, random_state=12)"
   ]
  },
  {
   "cell_type": "code",
   "execution_count": 76,
   "metadata": {},
   "outputs": [],
   "source": [
    "# Now split the data into training and testing subsets. \n",
    "# We'll set aside 30% of the data for testing purposes; Remember to make sure you specify a value for the inital random_state\n",
    "# if you want to have the ability to reproduce the exact same training + testing subsets repeatedly\n",
    "X2_train, X2_test, y2_train, y2_test = train_test_split(x2, y, test_size=0.3, random_state=12)"
   ]
  },
  {
   "cell_type": "markdown",
   "metadata": {},
   "source": [
    "### KNN Modeling"
   ]
  },
  {
   "cell_type": "code",
   "execution_count": 77,
   "metadata": {},
   "outputs": [],
   "source": [
    "from sklearn.neighbors import KNeighborsClassifier\n",
    "from sklearn.model_selection import cross_val_score"
   ]
  },
  {
   "cell_type": "markdown",
   "metadata": {},
   "source": [
    "#### KNN Model 1"
   ]
  },
  {
   "cell_type": "code",
   "execution_count": 78,
   "metadata": {},
   "outputs": [
    {
     "name": "stdout",
     "output_type": "stream",
     "text": [
      "0.8423091953442148 31\n"
     ]
    },
    {
     "data": {
      "image/png": "[encoded data removed]",
      "text/plain": [
       "<Figure size 1440x360 with 1 Axes>"
      ]
     },
     "metadata": {
      "needs_background": "light"
     },
     "output_type": "display_data"
    }
   ],
   "source": [
    "# use the learning curve to find the best K\n",
    "scorel = []\n",
    "for i in range(0,50,5):\n",
    "    neigh1 = KNeighborsClassifier(n_neighbors=i+1)\n",
    "    score = cross_val_score(neigh1,X1_train,y1_train,cv=10).mean()\n",
    "    scorel.append(score)\n",
    "print(max(scorel),(scorel.index(max(scorel))*5)+1)\n",
    "plt.figure(figsize=[20,5])\n",
    "plt.plot(range(1,51,5),scorel)\n",
    "plt.show()"
   ]
  },
  {
   "cell_type": "markdown",
   "metadata": {},
   "source": [
    "From this line chart, we can see that when k = 31, we get the highest score of accuracy, so we will use k = 31 in our first KNN model."
   ]
  },
  {
   "cell_type": "code",
   "execution_count": 79,
   "metadata": {},
   "outputs": [
    {
     "data": {
      "text/plain": [
       "KNeighborsClassifier(n_neighbors=31)"
      ]
     },
     "execution_count": 79,
     "metadata": {},
     "output_type": "execute_result"
    }
   ],
   "source": [
    "knc1 = KNeighborsClassifier(n_neighbors=31)\n",
    "knc1.fit(X1_train, y1_train)"
   ]
  },
  {
   "cell_type": "markdown",
   "metadata": {},
   "source": [
    "#### KNN Model 2"
   ]
  },
  {
   "cell_type": "code",
   "execution_count": 80,
   "metadata": {},
   "outputs": [
    {
     "name": "stdout",
     "output_type": "stream",
     "text": [
      "0.8308919096467735 36\n"
     ]
    },
    {
     "data": {
      "image/png": "[encoded data removed]",
      "text/plain": [
       "<Figure size 1440x360 with 1 Axes>"
      ]
     },
     "metadata": {
      "needs_background": "light"
     },
     "output_type": "display_data"
    }
   ],
   "source": [
    "# use the learning curve to find the best K\n",
    "score2 = []\n",
    "for i in range(0,50,5):\n",
    "    neigh2 = KNeighborsClassifier(n_neighbors=i+1)\n",
    "    score = cross_val_score(neigh2,X2_train,y2_train,cv=10).mean()\n",
    "    score2.append(score)\n",
    "print(max(score2),(score2.index(max(score2))*5)+1)\n",
    "plt.figure(figsize=[20,5])\n",
    "plt.plot(range(1,51,5),score2)\n",
    "plt.show()"
   ]
  },
  {
   "cell_type": "markdown",
   "metadata": {},
   "source": [
    "From this line chart, we can see that when k = 36, we get the highest score of accuracy, so we will use k = 36 in our second KNN model."
   ]
  },
  {
   "cell_type": "code",
   "execution_count": 81,
   "metadata": {},
   "outputs": [
    {
     "data": {
      "text/plain": [
       "KNeighborsClassifier(n_neighbors=36)"
      ]
     },
     "execution_count": 81,
     "metadata": {},
     "output_type": "execute_result"
    }
   ],
   "source": [
    "knc2 = KNeighborsClassifier(n_neighbors=36)\n",
    "knc2.fit(X2_train, y2_train)"
   ]
  },
  {
   "cell_type": "markdown",
   "metadata": {},
   "source": [
    "### SVM Modeling"
   ]
  },
  {
   "cell_type": "code",
   "execution_count": 82,
   "metadata": {},
   "outputs": [],
   "source": [
    "from sklearn.svm import SVC"
   ]
  },
  {
   "cell_type": "markdown",
   "metadata": {},
   "source": [
    "#### SVM Model 1\n",
    "We decide to use two types of SVM models('linear', 'rbf') and select the better one through cross-validation scores."
   ]
  },
  {
   "cell_type": "code",
   "execution_count": 83,
   "metadata": {},
   "outputs": [
    {
     "data": {
      "text/plain": [
       "0.8210232957703774"
      ]
     },
     "execution_count": 83,
     "metadata": {},
     "output_type": "execute_result"
    }
   ],
   "source": [
    "li1 = SVC(kernel='linear')\n",
    "score_li1 = cross_val_score(li1,X1_train,y1_train,cv=10).mean()\n",
    "score_li1"
   ]
  },
  {
   "cell_type": "code",
   "execution_count": 84,
   "metadata": {},
   "outputs": [
    {
     "data": {
      "text/plain": [
       "0.8273833948153013"
      ]
     },
     "execution_count": 84,
     "metadata": {},
     "output_type": "execute_result"
    }
   ],
   "source": [
    "rb1 = SVC(kernel='rbf',gamma='auto')\n",
    "score_rb1 = cross_val_score(rb1,X1_train,y1_train,cv=10).mean()\n",
    "score_rb1"
   ]
  },
  {
   "cell_type": "markdown",
   "metadata": {},
   "source": [
    "We can see that the score of rb1 is higher than li1, so will use 'rbf' as kernel."
   ]
  },
  {
   "cell_type": "code",
   "execution_count": 88,
   "metadata": {},
   "outputs": [
    {
     "data": {
      "text/plain": [
       "SVC(gamma='auto')"
      ]
     },
     "execution_count": 88,
     "metadata": {},
     "output_type": "execute_result"
    }
   ],
   "source": [
    "sv1 = SVC(kernel='rbf',gamma='auto')\n",
    "sv1.fit(X1_train, y1_train)"
   ]
  },
  {
   "cell_type": "markdown",
   "metadata": {},
   "source": [
    "#### SVM Model 2\n",
    "We decide to use two types of SVM models('linear', 'rbf') and select the better one through cross-validation scores."
   ]
  },
  {
   "cell_type": "code",
   "execution_count": 86,
   "metadata": {},
   "outputs": [
    {
     "data": {
      "text/plain": [
       "0.7232966125962234"
      ]
     },
     "execution_count": 86,
     "metadata": {},
     "output_type": "execute_result"
    }
   ],
   "source": [
    "li2 = SVC(kernel='linear')\n",
    "score_li2 = cross_val_score(li2,X2_train,y2_train,cv=10).mean()\n",
    "score_li2"
   ]
  },
  {
   "cell_type": "code",
   "execution_count": 87,
   "metadata": {},
   "outputs": [
    {
     "data": {
      "text/plain": [
       "0.7945510131891454"
      ]
     },
     "execution_count": 87,
     "metadata": {},
     "output_type": "execute_result"
    }
   ],
   "source": [
    "rb2 = SVC(kernel='rbf',gamma='auto')\n",
    "score_rb2 = cross_val_score(rb2,X2_train,y2_train,cv=10).mean()\n",
    "score_rb2"
   ]
  },
  {
   "cell_type": "markdown",
   "metadata": {},
   "source": [
    "We can see that the score of rb2 is higher than li2, so will use 'rbf' as kernel."
   ]
  },
  {
   "cell_type": "code",
   "execution_count": 89,
   "metadata": {},
   "outputs": [
    {
     "data": {
      "text/plain": [
       "SVC(gamma='auto')"
      ]
     },
     "execution_count": 89,
     "metadata": {},
     "output_type": "execute_result"
    }
   ],
   "source": [
    "sv2 = SVC(kernel='rbf',gamma='auto')\n",
    "sv2.fit(X2_train, y2_train)"
   ]
  },
  {
   "cell_type": "markdown",
   "metadata": {},
   "source": [
    "## Select Models"
   ]
  },
  {
   "cell_type": "markdown",
   "metadata": {},
   "source": [
    "Because our response variable is an imbalanced class, so we use fl to evaluate our models."
   ]
  },
  {
   "cell_type": "code",
   "execution_count": 91,
   "metadata": {},
   "outputs": [
    {
     "data": {
      "text/plain": [
       "0.6281521140200109"
      ]
     },
     "execution_count": 91,
     "metadata": {},
     "output_type": "execute_result"
    }
   ],
   "source": [
    "score_knc1 = cross_val_score(knc1,X1_train,y1_train,cv=10,scoring='f1').mean()\n",
    "score_knc1"
   ]
  },
  {
   "cell_type": "code",
   "execution_count": 92,
   "metadata": {},
   "outputs": [
    {
     "data": {
      "text/plain": [
       "0.6099115438898725"
      ]
     },
     "execution_count": 92,
     "metadata": {},
     "output_type": "execute_result"
    }
   ],
   "source": [
    "score_knc2 = cross_val_score(knc2,X2_train,y2_train,cv=10,scoring='f1').mean()\n",
    "score_knc2"
   ]
  },
  {
   "cell_type": "code",
   "execution_count": 93,
   "metadata": {},
   "outputs": [
    {
     "data": {
      "text/plain": [
       "0.5689767913546826"
      ]
     },
     "execution_count": 93,
     "metadata": {},
     "output_type": "execute_result"
    }
   ],
   "source": [
    "score_sv1 = cross_val_score(sv1,X1_train,y1_train,cv=10,scoring='f1').mean()\n",
    "score_sv1"
   ]
  },
  {
   "cell_type": "code",
   "execution_count": 94,
   "metadata": {},
   "outputs": [
    {
     "data": {
      "text/plain": [
       "0.4088831307420433"
      ]
     },
     "execution_count": 94,
     "metadata": {},
     "output_type": "execute_result"
    }
   ],
   "source": [
    "score_sv2 = cross_val_score(sv2,X2_train,y2_train,cv=10,scoring='f1').mean()\n",
    "score_sv2"
   ]
  },
  {
   "cell_type": "markdown",
   "metadata": {},
   "source": [
    "From f1 scores, we know that knc1 is the best model in performance."
   ]
  },
  {
   "cell_type": "code",
   "execution_count": 104,
   "metadata": {},
   "outputs": [
    {
     "data": {
      "text/plain": [
       "array([0, 0, 0, ..., 0, 0, 0])"
      ]
     },
     "execution_count": 104,
     "metadata": {},
     "output_type": "execute_result"
    }
   ],
   "source": [
    "# predict class labels for the test set\n",
    "predicted1 = knc1.predict(X1_test)\n",
    "predicted1"
   ]
  },
  {
   "cell_type": "code",
   "execution_count": 106,
   "metadata": {},
   "outputs": [
    {
     "data": {
      "text/plain": [
       "array([[0.96774194, 0.03225806],\n",
       "       [0.80645161, 0.19354839],\n",
       "       [0.64516129, 0.35483871],\n",
       "       ...,\n",
       "       [0.80645161, 0.19354839],\n",
       "       [0.90322581, 0.09677419],\n",
       "       [0.90322581, 0.09677419]])"
      ]
     },
     "execution_count": 106,
     "metadata": {},
     "output_type": "execute_result"
    }
   ],
   "source": [
    "# generate class probabilities\n",
    "probs1 = knc1.predict_proba(X1_test)\n",
    "probs1"
   ]
  },
  {
   "cell_type": "code",
   "execution_count": 107,
   "metadata": {},
   "outputs": [
    {
     "name": "stdout",
     "output_type": "stream",
     "text": [
      "0.8477141992128369\n",
      "0.8073890008334698\n"
     ]
    }
   ],
   "source": [
    "from sklearn import metrics \n",
    "print(metrics.accuracy_score(y1_test, predicted1))\n",
    "print(metrics.roc_auc_score(y1_test, probs1[:, 1]))"
   ]
  },
  {
   "cell_type": "code",
   "execution_count": 108,
   "metadata": {},
   "outputs": [
    {
     "name": "stdout",
     "output_type": "stream",
     "text": [
      "[[2368   59]\n",
      " [ 444  432]]\n",
      "              precision    recall  f1-score   support\n",
      "\n",
      "           0       0.84      0.98      0.90      2427\n",
      "           1       0.88      0.49      0.63       876\n",
      "\n",
      "    accuracy                           0.85      3303\n",
      "   macro avg       0.86      0.73      0.77      3303\n",
      "weighted avg       0.85      0.85      0.83      3303\n",
      "\n"
     ]
    }
   ],
   "source": [
    "print(metrics.confusion_matrix(y1_test, predicted1))\n",
    "print(metrics.classification_report(y1_test, predicted1))"
   ]
  },
  {
   "cell_type": "markdown",
   "metadata": {},
   "source": [
    "Compared to the logistic regression model 1 in M7, the f1 score of the logistic regression model 1 is higher than the KNN model 1, so the logistic regression model is more suitable for this data set."
   ]
  },
  {
   "cell_type": "markdown",
   "metadata": {},
   "source": [
    "## Conclusion"
   ]
  },
  {
   "cell_type": "markdown",
   "metadata": {},
   "source": [
    "Although KNN model 1 has the best predictive effect on the unseen data, but its accuracy is not very high, this indicates that we still have room for improving this model, for this assignment, mainly for selection of independent variables and using other more suitable models to try."
   ]
  }
 ],
 "metadata": {
  "kernelspec": {
   "display_name": "Python 3",
   "language": "python",
   "name": "python3"
  },
  "language_info": {
   "codemirror_mode": {
    "name": "ipython",
    "version": 3
   },
   "file_extension": ".py",
   "mimetype": "text/x-python",
   "name": "python",
   "nbconvert_exporter": "python",
   "pygments_lexer": "ipython3",
   "version": "3.8.5"
  }
 },
 "nbformat": 4,
 "nbformat_minor": 4
}
