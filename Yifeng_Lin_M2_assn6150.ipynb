{
 "cells": [
  {
   "cell_type": "markdown",
   "metadata": {},
   "source": [
    "# DAV 6150 Module 2 Assignment"
   ]
  },
  {
   "cell_type": "markdown",
   "metadata": {},
   "source": [
    "## Introduction"
   ]
  },
  {
   "cell_type": "markdown",
   "metadata": {},
   "source": [
    " ### Purpose\n",
    " construct a cross validated linear regression model that predicts the weight of a passenger vehicle"
   ]
  },
  {
   "cell_type": "markdown",
   "metadata": {},
   "source": [
    "### For the Phase I: Data Acquisition, Data Preparation & Exploratory Data Analysis:\n",
    "We have loaded the data about automoblies and then create a Dataframe with a subset of the columns. After some basic cleaning about our dataset, we are going to show the EDA by using seaborn, which enables us to use histograms and box plots to show the distribution of our data.\n",
    "### For the Phase II:Build Predictive Models\n",
    "we plan to evaluate the model by splitting it into train and test sets and get the score for each model."
   ]
  },
  {
   "cell_type": "markdown",
   "metadata": {},
   "source": [
    "The link of references:\n",
    "- https://archive.ics.uci.edu/ml/datasets/Automobile"
   ]
  },
  {
   "cell_type": "markdown",
   "metadata": {},
   "source": [
    "## Data Acquisition"
   ]
  },
  {
   "cell_type": "code",
   "execution_count": 162,
   "metadata": {},
   "outputs": [
    {
     "data": {
      "text/html": [
       "<div>\n",
       "<style scoped>\n",
       "    .dataframe tbody tr th:only-of-type {\n",
       "        vertical-align: middle;\n",
       "    }\n",
       "\n",
       "    .dataframe tbody tr th {\n",
       "        vertical-align: top;\n",
       "    }\n",
       "\n",
       "    .dataframe thead th {\n",
       "        text-align: right;\n",
       "    }\n",
       "</style>\n",
       "<table border=\"1\" class=\"dataframe\">\n",
       "  <thead>\n",
       "    <tr style=\"text-align: right;\">\n",
       "      <th></th>\n",
       "      <th>0</th>\n",
       "      <th>1</th>\n",
       "      <th>2</th>\n",
       "      <th>3</th>\n",
       "      <th>4</th>\n",
       "      <th>5</th>\n",
       "      <th>6</th>\n",
       "      <th>7</th>\n",
       "      <th>8</th>\n",
       "      <th>9</th>\n",
       "      <th>...</th>\n",
       "      <th>16</th>\n",
       "      <th>17</th>\n",
       "      <th>18</th>\n",
       "      <th>19</th>\n",
       "      <th>20</th>\n",
       "      <th>21</th>\n",
       "      <th>22</th>\n",
       "      <th>23</th>\n",
       "      <th>24</th>\n",
       "      <th>25</th>\n",
       "    </tr>\n",
       "  </thead>\n",
       "  <tbody>\n",
       "    <tr>\n",
       "      <th>0</th>\n",
       "      <td>3</td>\n",
       "      <td>?</td>\n",
       "      <td>alfa-romero</td>\n",
       "      <td>gas</td>\n",
       "      <td>std</td>\n",
       "      <td>two</td>\n",
       "      <td>convertible</td>\n",
       "      <td>rwd</td>\n",
       "      <td>front</td>\n",
       "      <td>88.6</td>\n",
       "      <td>...</td>\n",
       "      <td>130</td>\n",
       "      <td>mpfi</td>\n",
       "      <td>3.47</td>\n",
       "      <td>2.68</td>\n",
       "      <td>9.0</td>\n",
       "      <td>111</td>\n",
       "      <td>5000</td>\n",
       "      <td>21</td>\n",
       "      <td>27</td>\n",
       "      <td>13495</td>\n",
       "    </tr>\n",
       "    <tr>\n",
       "      <th>1</th>\n",
       "      <td>3</td>\n",
       "      <td>?</td>\n",
       "      <td>alfa-romero</td>\n",
       "      <td>gas</td>\n",
       "      <td>std</td>\n",
       "      <td>two</td>\n",
       "      <td>convertible</td>\n",
       "      <td>rwd</td>\n",
       "      <td>front</td>\n",
       "      <td>88.6</td>\n",
       "      <td>...</td>\n",
       "      <td>130</td>\n",
       "      <td>mpfi</td>\n",
       "      <td>3.47</td>\n",
       "      <td>2.68</td>\n",
       "      <td>9.0</td>\n",
       "      <td>111</td>\n",
       "      <td>5000</td>\n",
       "      <td>21</td>\n",
       "      <td>27</td>\n",
       "      <td>16500</td>\n",
       "    </tr>\n",
       "    <tr>\n",
       "      <th>2</th>\n",
       "      <td>1</td>\n",
       "      <td>?</td>\n",
       "      <td>alfa-romero</td>\n",
       "      <td>gas</td>\n",
       "      <td>std</td>\n",
       "      <td>two</td>\n",
       "      <td>hatchback</td>\n",
       "      <td>rwd</td>\n",
       "      <td>front</td>\n",
       "      <td>94.5</td>\n",
       "      <td>...</td>\n",
       "      <td>152</td>\n",
       "      <td>mpfi</td>\n",
       "      <td>2.68</td>\n",
       "      <td>3.47</td>\n",
       "      <td>9.0</td>\n",
       "      <td>154</td>\n",
       "      <td>5000</td>\n",
       "      <td>19</td>\n",
       "      <td>26</td>\n",
       "      <td>16500</td>\n",
       "    </tr>\n",
       "    <tr>\n",
       "      <th>3</th>\n",
       "      <td>2</td>\n",
       "      <td>164</td>\n",
       "      <td>audi</td>\n",
       "      <td>gas</td>\n",
       "      <td>std</td>\n",
       "      <td>four</td>\n",
       "      <td>sedan</td>\n",
       "      <td>fwd</td>\n",
       "      <td>front</td>\n",
       "      <td>99.8</td>\n",
       "      <td>...</td>\n",
       "      <td>109</td>\n",
       "      <td>mpfi</td>\n",
       "      <td>3.19</td>\n",
       "      <td>3.4</td>\n",
       "      <td>10.0</td>\n",
       "      <td>102</td>\n",
       "      <td>5500</td>\n",
       "      <td>24</td>\n",
       "      <td>30</td>\n",
       "      <td>13950</td>\n",
       "    </tr>\n",
       "    <tr>\n",
       "      <th>4</th>\n",
       "      <td>2</td>\n",
       "      <td>164</td>\n",
       "      <td>audi</td>\n",
       "      <td>gas</td>\n",
       "      <td>std</td>\n",
       "      <td>four</td>\n",
       "      <td>sedan</td>\n",
       "      <td>4wd</td>\n",
       "      <td>front</td>\n",
       "      <td>99.4</td>\n",
       "      <td>...</td>\n",
       "      <td>136</td>\n",
       "      <td>mpfi</td>\n",
       "      <td>3.19</td>\n",
       "      <td>3.4</td>\n",
       "      <td>8.0</td>\n",
       "      <td>115</td>\n",
       "      <td>5500</td>\n",
       "      <td>18</td>\n",
       "      <td>22</td>\n",
       "      <td>17450</td>\n",
       "    </tr>\n",
       "  </tbody>\n",
       "</table>\n",
       "<p>5 rows × 26 columns</p>\n",
       "</div>"
      ],
      "text/plain": [
       "   0    1            2    3    4     5            6    7      8     9   ...  \\\n",
       "0   3    ?  alfa-romero  gas  std   two  convertible  rwd  front  88.6  ...   \n",
       "1   3    ?  alfa-romero  gas  std   two  convertible  rwd  front  88.6  ...   \n",
       "2   1    ?  alfa-romero  gas  std   two    hatchback  rwd  front  94.5  ...   \n",
       "3   2  164         audi  gas  std  four        sedan  fwd  front  99.8  ...   \n",
       "4   2  164         audi  gas  std  four        sedan  4wd  front  99.4  ...   \n",
       "\n",
       "    16    17    18    19    20   21    22  23  24     25  \n",
       "0  130  mpfi  3.47  2.68   9.0  111  5000  21  27  13495  \n",
       "1  130  mpfi  3.47  2.68   9.0  111  5000  21  27  16500  \n",
       "2  152  mpfi  2.68  3.47   9.0  154  5000  19  26  16500  \n",
       "3  109  mpfi  3.19   3.4  10.0  102  5500  24  30  13950  \n",
       "4  136  mpfi  3.19   3.4   8.0  115  5500  18  22  17450  \n",
       "\n",
       "[5 rows x 26 columns]"
      ]
     },
     "execution_count": 162,
     "metadata": {},
     "output_type": "execute_result"
    }
   ],
   "source": [
    "# load the pandas library\n",
    "import pandas as pd\n",
    "\n",
    "# start by reading a set of data from github\n",
    "filename = \"https://raw.githubusercontent.com/675874815/DAV-5401/master/M2_Data.csv\"\n",
    "df = pd.read_csv(filename, header = None)\n",
    "df.head()"
   ]
  },
  {
   "cell_type": "code",
   "execution_count": 163,
   "metadata": {},
   "outputs": [
    {
     "data": {
      "text/plain": [
       "205"
      ]
     },
     "execution_count": 163,
     "metadata": {},
     "output_type": "execute_result"
    }
   ],
   "source": [
    "# how many observations are contained within the data set?\n",
    "len(df)"
   ]
  },
  {
   "cell_type": "markdown",
   "metadata": {},
   "source": [
    "## Data Preparation"
   ]
  },
  {
   "cell_type": "code",
   "execution_count": 164,
   "metadata": {},
   "outputs": [],
   "source": [
    "# create a subset of 9 columns\n",
    "# use the 'copy()' function if you want to preserve the original data frame\n",
    "df_sub = df.iloc[:, [12, 11, 10, 9, 16, 21, 22, 23, 13]].copy()"
   ]
  },
  {
   "cell_type": "code",
   "execution_count": 165,
   "metadata": {},
   "outputs": [
    {
     "data": {
      "text/html": [
       "<div>\n",
       "<style scoped>\n",
       "    .dataframe tbody tr th:only-of-type {\n",
       "        vertical-align: middle;\n",
       "    }\n",
       "\n",
       "    .dataframe tbody tr th {\n",
       "        vertical-align: top;\n",
       "    }\n",
       "\n",
       "    .dataframe thead th {\n",
       "        text-align: right;\n",
       "    }\n",
       "</style>\n",
       "<table border=\"1\" class=\"dataframe\">\n",
       "  <thead>\n",
       "    <tr style=\"text-align: right;\">\n",
       "      <th></th>\n",
       "      <th>12</th>\n",
       "      <th>11</th>\n",
       "      <th>10</th>\n",
       "      <th>9</th>\n",
       "      <th>16</th>\n",
       "      <th>21</th>\n",
       "      <th>22</th>\n",
       "      <th>23</th>\n",
       "      <th>13</th>\n",
       "    </tr>\n",
       "  </thead>\n",
       "  <tbody>\n",
       "    <tr>\n",
       "      <th>0</th>\n",
       "      <td>48.8</td>\n",
       "      <td>64.1</td>\n",
       "      <td>168.8</td>\n",
       "      <td>88.6</td>\n",
       "      <td>130</td>\n",
       "      <td>111</td>\n",
       "      <td>5000</td>\n",
       "      <td>21</td>\n",
       "      <td>2548</td>\n",
       "    </tr>\n",
       "    <tr>\n",
       "      <th>1</th>\n",
       "      <td>48.8</td>\n",
       "      <td>64.1</td>\n",
       "      <td>168.8</td>\n",
       "      <td>88.6</td>\n",
       "      <td>130</td>\n",
       "      <td>111</td>\n",
       "      <td>5000</td>\n",
       "      <td>21</td>\n",
       "      <td>2548</td>\n",
       "    </tr>\n",
       "    <tr>\n",
       "      <th>2</th>\n",
       "      <td>52.4</td>\n",
       "      <td>65.5</td>\n",
       "      <td>171.2</td>\n",
       "      <td>94.5</td>\n",
       "      <td>152</td>\n",
       "      <td>154</td>\n",
       "      <td>5000</td>\n",
       "      <td>19</td>\n",
       "      <td>2823</td>\n",
       "    </tr>\n",
       "    <tr>\n",
       "      <th>3</th>\n",
       "      <td>54.3</td>\n",
       "      <td>66.2</td>\n",
       "      <td>176.6</td>\n",
       "      <td>99.8</td>\n",
       "      <td>109</td>\n",
       "      <td>102</td>\n",
       "      <td>5500</td>\n",
       "      <td>24</td>\n",
       "      <td>2337</td>\n",
       "    </tr>\n",
       "    <tr>\n",
       "      <th>4</th>\n",
       "      <td>54.3</td>\n",
       "      <td>66.4</td>\n",
       "      <td>176.6</td>\n",
       "      <td>99.4</td>\n",
       "      <td>136</td>\n",
       "      <td>115</td>\n",
       "      <td>5500</td>\n",
       "      <td>18</td>\n",
       "      <td>2824</td>\n",
       "    </tr>\n",
       "    <tr>\n",
       "      <th>5</th>\n",
       "      <td>53.1</td>\n",
       "      <td>66.3</td>\n",
       "      <td>177.3</td>\n",
       "      <td>99.8</td>\n",
       "      <td>136</td>\n",
       "      <td>110</td>\n",
       "      <td>5500</td>\n",
       "      <td>19</td>\n",
       "      <td>2507</td>\n",
       "    </tr>\n",
       "    <tr>\n",
       "      <th>6</th>\n",
       "      <td>55.7</td>\n",
       "      <td>71.4</td>\n",
       "      <td>192.7</td>\n",
       "      <td>105.8</td>\n",
       "      <td>136</td>\n",
       "      <td>110</td>\n",
       "      <td>5500</td>\n",
       "      <td>19</td>\n",
       "      <td>2844</td>\n",
       "    </tr>\n",
       "    <tr>\n",
       "      <th>7</th>\n",
       "      <td>55.7</td>\n",
       "      <td>71.4</td>\n",
       "      <td>192.7</td>\n",
       "      <td>105.8</td>\n",
       "      <td>136</td>\n",
       "      <td>110</td>\n",
       "      <td>5500</td>\n",
       "      <td>19</td>\n",
       "      <td>2954</td>\n",
       "    </tr>\n",
       "    <tr>\n",
       "      <th>8</th>\n",
       "      <td>55.9</td>\n",
       "      <td>71.4</td>\n",
       "      <td>192.7</td>\n",
       "      <td>105.8</td>\n",
       "      <td>131</td>\n",
       "      <td>140</td>\n",
       "      <td>5500</td>\n",
       "      <td>17</td>\n",
       "      <td>3086</td>\n",
       "    </tr>\n",
       "    <tr>\n",
       "      <th>9</th>\n",
       "      <td>52.0</td>\n",
       "      <td>67.9</td>\n",
       "      <td>178.2</td>\n",
       "      <td>99.5</td>\n",
       "      <td>131</td>\n",
       "      <td>160</td>\n",
       "      <td>5500</td>\n",
       "      <td>16</td>\n",
       "      <td>3053</td>\n",
       "    </tr>\n",
       "  </tbody>\n",
       "</table>\n",
       "</div>"
      ],
      "text/plain": [
       "     12    11     10     9    16   21    22  23    13\n",
       "0  48.8  64.1  168.8   88.6  130  111  5000  21  2548\n",
       "1  48.8  64.1  168.8   88.6  130  111  5000  21  2548\n",
       "2  52.4  65.5  171.2   94.5  152  154  5000  19  2823\n",
       "3  54.3  66.2  176.6   99.8  109  102  5500  24  2337\n",
       "4  54.3  66.4  176.6   99.4  136  115  5500  18  2824\n",
       "5  53.1  66.3  177.3   99.8  136  110  5500  19  2507\n",
       "6  55.7  71.4  192.7  105.8  136  110  5500  19  2844\n",
       "7  55.7  71.4  192.7  105.8  136  110  5500  19  2954\n",
       "8  55.9  71.4  192.7  105.8  131  140  5500  17  3086\n",
       "9  52.0  67.9  178.2   99.5  131  160  5500  16  3053"
      ]
     },
     "execution_count": 165,
     "metadata": {},
     "output_type": "execute_result"
    }
   ],
   "source": [
    "# check results: do we have the 9 columns we want? Check the first 10 rows\n",
    "df_sub.head(10)"
   ]
  },
  {
   "cell_type": "code",
   "execution_count": 166,
   "metadata": {},
   "outputs": [
    {
     "data": {
      "text/html": [
       "<div>\n",
       "<style scoped>\n",
       "    .dataframe tbody tr th:only-of-type {\n",
       "        vertical-align: middle;\n",
       "    }\n",
       "\n",
       "    .dataframe tbody tr th {\n",
       "        vertical-align: top;\n",
       "    }\n",
       "\n",
       "    .dataframe thead th {\n",
       "        text-align: right;\n",
       "    }\n",
       "</style>\n",
       "<table border=\"1\" class=\"dataframe\">\n",
       "  <thead>\n",
       "    <tr style=\"text-align: right;\">\n",
       "      <th></th>\n",
       "      <th>height</th>\n",
       "      <th>width</th>\n",
       "      <th>length</th>\n",
       "      <th>wheel-base</th>\n",
       "      <th>engine-size</th>\n",
       "      <th>horsepower</th>\n",
       "      <th>peak-rpm</th>\n",
       "      <th>city-mpg</th>\n",
       "      <th>curb-weight</th>\n",
       "    </tr>\n",
       "  </thead>\n",
       "  <tbody>\n",
       "    <tr>\n",
       "      <th>0</th>\n",
       "      <td>48.8</td>\n",
       "      <td>64.1</td>\n",
       "      <td>168.8</td>\n",
       "      <td>88.6</td>\n",
       "      <td>130</td>\n",
       "      <td>111</td>\n",
       "      <td>5000</td>\n",
       "      <td>21</td>\n",
       "      <td>2548</td>\n",
       "    </tr>\n",
       "    <tr>\n",
       "      <th>1</th>\n",
       "      <td>48.8</td>\n",
       "      <td>64.1</td>\n",
       "      <td>168.8</td>\n",
       "      <td>88.6</td>\n",
       "      <td>130</td>\n",
       "      <td>111</td>\n",
       "      <td>5000</td>\n",
       "      <td>21</td>\n",
       "      <td>2548</td>\n",
       "    </tr>\n",
       "    <tr>\n",
       "      <th>2</th>\n",
       "      <td>52.4</td>\n",
       "      <td>65.5</td>\n",
       "      <td>171.2</td>\n",
       "      <td>94.5</td>\n",
       "      <td>152</td>\n",
       "      <td>154</td>\n",
       "      <td>5000</td>\n",
       "      <td>19</td>\n",
       "      <td>2823</td>\n",
       "    </tr>\n",
       "    <tr>\n",
       "      <th>3</th>\n",
       "      <td>54.3</td>\n",
       "      <td>66.2</td>\n",
       "      <td>176.6</td>\n",
       "      <td>99.8</td>\n",
       "      <td>109</td>\n",
       "      <td>102</td>\n",
       "      <td>5500</td>\n",
       "      <td>24</td>\n",
       "      <td>2337</td>\n",
       "    </tr>\n",
       "    <tr>\n",
       "      <th>4</th>\n",
       "      <td>54.3</td>\n",
       "      <td>66.4</td>\n",
       "      <td>176.6</td>\n",
       "      <td>99.4</td>\n",
       "      <td>136</td>\n",
       "      <td>115</td>\n",
       "      <td>5500</td>\n",
       "      <td>18</td>\n",
       "      <td>2824</td>\n",
       "    </tr>\n",
       "  </tbody>\n",
       "</table>\n",
       "</div>"
      ],
      "text/plain": [
       "   height  width  length  wheel-base  engine-size horsepower peak-rpm  \\\n",
       "0    48.8   64.1   168.8        88.6          130        111     5000   \n",
       "1    48.8   64.1   168.8        88.6          130        111     5000   \n",
       "2    52.4   65.5   171.2        94.5          152        154     5000   \n",
       "3    54.3   66.2   176.6        99.8          109        102     5500   \n",
       "4    54.3   66.4   176.6        99.4          136        115     5500   \n",
       "\n",
       "   city-mpg  curb-weight  \n",
       "0        21         2548  \n",
       "1        21         2548  \n",
       "2        19         2823  \n",
       "3        24         2337  \n",
       "4        18         2824  "
      ]
     },
     "execution_count": 166,
     "metadata": {},
     "output_type": "execute_result"
    }
   ],
   "source": [
    "# add meaningful column names\n",
    "df_sub.columns = ['height', 'width', 'length', 'wheel-base', 'engine-size', 'horsepower', 'peak-rpm', 'city-mpg', 'curb-weight']\n",
    "# sanity check\n",
    "df_sub.head(5)"
   ]
  },
  {
   "cell_type": "code",
   "execution_count": 167,
   "metadata": {},
   "outputs": [],
   "source": [
    "import numpy as np\n",
    "# replace \"?\" values with \"nan\"\n",
    "df_sub.horsepower.replace('?', np.nan, inplace = True)\n",
    "df_sub['peak-rpm'].replace('?', np.nan, inplace = True)"
   ]
  },
  {
   "cell_type": "code",
   "execution_count": 168,
   "metadata": {},
   "outputs": [],
   "source": [
    "# change the data type of these 2 columns\n",
    "df_sub['horsepower'] = df_sub['horsepower'].astype(float)\n",
    "df_sub['peak-rpm'] = df_sub['peak-rpm'].astype(float)"
   ]
  },
  {
   "cell_type": "code",
   "execution_count": 169,
   "metadata": {},
   "outputs": [
    {
     "data": {
      "text/plain": [
       "height         0\n",
       "width          0\n",
       "length         0\n",
       "wheel-base     0\n",
       "engine-size    0\n",
       "horsepower     2\n",
       "peak-rpm       2\n",
       "city-mpg       0\n",
       "curb-weight    0\n",
       "dtype: int64"
      ]
     },
     "execution_count": 169,
     "metadata": {},
     "output_type": "execute_result"
    }
   ],
   "source": [
    "# check the data for null values\n",
    "df_sub.isnull().sum()"
   ]
  },
  {
   "cell_type": "code",
   "execution_count": 170,
   "metadata": {},
   "outputs": [],
   "source": [
    "# drop null values\n",
    "car = df_sub.dropna()"
   ]
  },
  {
   "cell_type": "code",
   "execution_count": 171,
   "metadata": {},
   "outputs": [
    {
     "data": {
      "text/plain": [
       "height         0\n",
       "width          0\n",
       "length         0\n",
       "wheel-base     0\n",
       "engine-size    0\n",
       "horsepower     0\n",
       "peak-rpm       0\n",
       "city-mpg       0\n",
       "curb-weight    0\n",
       "dtype: int64"
      ]
     },
     "execution_count": 171,
     "metadata": {},
     "output_type": "execute_result"
    }
   ],
   "source": [
    "# check the data for null values\n",
    "car.isnull().sum()"
   ]
  },
  {
   "cell_type": "code",
   "execution_count": 172,
   "metadata": {},
   "outputs": [
    {
     "data": {
      "text/plain": [
       "203"
      ]
     },
     "execution_count": 172,
     "metadata": {},
     "output_type": "execute_result"
    }
   ],
   "source": [
    "len(car)"
   ]
  },
  {
   "cell_type": "markdown",
   "metadata": {},
   "source": [
    "## Exploratory Data Analysis (EDA)\n",
    "\n",
    "Summary statistics for each attribute and appropriate graphical analysis for each attributes using Seaborn."
   ]
  },
  {
   "cell_type": "markdown",
   "metadata": {},
   "source": [
    "### Data Summary\n",
    "There are 9 attributes in car dataset:\n",
    "\n",
    "1. height: continuous from 47.8 to 59.8.\n",
    "\n",
    "2. width: continuous from 60.3 to 72.3.\n",
    "\n",
    "3. length: continuous from 141.1 to 208.1.\n",
    "\n",
    "4. wheel-base: continuous from 86.6 120.9.\n",
    "\n",
    "5. engine-size: continuous from 61 to 326.\n",
    "\n",
    "6. horsepower: continuous from 48 to 288.\n",
    "\n",
    "7. peak-rpm: continuous from 4150 to 6600.\n",
    "\n",
    "8. city-mpg: continuous from 13 to 49.\n",
    "\n",
    "9. curb-weight: continuous from 1488 to 4066.\n",
    "\n",
    "The specific type of each data is below:"
   ]
  },
  {
   "cell_type": "code",
   "execution_count": 173,
   "metadata": {},
   "outputs": [
    {
     "name": "stdout",
     "output_type": "stream",
     "text": [
      "height         float64\n",
      "width          float64\n",
      "length         float64\n",
      "wheel-base     float64\n",
      "engine-size      int64\n",
      "horsepower     float64\n",
      "peak-rpm       float64\n",
      "city-mpg         int64\n",
      "curb-weight      int64\n",
      "dtype: object\n"
     ]
    }
   ],
   "source": [
    "print(car.dtypes)"
   ]
  },
  {
   "cell_type": "markdown",
   "metadata": {},
   "source": [
    "As we can see, the data types of \"height\", \"width\", \"length\", \"wheel-base\", \"horsepower\", \"peak-rpm\"are float, and others are int."
   ]
  },
  {
   "cell_type": "markdown",
   "metadata": {},
   "source": [
    "### Preliminary Data Analysis - height\n",
    "\n",
    "Now we gather descriptive statistics on \"height\" and create a histogram and a box plot to display these statistics in visualization so that we can quickly identify the shape of the distribution."
   ]
  },
  {
   "cell_type": "code",
   "execution_count": 174,
   "metadata": {},
   "outputs": [
    {
     "data": {
      "text/plain": [
       "count    203.000000\n",
       "mean      53.733498\n",
       "std        2.442864\n",
       "min       47.800000\n",
       "25%       52.000000\n",
       "50%       54.100000\n",
       "75%       55.500000\n",
       "max       59.800000\n",
       "Name: height, dtype: float64"
      ]
     },
     "execution_count": 174,
     "metadata": {},
     "output_type": "execute_result"
    }
   ],
   "source": [
    "# get descriptive stats for \"height\"\n",
    "car['height'].describe()"
   ]
  },
  {
   "cell_type": "code",
   "execution_count": 175,
   "metadata": {},
   "outputs": [
    {
     "data": {
      "image/png": "[encoded data removed]",
      "text/plain": [
       "<Figure size 432x288 with 1 Axes>"
      ]
     },
     "metadata": {
      "needs_background": "light"
     },
     "output_type": "display_data"
    }
   ],
   "source": [
    "import seaborn as sns\n",
    "import matplotlib.pyplot as plt\n",
    "# define the type of plot you want to appear\n",
    "sns.histplot(car['height'])\n",
    "# give the plot a title\n",
    "plt.title('Histogram of height')\n",
    "# show the histogram\n",
    "plt.show();"
   ]
  },
  {
   "cell_type": "code",
   "execution_count": 176,
   "metadata": {},
   "outputs": [
    {
     "name": "stderr",
     "output_type": "stream",
     "text": [
      "C:\\Users\\asus\\anaconda3\\lib\\site-packages\\seaborn\\_decorators.py:36: FutureWarning: Pass the following variable as a keyword arg: x. From version 0.12, the only valid positional argument will be `data`, and passing other arguments without an explicit keyword will result in an error or misinterpretation.\n",
      "  warnings.warn(\n",
      "C:\\Users\\asus\\anaconda3\\lib\\site-packages\\seaborn\\_core.py:1303: UserWarning: Vertical orientation ignored with only `x` specified.\n",
      "  warnings.warn(single_var_warning.format(\"Vertical\", \"x\"))\n"
     ]
    },
    {
     "data": {
      "image/png": "[encoded data removed]",
      "text/plain": [
       "<Figure size 432x288 with 1 Axes>"
      ]
     },
     "metadata": {
      "needs_background": "light"
     },
     "output_type": "display_data"
    }
   ],
   "source": [
    "# define the type of plot you want to appear\n",
    "sns.boxplot(car['height'], orient = 'v')\n",
    "\n",
    "# give the plot a title\n",
    "plt.title('Boxplot of height')\n",
    "\n",
    "# Here we'll blank out the x-axis label since it isn't really meaningful\n",
    "# for a box plot\n",
    "plt.xlabel(' ')\n",
    "\n",
    "plt.show();"
   ]
  },
  {
   "cell_type": "markdown",
   "metadata": {},
   "source": [
    "We can see from the descriptive statistics that the distribution of \"height\" is skewed right with a mean of 53.72, a minimum of 47.80, a max of 59.80, and a standard deviation of 2.44."
   ]
  },
  {
   "cell_type": "markdown",
   "metadata": {},
   "source": [
    "### Preliminary Data Analysis - width\n",
    "\n",
    "Now we gather descriptive statistics on \"width\" and create a histogram and a box plot to display these statistics in visualization so that we can quickly identify the shape of the distribution."
   ]
  },
  {
   "cell_type": "code",
   "execution_count": 177,
   "metadata": {},
   "outputs": [
    {
     "data": {
      "text/plain": [
       "count    203.000000\n",
       "mean      65.901478\n",
       "std        2.154835\n",
       "min       60.300000\n",
       "25%       64.050000\n",
       "50%       65.500000\n",
       "75%       66.900000\n",
       "max       72.300000\n",
       "Name: width, dtype: float64"
      ]
     },
     "execution_count": 177,
     "metadata": {},
     "output_type": "execute_result"
    }
   ],
   "source": [
    "# get descriptive stats for \"width\"\n",
    "car['width'].describe()"
   ]
  },
  {
   "cell_type": "code",
   "execution_count": 178,
   "metadata": {},
   "outputs": [
    {
     "data": {
      "image/png": "[encoded data removed]",
      "text/plain": [
       "<Figure size 432x288 with 1 Axes>"
      ]
     },
     "metadata": {
      "needs_background": "light"
     },
     "output_type": "display_data"
    }
   ],
   "source": [
    "# define the type of plot you want to appear\n",
    "sns.histplot(car['width'])\n",
    "# give the plot a title\n",
    "plt.title('Histogram of width')\n",
    "# show the histogram\n",
    "plt.show();"
   ]
  },
  {
   "cell_type": "code",
   "execution_count": 179,
   "metadata": {},
   "outputs": [
    {
     "name": "stderr",
     "output_type": "stream",
     "text": [
      "C:\\Users\\asus\\anaconda3\\lib\\site-packages\\seaborn\\_decorators.py:36: FutureWarning: Pass the following variable as a keyword arg: x. From version 0.12, the only valid positional argument will be `data`, and passing other arguments without an explicit keyword will result in an error or misinterpretation.\n",
      "  warnings.warn(\n",
      "C:\\Users\\asus\\anaconda3\\lib\\site-packages\\seaborn\\_core.py:1303: UserWarning: Vertical orientation ignored with only `x` specified.\n",
      "  warnings.warn(single_var_warning.format(\"Vertical\", \"x\"))\n"
     ]
    },
    {
     "data": {
      "image/png": "[encoded data removed]",
      "text/plain": [
       "<Figure size 432x288 with 1 Axes>"
      ]
     },
     "metadata": {
      "needs_background": "light"
     },
     "output_type": "display_data"
    }
   ],
   "source": [
    "# define the type of plot you want to appear\n",
    "sns.boxplot(car['width'], orient = 'v')\n",
    "\n",
    "# give the plot a title\n",
    "plt.title('Boxplot of width')\n",
    "\n",
    "# Here we'll blank out the x-axis label since it isn't really meaningful\n",
    "# for a box plot\n",
    "plt.xlabel(' ')\n",
    "\n",
    "plt.show();"
   ]
  },
  {
   "cell_type": "markdown",
   "metadata": {},
   "source": [
    "We can see from the descriptive statistics that the distribution of \"width\" is skewed right with a mean of 65.91, a minimum of 60.30, a max of 72.30, and a standard deviation of 2.14.Based on this information as well as the histogram and the box plot, there do appear to 4 outliers."
   ]
  },
  {
   "cell_type": "markdown",
   "metadata": {},
   "source": [
    "### Preliminary Data Analysis - length\n",
    "\n",
    "Now we gather descriptive statistics on \"length\" and create a histogram and a box plot to display these statistics in visualization so that we can quickly identify the shape of the distribution."
   ]
  },
  {
   "cell_type": "code",
   "execution_count": 180,
   "metadata": {},
   "outputs": [
    {
     "data": {
      "text/plain": [
       "count    203.000000\n",
       "mean     173.999015\n",
       "std       12.385511\n",
       "min      141.100000\n",
       "25%      166.300000\n",
       "50%      173.200000\n",
       "75%      183.300000\n",
       "max      208.100000\n",
       "Name: length, dtype: float64"
      ]
     },
     "execution_count": 180,
     "metadata": {},
     "output_type": "execute_result"
    }
   ],
   "source": [
    "# get descriptive stats for \"length\"\n",
    "car['length'].describe()"
   ]
  },
  {
   "cell_type": "code",
   "execution_count": 181,
   "metadata": {},
   "outputs": [
    {
     "data": {
      "image/png": "[encoded data removed]",
      "text/plain": [
       "<Figure size 432x288 with 1 Axes>"
      ]
     },
     "metadata": {
      "needs_background": "light"
     },
     "output_type": "display_data"
    }
   ],
   "source": [
    "# define the type of plot you want to appear\n",
    "sns.histplot(car['length'])\n",
    "# give the plot a title\n",
    "plt.title('Histogram of length')\n",
    "# show the histogram\n",
    "plt.show();"
   ]
  },
  {
   "cell_type": "code",
   "execution_count": 182,
   "metadata": {},
   "outputs": [
    {
     "name": "stderr",
     "output_type": "stream",
     "text": [
      "C:\\Users\\asus\\anaconda3\\lib\\site-packages\\seaborn\\_decorators.py:36: FutureWarning: Pass the following variable as a keyword arg: x. From version 0.12, the only valid positional argument will be `data`, and passing other arguments without an explicit keyword will result in an error or misinterpretation.\n",
      "  warnings.warn(\n",
      "C:\\Users\\asus\\anaconda3\\lib\\site-packages\\seaborn\\_core.py:1303: UserWarning: Vertical orientation ignored with only `x` specified.\n",
      "  warnings.warn(single_var_warning.format(\"Vertical\", \"x\"))\n"
     ]
    },
    {
     "data": {
      "image/png": "[encoded data removed]",
      "text/plain": [
       "<Figure size 432x288 with 1 Axes>"
      ]
     },
     "metadata": {
      "needs_background": "light"
     },
     "output_type": "display_data"
    }
   ],
   "source": [
    "# define the type of plot you want to appear\n",
    "sns.boxplot(car['length'], orient = 'v')\n",
    "\n",
    "# give the plot a title\n",
    "plt.title('Boxplot of length')\n",
    "\n",
    "# Here we'll blank out the x-axis label since it isn't really meaningful\n",
    "# for a box plot\n",
    "plt.xlabel(' ')\n",
    "\n",
    "plt.show();"
   ]
  },
  {
   "cell_type": "markdown",
   "metadata": {},
   "source": [
    "We can see from the descriptive statistics that the distribution of \"length\" is skewed right with a mean of 174.05, a minimum of 141.10, a max of 208.10, and a standard deviation of 12.34."
   ]
  },
  {
   "cell_type": "markdown",
   "metadata": {},
   "source": [
    "### Preliminary Data Analysis - wheel-base\n",
    "\n",
    "Now we gather descriptive statistics on \"wheel-base\" and create a histogram and a box plot to display these statistics in visualization so that we can quickly identify the shape of the distribution."
   ]
  },
  {
   "cell_type": "code",
   "execution_count": 183,
   "metadata": {},
   "outputs": [
    {
     "data": {
      "text/plain": [
       "count    203.000000\n",
       "mean      98.782759\n",
       "std        6.045680\n",
       "min       86.600000\n",
       "25%       94.500000\n",
       "50%       97.000000\n",
       "75%      102.400000\n",
       "max      120.900000\n",
       "Name: wheel-base, dtype: float64"
      ]
     },
     "execution_count": 183,
     "metadata": {},
     "output_type": "execute_result"
    }
   ],
   "source": [
    "# get descriptive stats for \"wheel-base\"\n",
    "car['wheel-base'].describe()"
   ]
  },
  {
   "cell_type": "code",
   "execution_count": 184,
   "metadata": {},
   "outputs": [
    {
     "data": {
      "image/png": "[encoded data removed]",
      "text/plain": [
       "<Figure size 432x288 with 1 Axes>"
      ]
     },
     "metadata": {
      "needs_background": "light"
     },
     "output_type": "display_data"
    }
   ],
   "source": [
    "# define the type of plot you want to appear\n",
    "sns.histplot(car['wheel-base'])\n",
    "# give the plot a title\n",
    "plt.title('Histogram of wheel-base')\n",
    "# show the histogram\n",
    "plt.show();"
   ]
  },
  {
   "cell_type": "code",
   "execution_count": 185,
   "metadata": {},
   "outputs": [
    {
     "name": "stderr",
     "output_type": "stream",
     "text": [
      "C:\\Users\\asus\\anaconda3\\lib\\site-packages\\seaborn\\_decorators.py:36: FutureWarning: Pass the following variable as a keyword arg: x. From version 0.12, the only valid positional argument will be `data`, and passing other arguments without an explicit keyword will result in an error or misinterpretation.\n",
      "  warnings.warn(\n",
      "C:\\Users\\asus\\anaconda3\\lib\\site-packages\\seaborn\\_core.py:1303: UserWarning: Vertical orientation ignored with only `x` specified.\n",
      "  warnings.warn(single_var_warning.format(\"Vertical\", \"x\"))\n"
     ]
    },
    {
     "data": {
      "image/png": "[encoded data removed]",
      "text/plain": [
       "<Figure size 432x288 with 1 Axes>"
      ]
     },
     "metadata": {
      "needs_background": "light"
     },
     "output_type": "display_data"
    }
   ],
   "source": [
    "# define the type of plot you want to appear\n",
    "sns.boxplot(car['wheel-base'], orient = 'v')\n",
    "\n",
    "# give the plot a title\n",
    "plt.title('Boxplot of wheel-base')\n",
    "\n",
    "# Here we'll blank out the x-axis label since it isn't really meaningful\n",
    "# for a box plot\n",
    "plt.xlabel(' ')\n",
    "\n",
    "plt.show();"
   ]
  },
  {
   "cell_type": "markdown",
   "metadata": {},
   "source": [
    "We can see from the descriptive statistics that the distribution of \"wheel-base\" is skewed right with a mean of 98.76, a minimum of 86.60, a max of 120.90, and a standard deviation of 6.02.Based on this information as well as the histogram and the box plot, there do appear to 2 outliers."
   ]
  },
  {
   "cell_type": "markdown",
   "metadata": {},
   "source": [
    "### Preliminary Data Analysis - engine-size\n",
    "\n",
    "Now we gather descriptive statistics on \"engine-size\" and create a histogram and a box plot to display these statistics in visualization so that we can quickly identify the shape of the distribution."
   ]
  },
  {
   "cell_type": "code",
   "execution_count": 186,
   "metadata": {},
   "outputs": [
    {
     "data": {
      "text/plain": [
       "count    203.000000\n",
       "mean     126.857143\n",
       "std       41.845239\n",
       "min       61.000000\n",
       "25%       97.000000\n",
       "50%      119.000000\n",
       "75%      143.000000\n",
       "max      326.000000\n",
       "Name: engine-size, dtype: float64"
      ]
     },
     "execution_count": 186,
     "metadata": {},
     "output_type": "execute_result"
    }
   ],
   "source": [
    "# get descriptive stats for \"engine-size\"\n",
    "car['engine-size'].describe()"
   ]
  },
  {
   "cell_type": "code",
   "execution_count": 187,
   "metadata": {},
   "outputs": [
    {
     "data": {
      "image/png": "[encoded data removed]",
      "text/plain": [
       "<Figure size 432x288 with 1 Axes>"
      ]
     },
     "metadata": {
      "needs_background": "light"
     },
     "output_type": "display_data"
    }
   ],
   "source": [
    "# define the type of plot you want to appear\n",
    "sns.histplot(car['engine-size'])\n",
    "# give the plot a title\n",
    "plt.title('Histogram of engine-size')\n",
    "# show the histogram\n",
    "plt.show();"
   ]
  },
  {
   "cell_type": "code",
   "execution_count": 188,
   "metadata": {},
   "outputs": [
    {
     "name": "stderr",
     "output_type": "stream",
     "text": [
      "C:\\Users\\asus\\anaconda3\\lib\\site-packages\\seaborn\\_decorators.py:36: FutureWarning: Pass the following variable as a keyword arg: x. From version 0.12, the only valid positional argument will be `data`, and passing other arguments without an explicit keyword will result in an error or misinterpretation.\n",
      "  warnings.warn(\n",
      "C:\\Users\\asus\\anaconda3\\lib\\site-packages\\seaborn\\_core.py:1303: UserWarning: Vertical orientation ignored with only `x` specified.\n",
      "  warnings.warn(single_var_warning.format(\"Vertical\", \"x\"))\n"
     ]
    },
    {
     "data": {
      "image/png": "[encoded data removed]",
      "text/plain": [
       "<Figure size 432x288 with 1 Axes>"
      ]
     },
     "metadata": {
      "needs_background": "light"
     },
     "output_type": "display_data"
    }
   ],
   "source": [
    "# define the type of plot you want to appear\n",
    "sns.boxplot(car['engine-size'], orient = 'v')\n",
    "\n",
    "# give the plot a title\n",
    "plt.title('Boxplot of engine-size')\n",
    "\n",
    "# Here we'll blank out the x-axis label since it isn't really meaningful\n",
    "# for a box plot\n",
    "plt.xlabel(' ')\n",
    "\n",
    "plt.show();"
   ]
  },
  {
   "cell_type": "markdown",
   "metadata": {},
   "source": [
    "We can see from the descriptive statistics that the distribution of \"engine-size\" is skewed right with a mean of 126.91, a minimum of 61, a max of 326, and a standard deviation of 41.64.Based on this information as well as the histogram and the box plot, there do appear to 6 outliers."
   ]
  },
  {
   "cell_type": "markdown",
   "metadata": {},
   "source": [
    "### Preliminary Data Analysis - horsepower\n",
    "\n",
    "Now we gather descriptive statistics on \"horsepower\" and create a histogram and a box plot to display these statistics in visualization so that we can quickly identify the shape of the distribution."
   ]
  },
  {
   "cell_type": "code",
   "execution_count": 189,
   "metadata": {},
   "outputs": [
    {
     "data": {
      "text/plain": [
       "count    203.000000\n",
       "mean     104.256158\n",
       "std       39.714369\n",
       "min       48.000000\n",
       "25%       70.000000\n",
       "50%       95.000000\n",
       "75%      116.000000\n",
       "max      288.000000\n",
       "Name: horsepower, dtype: float64"
      ]
     },
     "execution_count": 189,
     "metadata": {},
     "output_type": "execute_result"
    }
   ],
   "source": [
    "# get descriptive stats for \"horsepower\"\n",
    "car['horsepower'].describe()"
   ]
  },
  {
   "cell_type": "code",
   "execution_count": 190,
   "metadata": {},
   "outputs": [
    {
     "data": {
      "image/png": "[encoded data removed]",
      "text/plain": [
       "<Figure size 432x288 with 1 Axes>"
      ]
     },
     "metadata": {
      "needs_background": "light"
     },
     "output_type": "display_data"
    }
   ],
   "source": [
    "# define the type of plot you want to appear\n",
    "sns.histplot(car['horsepower'])\n",
    "# give the plot a title\n",
    "plt.title('Histogram of horsepower')\n",
    "# show the histogram\n",
    "plt.show();"
   ]
  },
  {
   "cell_type": "code",
   "execution_count": 191,
   "metadata": {},
   "outputs": [
    {
     "name": "stderr",
     "output_type": "stream",
     "text": [
      "C:\\Users\\asus\\anaconda3\\lib\\site-packages\\seaborn\\_decorators.py:36: FutureWarning: Pass the following variable as a keyword arg: x. From version 0.12, the only valid positional argument will be `data`, and passing other arguments without an explicit keyword will result in an error or misinterpretation.\n",
      "  warnings.warn(\n",
      "C:\\Users\\asus\\anaconda3\\lib\\site-packages\\seaborn\\_core.py:1303: UserWarning: Vertical orientation ignored with only `x` specified.\n",
      "  warnings.warn(single_var_warning.format(\"Vertical\", \"x\"))\n"
     ]
    },
    {
     "data": {
      "image/png": "[encoded data removed]",
      "text/plain": [
       "<Figure size 432x288 with 1 Axes>"
      ]
     },
     "metadata": {
      "needs_background": "light"
     },
     "output_type": "display_data"
    }
   ],
   "source": [
    "# define the type of plot you want to appear\n",
    "sns.boxplot(car['horsepower'], orient = 'v')\n",
    "\n",
    "# give the plot a title\n",
    "plt.title('horsepower')\n",
    "\n",
    "# Here we'll blank out the x-axis label since it isn't really meaningful\n",
    "# for a box plot\n",
    "plt.xlabel(' ')\n",
    "\n",
    "plt.show();"
   ]
  },
  {
   "cell_type": "markdown",
   "metadata": {},
   "source": [
    "We can see from the descriptive statistics that the distribution of \"horsepower\" is skewed right with a mean of 104.26, a minimum of 48, a max of 288, and a standard deviation of 39.71.Based on this information as well as the histogram and the box plot, there do appear to 4 outliers."
   ]
  },
  {
   "cell_type": "markdown",
   "metadata": {},
   "source": [
    "### Preliminary Data Analysis - peak-rpm\n",
    "\n",
    "Now we gather descriptive statistics on \"peak-rpm\" and create a histogram and a box plot to display these statistics in visualization so that we can quickly identify the shape of the distribution."
   ]
  },
  {
   "cell_type": "code",
   "execution_count": 192,
   "metadata": {},
   "outputs": [
    {
     "data": {
      "text/plain": [
       "count     203.000000\n",
       "mean     5125.369458\n",
       "std       479.334560\n",
       "min      4150.000000\n",
       "25%      4800.000000\n",
       "50%      5200.000000\n",
       "75%      5500.000000\n",
       "max      6600.000000\n",
       "Name: peak-rpm, dtype: float64"
      ]
     },
     "execution_count": 192,
     "metadata": {},
     "output_type": "execute_result"
    }
   ],
   "source": [
    "# get descriptive stats for \"peak-rpm\"\n",
    "car['peak-rpm'].describe()"
   ]
  },
  {
   "cell_type": "code",
   "execution_count": 193,
   "metadata": {},
   "outputs": [
    {
     "data": {
      "image/png": "[encoded data removed]",
      "text/plain": [
       "<Figure size 432x288 with 1 Axes>"
      ]
     },
     "metadata": {
      "needs_background": "light"
     },
     "output_type": "display_data"
    }
   ],
   "source": [
    "# define the type of plot you want to appear\n",
    "sns.histplot(car['peak-rpm'])\n",
    "# give the plot a title\n",
    "plt.title('Histogram of peak-rpm')\n",
    "# show the histogram\n",
    "plt.show();"
   ]
  },
  {
   "cell_type": "code",
   "execution_count": 194,
   "metadata": {},
   "outputs": [
    {
     "name": "stderr",
     "output_type": "stream",
     "text": [
      "C:\\Users\\asus\\anaconda3\\lib\\site-packages\\seaborn\\_decorators.py:36: FutureWarning: Pass the following variable as a keyword arg: x. From version 0.12, the only valid positional argument will be `data`, and passing other arguments without an explicit keyword will result in an error or misinterpretation.\n",
      "  warnings.warn(\n",
      "C:\\Users\\asus\\anaconda3\\lib\\site-packages\\seaborn\\_core.py:1303: UserWarning: Vertical orientation ignored with only `x` specified.\n",
      "  warnings.warn(single_var_warning.format(\"Vertical\", \"x\"))\n"
     ]
    },
    {
     "data": {
      "image/png": "[encoded data removed]",
      "text/plain": [
       "<Figure size 432x288 with 1 Axes>"
      ]
     },
     "metadata": {
      "needs_background": "light"
     },
     "output_type": "display_data"
    }
   ],
   "source": [
    "# define the type of plot you want to appear\n",
    "sns.boxplot(car['peak-rpm'], orient = 'v')\n",
    "\n",
    "# give the plot a title\n",
    "plt.title('peak-rpm')\n",
    "\n",
    "# Here we'll blank out the x-axis label since it isn't really meaningful\n",
    "# for a box plot\n",
    "plt.xlabel(' ')\n",
    "\n",
    "plt.show();"
   ]
  },
  {
   "cell_type": "markdown",
   "metadata": {},
   "source": [
    "We can see from the descriptive statistics that the distribution of \"peak-rpm\" is skewed right with a mean of 5125.37, a minimum of 4150, a max of 6600, and a standard deviation of 479.33.Based on this information as well as the histogram and the box plot, there do appear to 1 outlier."
   ]
  },
  {
   "cell_type": "markdown",
   "metadata": {},
   "source": [
    "### Preliminary Data Analysis - city-mpg\n",
    "\n",
    "Now we gather descriptive statistics on \"city-mpg\" and create a histogram and a box plot to display these statistics in visualization so that we can quickly identify the shape of the distribution."
   ]
  },
  {
   "cell_type": "code",
   "execution_count": 195,
   "metadata": {},
   "outputs": [
    {
     "data": {
      "text/plain": [
       "count    203.000000\n",
       "mean      25.241379\n",
       "std        6.570702\n",
       "min       13.000000\n",
       "25%       19.000000\n",
       "50%       24.000000\n",
       "75%       30.000000\n",
       "max       49.000000\n",
       "Name: city-mpg, dtype: float64"
      ]
     },
     "execution_count": 195,
     "metadata": {},
     "output_type": "execute_result"
    }
   ],
   "source": [
    "# get descriptive stats for \"city-mpg\"\n",
    "car['city-mpg'].describe()"
   ]
  },
  {
   "cell_type": "code",
   "execution_count": 196,
   "metadata": {},
   "outputs": [
    {
     "data": {
      "image/png": "[encoded data removed]",
      "text/plain": [
       "<Figure size 432x288 with 1 Axes>"
      ]
     },
     "metadata": {
      "needs_background": "light"
     },
     "output_type": "display_data"
    }
   ],
   "source": [
    "# define the type of plot you want to appear\n",
    "sns.histplot(car['city-mpg'])\n",
    "# give the plot a title\n",
    "plt.title('Histogram of city-mpg')\n",
    "# show the histogram\n",
    "plt.show();"
   ]
  },
  {
   "cell_type": "code",
   "execution_count": 197,
   "metadata": {},
   "outputs": [
    {
     "name": "stderr",
     "output_type": "stream",
     "text": [
      "C:\\Users\\asus\\anaconda3\\lib\\site-packages\\seaborn\\_decorators.py:36: FutureWarning: Pass the following variable as a keyword arg: x. From version 0.12, the only valid positional argument will be `data`, and passing other arguments without an explicit keyword will result in an error or misinterpretation.\n",
      "  warnings.warn(\n",
      "C:\\Users\\asus\\anaconda3\\lib\\site-packages\\seaborn\\_core.py:1303: UserWarning: Vertical orientation ignored with only `x` specified.\n",
      "  warnings.warn(single_var_warning.format(\"Vertical\", \"x\"))\n"
     ]
    },
    {
     "data": {
      "image/png": "[encoded data removed]",
      "text/plain": [
       "<Figure size 432x288 with 1 Axes>"
      ]
     },
     "metadata": {
      "needs_background": "light"
     },
     "output_type": "display_data"
    }
   ],
   "source": [
    "# define the type of plot you want to appear\n",
    "sns.boxplot(car['city-mpg'], orient = 'v')\n",
    "\n",
    "# give the plot a title\n",
    "plt.title('city-mpg')\n",
    "\n",
    "# Here we'll blank out the x-axis label since it isn't really meaningful\n",
    "# for a box plot\n",
    "plt.xlabel(' ')\n",
    "\n",
    "plt.show();"
   ]
  },
  {
   "cell_type": "markdown",
   "metadata": {},
   "source": [
    "We can see from the descriptive statistics that the distribution of \"city-mpg\" is skewed right with a mean of 25.24, a minimum of 13, a max of 49, and a standard deviation of 6.57.Based on this information as well as the histogram and the box plot, there do appear to 2 outliers."
   ]
  },
  {
   "cell_type": "markdown",
   "metadata": {},
   "source": [
    "### Preliminary Data Analysis - curb-weight\n",
    "\n",
    "Now we gather descriptive statistics on \"curb-weight\" and create a histogram and a box plot to display these statistics in visualization so that we can quickly identify the shape of the distribution."
   ]
  },
  {
   "cell_type": "code",
   "execution_count": 198,
   "metadata": {},
   "outputs": [
    {
     "data": {
      "text/plain": [
       "count     203.000000\n",
       "mean     2555.921182\n",
       "std       523.205555\n",
       "min      1488.000000\n",
       "25%      2145.000000\n",
       "50%      2414.000000\n",
       "75%      2943.500000\n",
       "max      4066.000000\n",
       "Name: curb-weight, dtype: float64"
      ]
     },
     "execution_count": 198,
     "metadata": {},
     "output_type": "execute_result"
    }
   ],
   "source": [
    "# get descriptive stats for \"curb-weight\"\n",
    "car['curb-weight'].describe()"
   ]
  },
  {
   "cell_type": "code",
   "execution_count": 199,
   "metadata": {},
   "outputs": [
    {
     "data": {
      "image/png": "[encoded data removed]",
      "text/plain": [
       "<Figure size 432x288 with 1 Axes>"
      ]
     },
     "metadata": {
      "needs_background": "light"
     },
     "output_type": "display_data"
    }
   ],
   "source": [
    "# define the type of plot you want to appear\n",
    "sns.histplot(car['curb-weight'])\n",
    "# give the plot a title\n",
    "plt.title('Histogram of curb-weight')\n",
    "# show the histogram\n",
    "plt.show();"
   ]
  },
  {
   "cell_type": "code",
   "execution_count": 200,
   "metadata": {},
   "outputs": [
    {
     "name": "stderr",
     "output_type": "stream",
     "text": [
      "C:\\Users\\asus\\anaconda3\\lib\\site-packages\\seaborn\\_decorators.py:36: FutureWarning: Pass the following variable as a keyword arg: x. From version 0.12, the only valid positional argument will be `data`, and passing other arguments without an explicit keyword will result in an error or misinterpretation.\n",
      "  warnings.warn(\n",
      "C:\\Users\\asus\\anaconda3\\lib\\site-packages\\seaborn\\_core.py:1303: UserWarning: Vertical orientation ignored with only `x` specified.\n",
      "  warnings.warn(single_var_warning.format(\"Vertical\", \"x\"))\n"
     ]
    },
    {
     "data": {
      "image/png": "[encoded data removed]",
      "text/plain": [
       "<Figure size 432x288 with 1 Axes>"
      ]
     },
     "metadata": {
      "needs_background": "light"
     },
     "output_type": "display_data"
    }
   ],
   "source": [
    "# define the type of plot you want to appear\n",
    "sns.boxplot(car['curb-weight'], orient = 'v')\n",
    "\n",
    "# give the plot a title\n",
    "plt.title('curb-weight')\n",
    "\n",
    "# Here we'll blank out the x-axis label since it isn't really meaningful\n",
    "# for a box plot\n",
    "plt.xlabel(' ')\n",
    "\n",
    "plt.show();"
   ]
  },
  {
   "cell_type": "markdown",
   "metadata": {},
   "source": [
    "We can see from the descriptive statistics that the distribution of \"curb-weight\" is skewed right with a mean of 2555.92, a minimum of 1488, a max of 4066, and a standard deviation of 523.21."
   ]
  },
  {
   "cell_type": "markdown",
   "metadata": {},
   "source": [
    "### Data Exploration"
   ]
  },
  {
   "cell_type": "code",
   "execution_count": 201,
   "metadata": {},
   "outputs": [
    {
     "data": {
      "image/png": "[encoded data removed]",
      "text/plain": [
       "<Figure size 432x288 with 1 Axes>"
      ]
     },
     "metadata": {
      "needs_background": "light"
     },
     "output_type": "display_data"
    }
   ],
   "source": [
    "# scatterplot of height vs. curb-weight\n",
    "sns.scatterplot(x = 'height', y = 'curb-weight', data = car);"
   ]
  },
  {
   "cell_type": "markdown",
   "metadata": {},
   "source": [
    "From this plot, we can see that there is no obvious linear relationship between height vs. curb-weight."
   ]
  },
  {
   "cell_type": "code",
   "execution_count": 202,
   "metadata": {},
   "outputs": [
    {
     "data": {
      "image/png": "[encoded data removed]",
      "text/plain": [
       "<Figure size 432x288 with 1 Axes>"
      ]
     },
     "metadata": {
      "needs_background": "light"
     },
     "output_type": "display_data"
    }
   ],
   "source": [
    "# scatterplot of width vs. curb-weight\n",
    "sns.scatterplot(x = 'width', y = 'curb-weight', data = car);"
   ]
  },
  {
   "cell_type": "code",
   "execution_count": 203,
   "metadata": {},
   "outputs": [
    {
     "data": {
      "image/png": "[encoded data removed]",
      "text/plain": [
       "<Figure size 360x360 with 1 Axes>"
      ]
     },
     "metadata": {
      "needs_background": "light"
     },
     "output_type": "display_data"
    }
   ],
   "source": [
    "# fit a linear model to the scatter plot\n",
    "sns.lmplot(x = 'width', y = 'curb-weight', data = car);"
   ]
  },
  {
   "cell_type": "markdown",
   "metadata": {},
   "source": [
    "From these 2 plots, we can see that there is an obvious linear relationship between width vs. curb-weight."
   ]
  },
  {
   "cell_type": "code",
   "execution_count": 204,
   "metadata": {},
   "outputs": [
    {
     "data": {
      "image/png": "[encoded data removed]",
      "text/plain": [
       "<Figure size 432x288 with 1 Axes>"
      ]
     },
     "metadata": {
      "needs_background": "light"
     },
     "output_type": "display_data"
    }
   ],
   "source": [
    "# scatterplot of length vs. curb-weight\n",
    "sns.scatterplot(x = 'length', y = 'curb-weight', data = car);"
   ]
  },
  {
   "cell_type": "code",
   "execution_count": 205,
   "metadata": {},
   "outputs": [
    {
     "data": {
      "image/png": "[encoded data removed]",
      "text/plain": [
       "<Figure size 360x360 with 1 Axes>"
      ]
     },
     "metadata": {
      "needs_background": "light"
     },
     "output_type": "display_data"
    }
   ],
   "source": [
    "# fit a linear model to the scatter plot\n",
    "sns.lmplot(x = 'length', y = 'curb-weight', data = car);"
   ]
  },
  {
   "cell_type": "markdown",
   "metadata": {},
   "source": [
    "From these 2 plots, we can see that there is an obvious linear relationship between length vs. curb-weight."
   ]
  },
  {
   "cell_type": "code",
   "execution_count": 206,
   "metadata": {},
   "outputs": [
    {
     "data": {
      "image/png": "[encoded data removed]",
      "text/plain": [
       "<Figure size 432x288 with 1 Axes>"
      ]
     },
     "metadata": {
      "needs_background": "light"
     },
     "output_type": "display_data"
    }
   ],
   "source": [
    "# scatterplot of wheel-base vs. curb-weight\n",
    "sns.scatterplot(x = 'wheel-base', y = 'curb-weight', data = car);"
   ]
  },
  {
   "cell_type": "code",
   "execution_count": 207,
   "metadata": {},
   "outputs": [
    {
     "data": {
      "image/png": "[encoded data removed]",
      "text/plain": [
       "<Figure size 360x360 with 1 Axes>"
      ]
     },
     "metadata": {
      "needs_background": "light"
     },
     "output_type": "display_data"
    }
   ],
   "source": [
    "# fit a linear model to the scatter plot\n",
    "sns.lmplot(x = 'wheel-base', y = 'curb-weight', data = car);"
   ]
  },
  {
   "cell_type": "markdown",
   "metadata": {},
   "source": [
    "From these 2 plots, we can see that there is an obvious linear relationship between wheel_base vs. curb-weight."
   ]
  },
  {
   "cell_type": "code",
   "execution_count": 208,
   "metadata": {},
   "outputs": [
    {
     "data": {
      "image/png": "[encoded data removed]",
      "text/plain": [
       "<Figure size 432x288 with 1 Axes>"
      ]
     },
     "metadata": {
      "needs_background": "light"
     },
     "output_type": "display_data"
    }
   ],
   "source": [
    "# scatterplot of engine-size vs. curb-weight\n",
    "sns.scatterplot(x = 'engine-size', y = 'curb-weight', data = car);"
   ]
  },
  {
   "cell_type": "code",
   "execution_count": 209,
   "metadata": {},
   "outputs": [
    {
     "data": {
      "image/png": "[encoded data removed]",
      "text/plain": [
       "<Figure size 360x360 with 1 Axes>"
      ]
     },
     "metadata": {
      "needs_background": "light"
     },
     "output_type": "display_data"
    }
   ],
   "source": [
    "# fit a linear model to the scatter plot\n",
    "sns.lmplot(x = 'engine-size', y = 'curb-weight', data = car);"
   ]
  },
  {
   "cell_type": "markdown",
   "metadata": {},
   "source": [
    "From these 2 plots, we can see that there is an obvious linear relationship between engine-size vs. curb-weight."
   ]
  },
  {
   "cell_type": "code",
   "execution_count": 210,
   "metadata": {},
   "outputs": [
    {
     "data": {
      "image/png": "[encoded data removed]",
      "text/plain": [
       "<Figure size 432x288 with 1 Axes>"
      ]
     },
     "metadata": {
      "needs_background": "light"
     },
     "output_type": "display_data"
    }
   ],
   "source": [
    "# scatterplot of horsepower vs. curb-weight\n",
    "sns.scatterplot(x = 'horsepower', y = 'curb-weight', data = car);"
   ]
  },
  {
   "cell_type": "code",
   "execution_count": 211,
   "metadata": {},
   "outputs": [
    {
     "data": {
      "image/png": "[encoded data removed]",
      "text/plain": [
       "<Figure size 360x360 with 1 Axes>"
      ]
     },
     "metadata": {
      "needs_background": "light"
     },
     "output_type": "display_data"
    }
   ],
   "source": [
    "# fit a linear model to the scatter plot\n",
    "sns.lmplot(x = 'horsepower', y = 'curb-weight', data = car);"
   ]
  },
  {
   "cell_type": "markdown",
   "metadata": {},
   "source": [
    "From these 2 plots, we can see that there is an obvious linear relationship between horsepower vs. curb-weight."
   ]
  },
  {
   "cell_type": "code",
   "execution_count": 212,
   "metadata": {},
   "outputs": [
    {
     "data": {
      "image/png": "[encoded data removed]",
      "text/plain": [
       "<Figure size 432x288 with 1 Axes>"
      ]
     },
     "metadata": {
      "needs_background": "light"
     },
     "output_type": "display_data"
    }
   ],
   "source": [
    "# scatterplot of peak-rpm vs. curb-weight\n",
    "sns.scatterplot(x = 'peak-rpm', y = 'curb-weight', data = car);"
   ]
  },
  {
   "cell_type": "markdown",
   "metadata": {},
   "source": [
    "From this plot, we can see that there is no obvious linear relationship between peak-rpm vs. curb-weight."
   ]
  },
  {
   "cell_type": "code",
   "execution_count": 213,
   "metadata": {},
   "outputs": [
    {
     "data": {
      "image/png": "[encoded data removed]",
      "text/plain": [
       "<Figure size 432x288 with 1 Axes>"
      ]
     },
     "metadata": {
      "needs_background": "light"
     },
     "output_type": "display_data"
    }
   ],
   "source": [
    "# scatterplot of city-mpg vs. curb-weight\n",
    "sns.scatterplot(x = 'city-mpg', y = 'curb-weight', data = car);"
   ]
  },
  {
   "cell_type": "markdown",
   "metadata": {},
   "source": [
    "From this plot, we can see that there is no obvious linear relationship between city-mpg vs. curb-weight."
   ]
  },
  {
   "cell_type": "markdown",
   "metadata": {},
   "source": [
    "## Regression Model Construction & Evaluation"
   ]
  },
  {
   "cell_type": "markdown",
   "metadata": {},
   "source": [
    "### Data splitting"
   ]
  },
  {
   "cell_type": "code",
   "execution_count": 214,
   "metadata": {},
   "outputs": [],
   "source": [
    "# load the train_test_split function from the sklearn.model_selection module\n",
    "from sklearn.model_selection import train_test_split"
   ]
  },
  {
   "cell_type": "code",
   "execution_count": 215,
   "metadata": {},
   "outputs": [],
   "source": [
    "# move the response variable to a separate variable\n",
    "y = car['curb-weight']"
   ]
  },
  {
   "cell_type": "code",
   "execution_count": 216,
   "metadata": {},
   "outputs": [
    {
     "data": {
      "text/plain": [
       "0    2548\n",
       "1    2548\n",
       "2    2823\n",
       "3    2337\n",
       "4    2824\n",
       "Name: curb-weight, dtype: int64"
      ]
     },
     "execution_count": 216,
     "metadata": {},
     "output_type": "execute_result"
    }
   ],
   "source": [
    "# check results\n",
    "y.head()"
   ]
  },
  {
   "cell_type": "code",
   "execution_count": 217,
   "metadata": {},
   "outputs": [],
   "source": [
    "# If you want to preserve the original dataframe in its entirety, make a copy of the original dataframe \n",
    "# so that the original is preserved\n",
    "X = car.copy()"
   ]
  },
  {
   "cell_type": "code",
   "execution_count": 218,
   "metadata": {},
   "outputs": [],
   "source": [
    "# now drop the \"curb-weight\" column from 'X' so that the response variable is removed from the explanatory variables\n",
    "X.drop('curb-weight', axis=1, inplace=True)"
   ]
  },
  {
   "cell_type": "code",
   "execution_count": 219,
   "metadata": {},
   "outputs": [
    {
     "data": {
      "text/html": [
       "<div>\n",
       "<style scoped>\n",
       "    .dataframe tbody tr th:only-of-type {\n",
       "        vertical-align: middle;\n",
       "    }\n",
       "\n",
       "    .dataframe tbody tr th {\n",
       "        vertical-align: top;\n",
       "    }\n",
       "\n",
       "    .dataframe thead th {\n",
       "        text-align: right;\n",
       "    }\n",
       "</style>\n",
       "<table border=\"1\" class=\"dataframe\">\n",
       "  <thead>\n",
       "    <tr style=\"text-align: right;\">\n",
       "      <th></th>\n",
       "      <th>height</th>\n",
       "      <th>width</th>\n",
       "      <th>length</th>\n",
       "      <th>wheel-base</th>\n",
       "      <th>engine-size</th>\n",
       "      <th>horsepower</th>\n",
       "      <th>peak-rpm</th>\n",
       "      <th>city-mpg</th>\n",
       "    </tr>\n",
       "  </thead>\n",
       "  <tbody>\n",
       "    <tr>\n",
       "      <th>0</th>\n",
       "      <td>48.8</td>\n",
       "      <td>64.1</td>\n",
       "      <td>168.8</td>\n",
       "      <td>88.6</td>\n",
       "      <td>130</td>\n",
       "      <td>111.0</td>\n",
       "      <td>5000.0</td>\n",
       "      <td>21</td>\n",
       "    </tr>\n",
       "    <tr>\n",
       "      <th>1</th>\n",
       "      <td>48.8</td>\n",
       "      <td>64.1</td>\n",
       "      <td>168.8</td>\n",
       "      <td>88.6</td>\n",
       "      <td>130</td>\n",
       "      <td>111.0</td>\n",
       "      <td>5000.0</td>\n",
       "      <td>21</td>\n",
       "    </tr>\n",
       "    <tr>\n",
       "      <th>2</th>\n",
       "      <td>52.4</td>\n",
       "      <td>65.5</td>\n",
       "      <td>171.2</td>\n",
       "      <td>94.5</td>\n",
       "      <td>152</td>\n",
       "      <td>154.0</td>\n",
       "      <td>5000.0</td>\n",
       "      <td>19</td>\n",
       "    </tr>\n",
       "    <tr>\n",
       "      <th>3</th>\n",
       "      <td>54.3</td>\n",
       "      <td>66.2</td>\n",
       "      <td>176.6</td>\n",
       "      <td>99.8</td>\n",
       "      <td>109</td>\n",
       "      <td>102.0</td>\n",
       "      <td>5500.0</td>\n",
       "      <td>24</td>\n",
       "    </tr>\n",
       "    <tr>\n",
       "      <th>4</th>\n",
       "      <td>54.3</td>\n",
       "      <td>66.4</td>\n",
       "      <td>176.6</td>\n",
       "      <td>99.4</td>\n",
       "      <td>136</td>\n",
       "      <td>115.0</td>\n",
       "      <td>5500.0</td>\n",
       "      <td>18</td>\n",
       "    </tr>\n",
       "  </tbody>\n",
       "</table>\n",
       "</div>"
      ],
      "text/plain": [
       "   height  width  length  wheel-base  engine-size  horsepower  peak-rpm  \\\n",
       "0    48.8   64.1   168.8        88.6          130       111.0    5000.0   \n",
       "1    48.8   64.1   168.8        88.6          130       111.0    5000.0   \n",
       "2    52.4   65.5   171.2        94.5          152       154.0    5000.0   \n",
       "3    54.3   66.2   176.6        99.8          109       102.0    5500.0   \n",
       "4    54.3   66.4   176.6        99.4          136       115.0    5500.0   \n",
       "\n",
       "   city-mpg  \n",
       "0        21  \n",
       "1        21  \n",
       "2        19  \n",
       "3        24  \n",
       "4        18  "
      ]
     },
     "execution_count": 219,
     "metadata": {},
     "output_type": "execute_result"
    }
   ],
   "source": [
    "# The \"curb-weight\" column has been removed from the data set\n",
    "X.head()"
   ]
  },
  {
   "cell_type": "code",
   "execution_count": 220,
   "metadata": {},
   "outputs": [],
   "source": [
    "# Now split the data into training and testing subsets. \n",
    "# We'll set aside 30% of the data for testing purposes; Remember to make sure you specify a value for the inital random_state\n",
    "# if you want to have the ability to reproduce the exact same training + testing subsets repeatedly\n",
    "X_train, X_test, y_train, y_test = train_test_split(X, y, test_size=0.3, random_state=12)"
   ]
  },
  {
   "cell_type": "code",
   "execution_count": 221,
   "metadata": {},
   "outputs": [
    {
     "data": {
      "text/plain": [
       "142"
      ]
     },
     "execution_count": 221,
     "metadata": {},
     "output_type": "execute_result"
    }
   ],
   "source": [
    "# Let's check the results\n",
    "len(X_train)"
   ]
  },
  {
   "cell_type": "code",
   "execution_count": 222,
   "metadata": {},
   "outputs": [
    {
     "data": {
      "text/plain": [
       "61"
      ]
     },
     "execution_count": 222,
     "metadata": {},
     "output_type": "execute_result"
    }
   ],
   "source": [
    "len(X_test)"
   ]
  },
  {
   "cell_type": "code",
   "execution_count": 223,
   "metadata": {},
   "outputs": [
    {
     "data": {
      "text/plain": [
       "204    3062\n",
       "190    2221\n",
       "23     2128\n",
       "186    2275\n",
       "11     2395\n",
       "Name: curb-weight, dtype: int64"
      ]
     },
     "execution_count": 223,
     "metadata": {},
     "output_type": "execute_result"
    }
   ],
   "source": [
    "# Let's check the row indices of the new objects to see whether they match\n",
    "y_test.head()"
   ]
  },
  {
   "cell_type": "code",
   "execution_count": 224,
   "metadata": {},
   "outputs": [
    {
     "data": {
      "text/html": [
       "<div>\n",
       "<style scoped>\n",
       "    .dataframe tbody tr th:only-of-type {\n",
       "        vertical-align: middle;\n",
       "    }\n",
       "\n",
       "    .dataframe tbody tr th {\n",
       "        vertical-align: top;\n",
       "    }\n",
       "\n",
       "    .dataframe thead th {\n",
       "        text-align: right;\n",
       "    }\n",
       "</style>\n",
       "<table border=\"1\" class=\"dataframe\">\n",
       "  <thead>\n",
       "    <tr style=\"text-align: right;\">\n",
       "      <th></th>\n",
       "      <th>height</th>\n",
       "      <th>width</th>\n",
       "      <th>length</th>\n",
       "      <th>wheel-base</th>\n",
       "      <th>engine-size</th>\n",
       "      <th>horsepower</th>\n",
       "      <th>peak-rpm</th>\n",
       "      <th>city-mpg</th>\n",
       "    </tr>\n",
       "  </thead>\n",
       "  <tbody>\n",
       "    <tr>\n",
       "      <th>204</th>\n",
       "      <td>55.5</td>\n",
       "      <td>68.9</td>\n",
       "      <td>188.8</td>\n",
       "      <td>109.1</td>\n",
       "      <td>141</td>\n",
       "      <td>114.0</td>\n",
       "      <td>5400.0</td>\n",
       "      <td>19</td>\n",
       "    </tr>\n",
       "    <tr>\n",
       "      <th>190</th>\n",
       "      <td>51.4</td>\n",
       "      <td>64.0</td>\n",
       "      <td>165.7</td>\n",
       "      <td>94.5</td>\n",
       "      <td>109</td>\n",
       "      <td>90.0</td>\n",
       "      <td>5500.0</td>\n",
       "      <td>24</td>\n",
       "    </tr>\n",
       "    <tr>\n",
       "      <th>23</th>\n",
       "      <td>50.8</td>\n",
       "      <td>63.8</td>\n",
       "      <td>157.3</td>\n",
       "      <td>93.7</td>\n",
       "      <td>98</td>\n",
       "      <td>102.0</td>\n",
       "      <td>5500.0</td>\n",
       "      <td>24</td>\n",
       "    </tr>\n",
       "    <tr>\n",
       "      <th>186</th>\n",
       "      <td>55.7</td>\n",
       "      <td>65.5</td>\n",
       "      <td>171.7</td>\n",
       "      <td>97.3</td>\n",
       "      <td>109</td>\n",
       "      <td>85.0</td>\n",
       "      <td>5250.0</td>\n",
       "      <td>27</td>\n",
       "    </tr>\n",
       "    <tr>\n",
       "      <th>11</th>\n",
       "      <td>54.3</td>\n",
       "      <td>64.8</td>\n",
       "      <td>176.8</td>\n",
       "      <td>101.2</td>\n",
       "      <td>108</td>\n",
       "      <td>101.0</td>\n",
       "      <td>5800.0</td>\n",
       "      <td>23</td>\n",
       "    </tr>\n",
       "  </tbody>\n",
       "</table>\n",
       "</div>"
      ],
      "text/plain": [
       "     height  width  length  wheel-base  engine-size  horsepower  peak-rpm  \\\n",
       "204    55.5   68.9   188.8       109.1          141       114.0    5400.0   \n",
       "190    51.4   64.0   165.7        94.5          109        90.0    5500.0   \n",
       "23     50.8   63.8   157.3        93.7           98       102.0    5500.0   \n",
       "186    55.7   65.5   171.7        97.3          109        85.0    5250.0   \n",
       "11     54.3   64.8   176.8       101.2          108       101.0    5800.0   \n",
       "\n",
       "     city-mpg  \n",
       "204        19  \n",
       "190        24  \n",
       "23         24  \n",
       "186        27  \n",
       "11         23  "
      ]
     },
     "execution_count": 224,
     "metadata": {},
     "output_type": "execute_result"
    }
   ],
   "source": [
    "X_test.head()"
   ]
  },
  {
   "cell_type": "code",
   "execution_count": 225,
   "metadata": {},
   "outputs": [
    {
     "data": {
      "text/html": [
       "<div>\n",
       "<style scoped>\n",
       "    .dataframe tbody tr th:only-of-type {\n",
       "        vertical-align: middle;\n",
       "    }\n",
       "\n",
       "    .dataframe tbody tr th {\n",
       "        vertical-align: top;\n",
       "    }\n",
       "\n",
       "    .dataframe thead th {\n",
       "        text-align: right;\n",
       "    }\n",
       "</style>\n",
       "<table border=\"1\" class=\"dataframe\">\n",
       "  <thead>\n",
       "    <tr style=\"text-align: right;\">\n",
       "      <th></th>\n",
       "      <th>height</th>\n",
       "      <th>width</th>\n",
       "      <th>length</th>\n",
       "      <th>wheel-base</th>\n",
       "      <th>engine-size</th>\n",
       "      <th>horsepower</th>\n",
       "      <th>peak-rpm</th>\n",
       "      <th>city-mpg</th>\n",
       "    </tr>\n",
       "  </thead>\n",
       "  <tbody>\n",
       "    <tr>\n",
       "      <th>95</th>\n",
       "      <td>53.3</td>\n",
       "      <td>63.8</td>\n",
       "      <td>165.6</td>\n",
       "      <td>94.5</td>\n",
       "      <td>97</td>\n",
       "      <td>69.0</td>\n",
       "      <td>5200.0</td>\n",
       "      <td>31</td>\n",
       "    </tr>\n",
       "    <tr>\n",
       "      <th>45</th>\n",
       "      <td>52.0</td>\n",
       "      <td>63.6</td>\n",
       "      <td>155.9</td>\n",
       "      <td>94.5</td>\n",
       "      <td>90</td>\n",
       "      <td>70.0</td>\n",
       "      <td>5400.0</td>\n",
       "      <td>38</td>\n",
       "    </tr>\n",
       "    <tr>\n",
       "      <th>133</th>\n",
       "      <td>56.1</td>\n",
       "      <td>66.5</td>\n",
       "      <td>186.6</td>\n",
       "      <td>99.1</td>\n",
       "      <td>121</td>\n",
       "      <td>110.0</td>\n",
       "      <td>5250.0</td>\n",
       "      <td>21</td>\n",
       "    </tr>\n",
       "    <tr>\n",
       "      <th>33</th>\n",
       "      <td>52.6</td>\n",
       "      <td>64.0</td>\n",
       "      <td>150.0</td>\n",
       "      <td>93.7</td>\n",
       "      <td>92</td>\n",
       "      <td>76.0</td>\n",
       "      <td>6000.0</td>\n",
       "      <td>30</td>\n",
       "    </tr>\n",
       "    <tr>\n",
       "      <th>134</th>\n",
       "      <td>56.1</td>\n",
       "      <td>66.5</td>\n",
       "      <td>186.6</td>\n",
       "      <td>99.1</td>\n",
       "      <td>121</td>\n",
       "      <td>110.0</td>\n",
       "      <td>5250.0</td>\n",
       "      <td>21</td>\n",
       "    </tr>\n",
       "  </tbody>\n",
       "</table>\n",
       "</div>"
      ],
      "text/plain": [
       "     height  width  length  wheel-base  engine-size  horsepower  peak-rpm  \\\n",
       "95     53.3   63.8   165.6        94.5           97        69.0    5200.0   \n",
       "45     52.0   63.6   155.9        94.5           90        70.0    5400.0   \n",
       "133    56.1   66.5   186.6        99.1          121       110.0    5250.0   \n",
       "33     52.6   64.0   150.0        93.7           92        76.0    6000.0   \n",
       "134    56.1   66.5   186.6        99.1          121       110.0    5250.0   \n",
       "\n",
       "     city-mpg  \n",
       "95         31  \n",
       "45         38  \n",
       "133        21  \n",
       "33         30  \n",
       "134        21  "
      ]
     },
     "execution_count": 225,
     "metadata": {},
     "output_type": "execute_result"
    }
   ],
   "source": [
    "X_train.head()"
   ]
  },
  {
   "cell_type": "code",
   "execution_count": 226,
   "metadata": {},
   "outputs": [
    {
     "data": {
      "text/plain": [
       "95     2028\n",
       "45     1909\n",
       "133    2695\n",
       "33     1940\n",
       "134    2707\n",
       "Name: curb-weight, dtype: int64"
      ]
     },
     "execution_count": 226,
     "metadata": {},
     "output_type": "execute_result"
    }
   ],
   "source": [
    "y_train.head()"
   ]
  },
  {
   "cell_type": "markdown",
   "metadata": {},
   "source": [
    "### Model Training & Cross Validation"
   ]
  },
  {
   "cell_type": "markdown",
   "metadata": {},
   "source": [
    "#### linear regression model1"
   ]
  },
  {
   "cell_type": "code",
   "execution_count": 227,
   "metadata": {},
   "outputs": [
    {
     "data": {
      "text/html": [
       "<div>\n",
       "<style scoped>\n",
       "    .dataframe tbody tr th:only-of-type {\n",
       "        vertical-align: middle;\n",
       "    }\n",
       "\n",
       "    .dataframe tbody tr th {\n",
       "        vertical-align: top;\n",
       "    }\n",
       "\n",
       "    .dataframe thead th {\n",
       "        text-align: right;\n",
       "    }\n",
       "</style>\n",
       "<table border=\"1\" class=\"dataframe\">\n",
       "  <thead>\n",
       "    <tr style=\"text-align: right;\">\n",
       "      <th></th>\n",
       "      <th>engine-size</th>\n",
       "      <th>width</th>\n",
       "      <th>length</th>\n",
       "    </tr>\n",
       "  </thead>\n",
       "  <tbody>\n",
       "    <tr>\n",
       "      <th>95</th>\n",
       "      <td>97</td>\n",
       "      <td>63.8</td>\n",
       "      <td>165.6</td>\n",
       "    </tr>\n",
       "    <tr>\n",
       "      <th>45</th>\n",
       "      <td>90</td>\n",
       "      <td>63.6</td>\n",
       "      <td>155.9</td>\n",
       "    </tr>\n",
       "    <tr>\n",
       "      <th>133</th>\n",
       "      <td>121</td>\n",
       "      <td>66.5</td>\n",
       "      <td>186.6</td>\n",
       "    </tr>\n",
       "    <tr>\n",
       "      <th>33</th>\n",
       "      <td>92</td>\n",
       "      <td>64.0</td>\n",
       "      <td>150.0</td>\n",
       "    </tr>\n",
       "    <tr>\n",
       "      <th>134</th>\n",
       "      <td>121</td>\n",
       "      <td>66.5</td>\n",
       "      <td>186.6</td>\n",
       "    </tr>\n",
       "  </tbody>\n",
       "</table>\n",
       "</div>"
      ],
      "text/plain": [
       "     engine-size  width  length\n",
       "95            97   63.8   165.6\n",
       "45            90   63.6   155.9\n",
       "133          121   66.5   186.6\n",
       "33            92   64.0   150.0\n",
       "134          121   66.5   186.6"
      ]
     },
     "execution_count": 227,
     "metadata": {},
     "output_type": "execute_result"
    }
   ],
   "source": [
    "# load the LinearRegression() function from sklearn's 'linear_model' sub-library\n",
    "from sklearn.linear_model import LinearRegression\n",
    "\n",
    "# load the cross_val_score function from the sklearn.model_selection module\n",
    "from sklearn.model_selection import cross_val_score\n",
    "\n",
    "# create a new dataframe containing only 'engine-size', 'width', 'length' variables (our explanatory variables for the linear\n",
    "# regression model)\n",
    "X1_train = X_train[['engine-size', 'width', 'length']].copy()\n",
    "\n",
    "# sanity check\n",
    "X1_train.head()"
   ]
  },
  {
   "cell_type": "code",
   "execution_count": 228,
   "metadata": {},
   "outputs": [
    {
     "name": "stdout",
     "output_type": "stream",
     "text": [
      "[0.88468484 0.92590267 0.79833835 0.87708342 0.91382948]\n"
     ]
    }
   ],
   "source": [
    "# Assing the model function you want to use to a variable\n",
    "model = LinearRegression()\n",
    "\n",
    "# fit the model using 5-fold cross validation; note how the 'model' variable created above is used as a parameter for the \n",
    "# cross_val_score() function. Also note how we can specify the number of folds to use during cross validation via the 'cv' \n",
    "# parameter\n",
    "scores = cross_val_score(model, X1_train, y_train, cv=5)\n",
    "\n",
    "# print out the R^2 metrics derived from the K-fold cross validation of our linear regression model\n",
    "print (scores)"
   ]
  },
  {
   "cell_type": "code",
   "execution_count": 229,
   "metadata": {},
   "outputs": [
    {
     "data": {
      "text/plain": [
       "0.8799677520440217"
      ]
     },
     "execution_count": 229,
     "metadata": {},
     "output_type": "execute_result"
    }
   ],
   "source": [
    "# calculate the average R^2 across all 5 folds\n",
    "np.mean(scores)"
   ]
  },
  {
   "cell_type": "markdown",
   "metadata": {},
   "source": [
    "Our 5-fold cross validation shows that our model has a cross validated R^2 of 88%"
   ]
  },
  {
   "cell_type": "markdown",
   "metadata": {},
   "source": [
    "#### linear regression model2"
   ]
  },
  {
   "cell_type": "code",
   "execution_count": 230,
   "metadata": {},
   "outputs": [
    {
     "data": {
      "text/html": [
       "<div>\n",
       "<style scoped>\n",
       "    .dataframe tbody tr th:only-of-type {\n",
       "        vertical-align: middle;\n",
       "    }\n",
       "\n",
       "    .dataframe tbody tr th {\n",
       "        vertical-align: top;\n",
       "    }\n",
       "\n",
       "    .dataframe thead th {\n",
       "        text-align: right;\n",
       "    }\n",
       "</style>\n",
       "<table border=\"1\" class=\"dataframe\">\n",
       "  <thead>\n",
       "    <tr style=\"text-align: right;\">\n",
       "      <th></th>\n",
       "      <th>wheel-base</th>\n",
       "      <th>engine-size</th>\n",
       "      <th>horsepower</th>\n",
       "    </tr>\n",
       "  </thead>\n",
       "  <tbody>\n",
       "    <tr>\n",
       "      <th>95</th>\n",
       "      <td>94.5</td>\n",
       "      <td>97</td>\n",
       "      <td>69.0</td>\n",
       "    </tr>\n",
       "    <tr>\n",
       "      <th>45</th>\n",
       "      <td>94.5</td>\n",
       "      <td>90</td>\n",
       "      <td>70.0</td>\n",
       "    </tr>\n",
       "    <tr>\n",
       "      <th>133</th>\n",
       "      <td>99.1</td>\n",
       "      <td>121</td>\n",
       "      <td>110.0</td>\n",
       "    </tr>\n",
       "    <tr>\n",
       "      <th>33</th>\n",
       "      <td>93.7</td>\n",
       "      <td>92</td>\n",
       "      <td>76.0</td>\n",
       "    </tr>\n",
       "    <tr>\n",
       "      <th>134</th>\n",
       "      <td>99.1</td>\n",
       "      <td>121</td>\n",
       "      <td>110.0</td>\n",
       "    </tr>\n",
       "  </tbody>\n",
       "</table>\n",
       "</div>"
      ],
      "text/plain": [
       "     wheel-base  engine-size  horsepower\n",
       "95         94.5           97        69.0\n",
       "45         94.5           90        70.0\n",
       "133        99.1          121       110.0\n",
       "33         93.7           92        76.0\n",
       "134        99.1          121       110.0"
      ]
     },
     "execution_count": 230,
     "metadata": {},
     "output_type": "execute_result"
    }
   ],
   "source": [
    "# create a new dataframe containing only 'wheel-base', 'engine-size', 'horsepower' (our explanatory variables for the linear\n",
    "# regression model)\n",
    "X2_train = X_train[['wheel-base', 'engine-size', 'horsepower']].copy()\n",
    "\n",
    "# sanity check\n",
    "X2_train.head()"
   ]
  },
  {
   "cell_type": "code",
   "execution_count": 231,
   "metadata": {},
   "outputs": [
    {
     "name": "stdout",
     "output_type": "stream",
     "text": [
      "[0.90595087 0.87721701 0.75113981 0.85311855 0.88821842]\n"
     ]
    }
   ],
   "source": [
    "# fit the model using 5-fold cross validation; note how the 'model' variable created above is used as a parameter for the \n",
    "# cross_val_score() function. Also note how we can specify the number of folds to use during cross validation via the 'cv' \n",
    "# parameter\n",
    "scores2 = cross_val_score(model, X2_train, y_train, cv=5)\n",
    "\n",
    "# print out the R^2 metrics derived from the K-fold cross validation of our linear regression model\n",
    "print (scores2)"
   ]
  },
  {
   "cell_type": "code",
   "execution_count": 232,
   "metadata": {},
   "outputs": [
    {
     "data": {
      "text/plain": [
       "0.8551289302382239"
      ]
     },
     "execution_count": 232,
     "metadata": {},
     "output_type": "execute_result"
    }
   ],
   "source": [
    "# calculate the average R^2 across all 5 folds\n",
    "np.mean(scores2)"
   ]
  },
  {
   "cell_type": "markdown",
   "metadata": {},
   "source": [
    "Our 5-fold cross validation shows that our model has a cross validated R^2 of 85.5%"
   ]
  },
  {
   "cell_type": "markdown",
   "metadata": {},
   "source": [
    "## Conclusion"
   ]
  },
  {
   "cell_type": "markdown",
   "metadata": {},
   "source": [
    "From the R^2 scores, we can see that linear model 1 is better than another one.So 'engine-size', 'width', 'length' are better choices as explanatory variables to predict 'curb-weight'."
   ]
  },
  {
   "cell_type": "code",
   "execution_count": null,
   "metadata": {},
   "outputs": [],
   "source": []
  }
 ],
 "metadata": {
  "kernelspec": {
   "display_name": "Python 3",
   "language": "python",
   "name": "python3"
  },
  "language_info": {
   "codemirror_mode": {
    "name": "ipython",
    "version": 3
   },
   "file_extension": ".py",
   "mimetype": "text/x-python",
   "name": "python",
   "nbconvert_exporter": "python",
   "pygments_lexer": "ipython3",
   "version": "3.8.5"
  }
 },
 "nbformat": 4,
 "nbformat_minor": 4
}
